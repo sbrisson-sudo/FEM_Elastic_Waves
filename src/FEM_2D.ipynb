{
 "cells": [
  {
   "cell_type": "code",
   "execution_count": 3,
   "metadata": {},
   "outputs": [],
   "source": [
    "# importations\n",
    "using Printf\n",
    "import DelimitedFiles: readdlm\n",
    "using PyPlot ; const plt = PyPlot\n",
    "using PyCall: pyimport\n",
    "mpl = pyimport(\"matplotlib\")\n",
    "mpl.use(\"Qt5Agg\")\n",
    "using Revise: includet"
   ]
  },
  {
   "cell_type": "code",
   "execution_count": 4,
   "metadata": {},
   "outputs": [],
   "source": [
    "includet(\"./read_gmsh.jl\")"
   ]
  },
  {
   "cell_type": "code",
   "execution_count": 17,
   "metadata": {},
   "outputs": [
    {
     "data": {
      "text/plain": [
       "16-element Array{Array{Float64,1},1}:\n",
       " [0.0, 0.0]\n",
       " [0.0, 33.333333333333336]\n",
       " [0.0, 66.66666666666667]\n",
       " [0.0, 100.0]\n",
       " [33.333333333333336, 0.0]\n",
       " [33.333333333333336, 33.333333333333336]\n",
       " [33.333333333333336, 66.66666666666667]\n",
       " [33.333333333333336, 100.0]\n",
       " [66.66666666666667, 0.0]\n",
       " [66.66666666666667, 33.333333333333336]\n",
       " [66.66666666666667, 66.66666666666667]\n",
       " [66.66666666666667, 100.0]\n",
       " [100.0, 0.0]\n",
       " [100.0, 33.333333333333336]\n",
       " [100.0, 66.66666666666667]\n",
       " [100.0, 100.0]"
      ]
     },
     "execution_count": 17,
     "metadata": {},
     "output_type": "execute_result"
    }
   ],
   "source": [
    "# building simplest mesh : regular squares\n",
    "\n",
    "L = 100.0   # size of the domain\n",
    "N = 3     # number of cells\n",
    "Δx = L/N\n",
    "\n",
    "nodes = [[i*Δx, j*Δx] for i=0:N for j=0:N]\n",
    "elements = [[i*(N+1)+j,i*(N+1)+j+1,(i+1)*(N+1)+j,(i+1)*(N+1)+j+1] for i=0:N-1 for j=1:N]\n",
    "nodes"
   ]
  },
  {
   "cell_type": "code",
   "execution_count": null,
   "metadata": {},
   "outputs": [],
   "source": [
    "n"
   ]
  },
  {
   "cell_type": "code",
   "execution_count": 16,
   "metadata": {},
   "outputs": [],
   "source": [
    "plotMesh(nodes, elements)"
   ]
  },
  {
   "cell_type": "code",
   "execution_count": null,
   "metadata": {},
   "outputs": [],
   "source": []
  }
 ],
 "metadata": {
  "kernelspec": {
   "display_name": "Julia 1.4.1",
   "name": "julia-1.4"
  },
  "language_info": {
   "file_extension": ".jl",
   "mimetype": "application/julia",
   "name": "julia",
   "version": "1.4.1"
  },
  "orig_nbformat": 4
 },
 "nbformat": 4,
 "nbformat_minor": 2
}