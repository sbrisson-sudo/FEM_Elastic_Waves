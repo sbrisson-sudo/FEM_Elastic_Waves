{
 "cells": [
  {
   "cell_type": "code",
   "execution_count": 18,
   "metadata": {},
   "outputs": [
    {
     "name": "stdout",
     "output_type": "stream",
     "text": [
      "Code parallelized with 12 processes.\n"
     ]
    }
   ],
   "source": [
    "# importations\n",
    "\n",
    "import numpy as np\n",
    "import matplotlib.pyplot as plt\n",
    "import matplotlib.animation as animation\n",
    "import mpl_toolkits.axes_grid1 as axGrid\n",
    "import matplotlib as mpl\n",
    "mpl.style.use(\"./publication.mplstyle\")\n",
    "\n",
    "%matplotlib tk\n",
    "\n",
    "from copy import deepcopy\n",
    "\n",
    "# suivre avancements boucles\n",
    "from tqdm import tqdm\n",
    "\n",
    "# parallelisation (mémoire partagée)\n",
    "from multiprocess import Pool, cpu_count\n",
    "\n",
    "# module d'éléments finis\n",
    "from fem2D import *\n",
    "\n",
    "# for benchmarking\n",
    "from time import time\n",
    "\n",
    "# module de crétion de maillages simples (carrés et rectangles)\n",
    "from simpleMeshes import *\n",
    "\n",
    "nprocesses = cpu_count()\n",
    "print(f\"Code parallelized with {nprocesses} processes.\")"
   ]
  },
  {
   "cell_type": "code",
   "execution_count": 5,
   "metadata": {},
   "outputs": [
    {
     "name": "stdout",
     "output_type": "stream",
     "text": [
      "Nombre de noeuds : 10433\n",
      "Soit 20866 degrés de liberté pour un champ 2D\n"
     ]
    }
   ],
   "source": [
    "# efface un potentiel maillage déjà chargé\n",
    "eraseCurrentMesh()\n",
    "\n",
    "N = 4       # ordre des éléments\n",
    "\n",
    "file = f\"../meshes/city{N}.msh\"\n",
    "Δx = 25./4.\n",
    "elements, nodes = readGmsh4(file, []) \n",
    "\n",
    "dof = len(nodes)\n",
    "print(f\"Nombre de noeuds : {dof}\")\n",
    "print(f\"Soit {2*dof} degrés de liberté pour un champ 2D\")"
   ]
  },
  {
   "cell_type": "code",
   "execution_count": 6,
   "metadata": {},
   "outputs": [
    {
     "name": "stderr",
     "output_type": "stream",
     "text": [
      "No handles with labels found to put in legend.\n"
     ]
    },
    {
     "data": {
      "text/plain": [
       "<AxesSubplot:>"
      ]
     },
     "execution_count": 6,
     "metadata": {},
     "output_type": "execute_result"
    }
   ],
   "source": [
    "plotMesh(elements, nodes)"
   ]
  },
  {
   "cell_type": "code",
   "execution_count": 7,
   "metadata": {},
   "outputs": [],
   "source": [
    "# Chargement des points/poids d'intégration de GLL + dérivée des interpolateurs lagrangiens sur ces points\n",
    "xi,w,dh = readGLL(N)"
   ]
  },
  {
   "cell_type": "code",
   "execution_count": 8,
   "metadata": {},
   "outputs": [
    {
     "name": "stdout",
     "output_type": "stream",
     "text": [
      "Calcul du jacobien et de l'inverse de la matrice jacobienne:\n"
     ]
    },
    {
     "name": "stderr",
     "output_type": "stream",
     "text": [
      "100%|██████████| 632/632 [00:01<00:00, 429.04it/s]\n"
     ]
    }
   ],
   "source": [
    "# Pour chaque élément calcul:\n",
    "# - du jacobien\n",
    "# - de l'inverse de la matrice jacobienne\n",
    "# On choicit l'interpolation bilinéaire comme bijection depuis un élément quelconque vers l'élément de référence\n",
    "\n",
    "duphi = shapeFunctions[\"P1\"][\"duphi\"]\n",
    "dvphi = shapeFunctions[\"P1\"][\"dvphi\"]\n",
    "\n",
    "def computeJacobian(e):\n",
    "        \n",
    "    coords = e.getCoords()\n",
    "    X, Y = coords[:,0], coords[:,1]\n",
    "    \n",
    "    Je11 = np.zeros((N+1,N+1))\n",
    "    Je21 = np.zeros((N+1,N+1))\n",
    "    Je12 = np.zeros((N+1,N+1))\n",
    "    Je22 = np.zeros((N+1,N+1))\n",
    "    \n",
    "    e.detJ = np.zeros((N+1,N+1))\n",
    "    \n",
    "    e.iJe11 = np.zeros((N+1,N+1))\n",
    "    e.iJe21 = np.zeros((N+1,N+1))\n",
    "    e.iJe12 = np.zeros((N+1,N+1))\n",
    "    e.iJe22 = np.zeros((N+1,N+1))\n",
    "\n",
    "    dxdu = interp(duphi, X)\n",
    "    dxdv = interp(dvphi, X)        \n",
    "    dydu = interp(duphi, Y)\n",
    "    dydv = interp(dvphi, Y)\n",
    "    \n",
    "    for i in range(N+1):\n",
    "        for j in range(N+1):\n",
    "            \n",
    "            Je11[i,j] = dxdu(xi[i], xi[j])\n",
    "            Je21[i,j] = dxdv(xi[i], xi[j])\n",
    "            Je12[i,j] = dydu(xi[i], xi[j])\n",
    "            Je22[i,j] = dydv(xi[i], xi[j])\n",
    "            \n",
    "            e.detJ[i,j] = Je11[i,j]*Je22[i,j] - Je21[i,j]*Je12[i,j]\n",
    "            \n",
    "            e.iJe11[i,j] =  Je22[i,j]/e.detJ[i,j]\n",
    "            e.iJe22[i,j] =  Je11[i,j]/e.detJ[i,j]\n",
    "            e.iJe21[i,j] = -Je21[i,j]/e.detJ[i,j]\n",
    "            e.iJe12[i,j] = -Je12[i,j]/e.detJ[i,j]\n",
    "            \n",
    "    return e\n",
    "\n",
    "print(\"Calcul du jacobien et de l'inverse de la matrice jacobienne:\")\n",
    "with Pool(nprocesses) as p:\n",
    "    Element.id = 0\n",
    "    elements = list(tqdm(p.imap(computeJacobian, elements), total=len(elements)))"
   ]
  },
  {
   "cell_type": "code",
   "execution_count": 9,
   "metadata": {},
   "outputs": [
    {
     "name": "stdout",
     "output_type": "stream",
     "text": [
      "Vitesse des ondes P (pressure) : 3.795km/s\n",
      "Vitesse des ondes S (shear) : 2.191km/s\n"
     ]
    }
   ],
   "source": [
    "# définition des paramètres mécaniques (béton)\n",
    "\n",
    "E = 30e9        # module d'Young\n",
    "ν = 0.25        # coefficient de Poisson\n",
    "\n",
    "# paramètres de Lamé\n",
    "λ = (E*ν) / ((1+ν)*(1-2*ν))\n",
    "μ = E / (2*(1+ν))\n",
    "\n",
    "# masse volumique\n",
    "ρ = 2500.0\n",
    "\n",
    "# vitesses des ondes\n",
    "vp = np.sqrt((λ+2*μ)/ρ)\n",
    "vs =np.sqrt(μ/ρ)\n",
    "\n",
    "print(f\"Vitesse des ondes P (pressure) : {vp/1000:.3f}km/s\")\n",
    "print(f\"Vitesse des ondes S (shear) : {vs/1000:.3f}km/s\")"
   ]
  },
  {
   "cell_type": "code",
   "execution_count": 10,
   "metadata": {},
   "outputs": [
    {
     "name": "stdout",
     "output_type": "stream",
     "text": [
      "Calcul des matrices de rigidité (stiffness) élémentaires:\n"
     ]
    },
    {
     "name": "stderr",
     "output_type": "stream",
     "text": [
      "100%|██████████| 632/632 [00:15<00:00, 40.60it/s]\n"
     ]
    }
   ],
   "source": [
    "# calcul des matrices élémentaires\n",
    "\n",
    "δ = np.eye(N+1)\n",
    "\n",
    "def computeStiffnes(e):\n",
    "    \n",
    "    # KeTemp = np.zeros((N+1,N+1,N+1,N+1))\n",
    "    e.Ke = np.zeros((2*(N+1)**2,2*(N+1)**2))\n",
    "    \n",
    "    Kdxdx = np.zeros((N+1,N+1,N+1,N+1))\n",
    "    Kdydy = np.zeros((N+1,N+1,N+1,N+1))\n",
    "    Kdxdy = np.zeros((N+1,N+1,N+1,N+1))\n",
    "    Kdydx = np.zeros((N+1,N+1,N+1,N+1))\n",
    "    \n",
    "    for a in range(N+1):\n",
    "        for b in range(N+1):\n",
    "            for c in range(N+1):\n",
    "                for d in range(N+1):\n",
    "                       \n",
    "                        for p in range(N+1):\n",
    "                            for q in range(N+1):\n",
    "                                \n",
    "                                Kdxdx[a,b,c,d] += w[p]*w[q] * (e.iJe11[p,q]*dh[a,p]*δ[b,q] + e.iJe12[p,q]*dh[b,q]*δ[a,p])*(e.iJe11[p,q]*dh[c,p]*δ[d,q] + e.iJe12[p,q]*dh[d,q]*δ[c,p]) * e.detJ[p,q]\n",
    "                                Kdydy[a,b,c,d] += w[p]*w[q] * (e.iJe21[p,q]*dh[a,p]*δ[b,q] + e.iJe22[p,q]*dh[b,q]*δ[a,p])*(e.iJe21[p,q]*dh[c,p]*δ[d,q] + e.iJe22[p,q]*dh[d,q]*δ[c,p]) * e.detJ[p,q]\n",
    "                                Kdxdy[a,b,c,d] += w[p]*w[q] * (e.iJe11[p,q]*dh[a,p]*δ[b,q] + e.iJe12[p,q]*dh[b,q]*δ[a,p])*(e.iJe21[p,q]*dh[c,p]*δ[d,q] + e.iJe22[p,q]*dh[d,q]*δ[c,p]) * e.detJ[p,q]\n",
    "                                Kdydx[a,b,c,d] += w[p]*w[q] * (e.iJe21[p,q]*dh[a,p]*δ[b,q] + e.iJe22[p,q]*dh[b,q]*δ[a,p])*(e.iJe21[p,q]*dh[c,p]*δ[d,q] + e.iJe22[p,q]*dh[d,q]*δ[c,p]) * e.detJ[p,q]\n",
    "                                \n",
    "    for i in range(2*(N+1)**2):\n",
    "        for j in range(2*(N+1)**2):\n",
    "            \n",
    "            a,b = i//2//(N+1), i//2%(N+1)\n",
    "            c,d = j//2//(N+1), j//2%(N+1)\n",
    "            \n",
    "            if i%2 == 0 and j%2 == 0:\n",
    "                \n",
    "                e.Ke[i,j] = (2*λ+μ)*Kdxdx[a,b,c,d] + μ*Kdydy[a,b,c,d]             \n",
    "                \n",
    "            if i%2 == 0 and j%2 != 0:\n",
    "                \n",
    "                e.Ke[i,j] = λ*Kdxdy[a,b,c,d] + μ*Kdydx[a,b,c,d]      \n",
    "            \n",
    "            if i%2 != 0 and j%2 == 0:\n",
    "                \n",
    "                e.Ke[i,j] = λ*Kdydx[a,b,c,d] + μ*Kdxdy[a,b,c,d]             \n",
    "                \n",
    "            if i%2 != 0 and j%2 != 0:\n",
    "                \n",
    "                e.Ke[i,j] = (2*λ+μ)*Kdydy[a,b,c,d] + μ*Kdxdx[a,b,c,d] \n",
    "                                \n",
    "    return e\n",
    "\n",
    "# elements = list(tqdm(map(computeStiffnes, elements), total=len(elements)))\n",
    "\n",
    "print(\"Calcul des matrices de rigidité (stiffness) élémentaires:\")\n",
    "with Pool(nprocesses) as p:\n",
    "    Element.id = 0\n",
    "    elements = list(tqdm(p.imap(computeStiffnes, elements), total=len(elements)))"
   ]
  },
  {
   "cell_type": "code",
   "execution_count": 11,
   "metadata": {},
   "outputs": [
    {
     "name": "stdout",
     "output_type": "stream",
     "text": [
      "Calcul des matrices de masse élémentaires:\n"
     ]
    },
    {
     "name": "stderr",
     "output_type": "stream",
     "text": [
      "100%|██████████| 632/632 [00:00<00:00, 19987.03it/s]\n"
     ]
    }
   ],
   "source": [
    "print(\"Calcul des matrices de masse élémentaires:\")\n",
    "for e in tqdm(elements):\n",
    "    \n",
    "    e.Me = np.zeros(2*(N+1)**2) # diagonal\n",
    "    \n",
    "    for i in range(2*(N+1)**2):\n",
    "        e.Me[i] = ρ * w[i//2//(N+1)]*w[i//2%(N+1)]*e.detJ[i//2//(N+1),i//2%(N+1)]"
   ]
  },
  {
   "cell_type": "code",
   "execution_count": 12,
   "metadata": {},
   "outputs": [
    {
     "name": "stdout",
     "output_type": "stream",
     "text": [
      "Assemblage des matrices globales K et M:\n"
     ]
    },
    {
     "name": "stderr",
     "output_type": "stream",
     "text": [
      "100%|██████████| 632/632 [00:01<00:00, 571.92it/s]\n"
     ]
    }
   ],
   "source": [
    "# assemblage\n",
    "\n",
    "print(\"Assemblage des matrices globales K et M:\")\n",
    "\n",
    "K = np.zeros((2*dof,2*dof))\n",
    "M = np.zeros(2*dof)\n",
    "\n",
    "for e in tqdm(elements):\n",
    "    for (i,n1) in enumerate(e.nodes):\n",
    "        M[2*n1.id] += e.Me[2*i]\n",
    "        M[2*n1.id+1] += e.Me[2*i+1]\n",
    "        for (j,n2) in enumerate(e.nodes):\n",
    "            K[2*n1.id,2*n2.id] += e.Ke[2*i,2*j]\n",
    "            K[2*n1.id+1,2*n2.id] += e.Ke[2*i+1,2*j]\n",
    "            K[2*n1.id,2*n2.id+1] += e.Ke[2*i,2*j+1]\n",
    "            K[2*n1.id+1,2*n2.id+1] += e.Ke[2*i+1,2*j+1]"
   ]
  },
  {
   "cell_type": "code",
   "execution_count": 13,
   "metadata": {},
   "outputs": [],
   "source": [
    "# inversion de la matrice de masse\n",
    "iM = 1/M"
   ]
  },
  {
   "cell_type": "code",
   "execution_count": 48,
   "metadata": {},
   "outputs": [],
   "source": [
    "# résolution temporelle\n",
    "\n",
    "Nit = 2000       # nombre d'itérations\n",
    "cfl = 0.25      # critère de CFL\n",
    "Δt = Δx/vp* cfl # calcul du dt tel que vérfiant le critère de CFL (vp vitesse max)\n",
    "T = Δt*Nit      # temps total de simulation\n",
    "timeSim = np.linspace(0,T,Nit)\n",
    "\n",
    "\n",
    "U = np.zeros((Nit, 2*dof))  # initialisation du vecteur de déplacements\n",
    "dU = np.zeros((Nit, 2*dof))\n",
    "ddU = np.zeros((Nit, 2*dof))\n",
    "F = np.zeros(2*dof)\n",
    "\n",
    "t0 = T/9        # tuning\n",
    "f0 = vs/(10*Δx)     # tuning\n",
    "f = lambda t : (4*(t-t0)**2*f0**4 - 2*f0**2)*np.exp(-(t-t0)**2*f0**2)\n",
    "noeudSource = getCenterNode(nodes)"
   ]
  },
  {
   "cell_type": "code",
   "execution_count": 49,
   "metadata": {},
   "outputs": [
    {
     "name": "stdout",
     "output_type": "stream",
     "text": [
      "CFL = 0.25\n",
      "Longeur d'onde pertubation grande devant distance internoeuds : Δx = 6.25m while λmin ~ 15.624999999999998m\n"
     ]
    }
   ],
   "source": [
    "# tests sur valeurs paramètres\n",
    "print(f\"CFL = {Δt/Δx*vp:.4g}\")\n",
    "print(f\"Longeur d'onde pertubation grande devant distance internoeuds : Δx = {Δx}m while λmin ~ {vs/(4*f0)}m\")"
   ]
  },
  {
   "cell_type": "code",
   "execution_count": 50,
   "metadata": {},
   "outputs": [
    {
     "data": {
      "text/plain": [
       "[<matplotlib.lines.Line2D at 0x7f2527d6d5b0>]"
      ]
     },
     "execution_count": 50,
     "metadata": {},
     "output_type": "execute_result"
    },
    {
     "data": {
      "image/png": "[encoded data removed]",
      "text/plain": [
       "<Figure size 432x288 with 1 Axes>"
      ]
     },
     "metadata": {
      "needs_background": "light"
     },
     "output_type": "display_data"
    }
   ],
   "source": [
    "%matplotlib inline\n",
    "plt.plot(timeSim, f(timeSim))"
   ]
  },
  {
   "cell_type": "code",
   "execution_count": 51,
   "metadata": {},
   "outputs": [
    {
     "name": "stdout",
     "output_type": "stream",
     "text": [
      "Mean iteration time = 0.0582s= 0.0584s\n"
     ]
    }
   ],
   "source": [
    "# source = force simple selon 1 direction\n",
    "\n",
    "U[:,:] = 0.0\n",
    "dU[:,:] = 0.0\n",
    "ddU[:,:] = 0.0\n",
    "F[:] = 0.0\n",
    "\n",
    "timeIt = np.zeros(Nit-2)\n",
    "\n",
    "# Displacement base scheme\n",
    "\n",
    "# for i in range(2,Nit):\n",
    "#     t = time()\n",
    "#     F[2*noeudSource] = f(i*Δt)\n",
    "#     U[i,:] = 2*U[i-1,:] - U[i-2,:] + Δt**2*np.multiply(iM , F - K@U[i-1,:])\n",
    "#     timeIt[i-2] = time() - t\n",
    "#     print(f\"\\rIteration {i}/{Nit} - timeIt = {time() - t:.4f}s\", end=\"\")                          \n",
    "# print(f\"\\rMean iteration time = {np.mean(timeIt):.4f}s\")\n",
    "\n",
    "\n",
    "# Newmark scheme\n",
    "\n",
    "for i in range(2,Nit):\n",
    "    t = time()\n",
    "    F[2*noeudSource] = f(i*Δt)\n",
    "    U[i,:] = U[i-1,:] + Δt*dU[i-1,:] + Δt**2/2*ddU[i-1,:]\n",
    "    ddU[i,:] = np.multiply(iM, F - K@U[i,:])\n",
    "    dU[i,:] = dU[i-1,:] + Δt/2*(ddU[i-1,:] + ddU[i,:])\n",
    "    timeIt[i-2] = time() - t\n",
    "    print(f\"\\rIteration {i}/{Nit} - timeIt = {time() - t:.4f}s\", end=\"\")                          \n",
    "print(f\"\\nMean iteration time = {np.mean(timeIt):.4f}s\")"
   ]
  },
  {
   "cell_type": "code",
   "execution_count": 56,
   "metadata": {},
   "outputs": [],
   "source": [
    "%matplotlib tk\n",
    "\n",
    "fig, ax = plt.subplots(figsize = (10,6))\n",
    "ax.set_aspect(\"equal\", \"box\")\n",
    "\n",
    "dax = axGrid.make_axes_locatable(ax)\n",
    "cax = dax.append_axes(\"right\", size=\"5%\", pad=0.05)\n",
    "\n",
    "displ = U[:,1::2]\n",
    "label = \"Displacement in X direction (m)\"\n",
    "\n",
    "dmin = min(displ.min(), -displ.max())/30\n",
    "dmin = 1e-8\n",
    "\n",
    "dots = ax.scatter([n.x for n in nodes], [n.y for n in nodes], marker=\".\",c=displ[0,:], zorder=4, cmap=\"seismic\", vmin=dmin, vmax=-dmin)\n",
    "\n",
    "cbar = plt.colorbar(dots, label = label, cax=cax)\n",
    "ttl = ax.annotate(\"it = 0\\ntime = 0.0s\", xy=(0.05, 0.05), xycoords='axes fraction', bbox=dict(facecolor='white', edgecolor='grey'), zorder=5)\n",
    "\n",
    "dit = 5\n",
    "\n",
    "def animate(i):\n",
    "    dots.set_array(displ[dit*i,:])\n",
    "    cbar.update_normal(dots)\n",
    "    ttl.set_text(f\"it = {dit*i}\\ntime = {dit*i*Δt:.3f}s\")\n",
    "    return dots,ttl,\n",
    "\n",
    "ani = animation.FuncAnimation(fig, animate, interval=30, blit=True, frames = int(Nit/dit))\n",
    "\n",
    "ani.event_source.start()\n",
    "plt.show()\n",
    "\n",
    "# enregistrement de l'animation\n",
    "\n",
    "# writer = animation.PillowWriter(fps=15) \n",
    "# file = \"../data/instabOndeElastiques.gif\"\n",
    "\n",
    "writer = animation.FFMpegWriter(fps=15, bitrate=-1) \n",
    "file = \"../figures/citySeismInstabLowFrequency.mp4\"\n",
    "\n",
    "ani.save(file, writer=writer, dpi = 500)"
   ]
  },
  {
   "cell_type": "code",
   "execution_count": null,
   "metadata": {},
   "outputs": [],
   "source": []
  },
  {
   "cell_type": "code",
   "execution_count": null,
   "metadata": {},
   "outputs": [],
   "source": []
  }
 ],
 "metadata": {
  "interpreter": {
   "hash": "47558f5d1345b312ea7cbe4d32be71183e95bb01b25d23a408d164bfdcf9fcf4"
  },
  "kernelspec": {
   "display_name": "Python 3.8.8 64-bit ('base': conda)",
   "language": "python",
   "name": "python3"
  },
  "language_info": {
   "codemirror_mode": {
    "name": "ipython",
    "version": 3
   },
   "file_extension": ".py",
   "mimetype": "text/x-python",
   "name": "python",
   "nbconvert_exporter": "python",
   "pygments_lexer": "ipython3",
   "version": "3.8.8"
  },
  "orig_nbformat": 4
 },
 "nbformat": 4,
 "nbformat_minor": 2
}
