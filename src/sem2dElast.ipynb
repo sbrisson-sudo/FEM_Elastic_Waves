{
 "cells": [
  {
   "cell_type": "code",
   "execution_count": 1,
   "metadata": {},
   "outputs": [],
   "source": [
    "%load_ext autoreload\n",
    "%autoreload "
   ]
  },
  {
   "cell_type": "code",
   "execution_count": 5,
   "metadata": {},
   "outputs": [
    {
     "name": "stdout",
     "output_type": "stream",
     "text": [
      "Code parallelized with 12 processes.\n"
     ]
    }
   ],
   "source": [
    "import numpy as np\n",
    "import matplotlib.pyplot as plt\n",
    "from tqdm import tqdm\n",
    "from multiprocess import Pool, cpu_count\n",
    "\n",
    "from fem2D import *\n",
    "from simpleMeshes import *\n",
    "\n",
    "\n",
    "nprocesses = cpu_count()\n",
    "print(f\"Code parallelized with {nprocesses} processes.\")"
   ]
  },
  {
   "cell_type": "code",
   "execution_count": 12,
   "metadata": {},
   "outputs": [
    {
     "name": "stdout",
     "output_type": "stream",
     "text": [
      "dof=205\n"
     ]
    }
   ],
   "source": [
    "# chargement du maillage\n",
    "\n",
    "eraseCurrentMesh()\n",
    "\n",
    "N = 2       # elements order\n",
    "\n",
    "Lx = 1000.0   \n",
    "Ly = 100.0\n",
    "dx = 50.0    # elements size\n",
    "elements, nodes = rectangleMesh(Lx, Ly, dx, N)\n",
    "Δx = dx/(N+1) \n",
    "\n",
    "dof = len(nodes)\n",
    "print(f\"{dof=}\")"
   ]
  },
  {
   "cell_type": "code",
   "execution_count": 13,
   "metadata": {},
   "outputs": [
    {
     "data": {
      "text/plain": [
       "<AxesSubplot:>"
      ]
     },
     "execution_count": 13,
     "metadata": {},
     "output_type": "execute_result"
    },
    {
     "data": {
      "image/png": "[encoded data removed]",
      "text/plain": [
       "<Figure size 432x432 with 1 Axes>"
      ]
     },
     "metadata": {
      "needs_background": "light"
     },
     "output_type": "display_data"
    }
   ],
   "source": [
    "plotMesh(elements, nodes, [3,5]) "
   ]
  },
  {
   "cell_type": "code",
   "execution_count": 14,
   "metadata": {},
   "outputs": [
    {
     "name": "stdout",
     "output_type": "stream",
     "text": [
      "N=2\n",
      "xi=array([-1.,  0.,  1.])\n"
     ]
    }
   ],
   "source": [
    "# Chargement des points/poids d'intégration de GLL + dérivée des interpolateurs lagrangiens sur ces points\n",
    "\n",
    "N = int(np.sqrt(len(elements[0].nodes))) - 1\n",
    "\n",
    "if N == 1:\n",
    "    raise(Exception(\"Please use classical FEM (linear) for order 1 mesh\"))\n",
    "\n",
    "xi,w,dh = readGLL(N)\n",
    "\n",
    "print(f\"{N=}\")\n",
    "print(f\"{xi=}\")"
   ]
  },
  {
   "cell_type": "code",
   "execution_count": 15,
   "metadata": {},
   "outputs": [
    {
     "name": "stderr",
     "output_type": "stream",
     "text": [
      "100%|██████████| 40/40 [00:00<00:00, 3102.64it/s]\n"
     ]
    }
   ],
   "source": [
    "# Pour chaque élément calcul:\n",
    "# - du jacobien\n",
    "# - de l'inverse de la matrice jacobienne\n",
    "# La transformation depuis un élément quelconque vers l'élément de référence est l'interpolation bilinéaire\n",
    "\n",
    "duphi = shapeFunctions[\"P1\"][\"duphi\"]\n",
    "dvphi = shapeFunctions[\"P1\"][\"dvphi\"]\n",
    "\n",
    "def computeJacobian(e):\n",
    "        \n",
    "    coords = e.getCoords()\n",
    "    X, Y = coords[:,0], coords[:,1]\n",
    "    \n",
    "    Je11 = np.zeros((N+1,N+1))\n",
    "    Je21 = np.zeros((N+1,N+1))\n",
    "    Je12 = np.zeros((N+1,N+1))\n",
    "    Je22 = np.zeros((N+1,N+1))\n",
    "    \n",
    "    e.detJ = np.zeros((N+1,N+1))\n",
    "    \n",
    "    e.iJe11 = np.zeros((N+1,N+1))\n",
    "    e.iJe21 = np.zeros((N+1,N+1))\n",
    "    e.iJe12 = np.zeros((N+1,N+1))\n",
    "    e.iJe22 = np.zeros((N+1,N+1))\n",
    "\n",
    "    dxdu = interp(duphi, X)\n",
    "    dxdv = interp(dvphi, X)        \n",
    "    dydu = interp(duphi, Y)\n",
    "    dydv = interp(dvphi, Y)\n",
    "    \n",
    "    \n",
    "    for i in range(N+1):\n",
    "        for j in range(N+1):\n",
    "            \n",
    "            Je11[i,j] = dxdu(xi[i], xi[j])\n",
    "            Je21[i,j] = dxdv(xi[i], xi[j])\n",
    "            Je12[i,j] = dydu(xi[i], xi[j])\n",
    "            Je22[i,j] = dydv(xi[i], xi[j])\n",
    "            \n",
    "            e.detJ[i,j] = Je11[i,j]*Je22[i,j] - Je21[i,j]*Je12[i,j]\n",
    "            \n",
    "            e.iJe11[i,j] =  Je22[i,j]/e.detJ[i,j]\n",
    "            e.iJe22[i,j] =  Je11[i,j]/e.detJ[i,j]\n",
    "            e.iJe21[i,j] = -Je21[i,j]/e.detJ[i,j]\n",
    "            e.iJe12[i,j] = -Je12[i,j]/e.detJ[i,j]\n",
    "            \n",
    "    return e\n",
    "    \n",
    "with Pool(nprocesses) as p:\n",
    "    Element.id = 0\n",
    "    elements = list(tqdm(p.imap(computeJacobian, elements), total=len(elements)))"
   ]
  },
  {
   "cell_type": "code",
   "execution_count": 16,
   "metadata": {},
   "outputs": [],
   "source": [
    "E = 11       # module d'Young\n",
    "ν = 0.15     # coefficient de Poisson\n",
    "\n",
    "# paramètres de Lamé\n",
    "λ = (E*ν) / ((1+ν)*(1-2*ν))\n",
    "μ = E / (2*(1+ν))"
   ]
  },
  {
   "cell_type": "code",
   "execution_count": 17,
   "metadata": {},
   "outputs": [
    {
     "name": "stdout",
     "output_type": "stream",
     "text": [
      "0 0.3333333333333333\n",
      "1 1.333333333333333\n",
      "2 0.3333333333333333\n"
     ]
    }
   ],
   "source": [
    "for i in range(N+1):\n",
    "    print(i, w[i])"
   ]
  },
  {
   "cell_type": "code",
   "execution_count": 18,
   "metadata": {},
   "outputs": [
    {
     "name": "stderr",
     "output_type": "stream",
     "text": [
      "100%|██████████| 40/40 [00:00<00:00, 335.16it/s]\n"
     ]
    }
   ],
   "source": [
    "# calcul des matrices élémentaires\n",
    "\n",
    "δ = np.eye(N+1)\n",
    "\n",
    "def computeStiffnes(e):\n",
    "    \n",
    "    # KeTemp = np.zeros((N+1,N+1,N+1,N+1))\n",
    "    e.Ke = np.zeros((2*(N+1)**2,2*(N+1)**2))\n",
    "    \n",
    "    Kdxdx = np.zeros((N+1,N+1,N+1,N+1))\n",
    "    Kdydy = np.zeros((N+1,N+1,N+1,N+1))\n",
    "    Kdxdy = np.zeros((N+1,N+1,N+1,N+1))\n",
    "    Kdydx = np.zeros((N+1,N+1,N+1,N+1))\n",
    "    \n",
    "    for a in range(N+1):\n",
    "        for b in range(N+1):\n",
    "            for c in range(N+1):\n",
    "                for d in range(N+1):\n",
    "                       \n",
    "                        for p in range(N+1):\n",
    "                            for q in range(N+1):\n",
    "                                \n",
    "                                Kdxdx[a,b,c,d] += w[p]*w[q] * (e.iJe11[p,q]*dh[a,p]*δ[b,q] + e.iJe12[p,q]*dh[b,q]*δ[a,p])*(e.iJe11[p,q]*dh[c,p]*δ[d,q] + e.iJe12[p,q]*dh[d,q]*δ[c,p]) * e.detJ[p,q]\n",
    "                                Kdydy[a,b,c,d] += w[p]*w[q] * (e.iJe21[p,q]*dh[a,p]*δ[b,q] + e.iJe22[p,q]*dh[b,q]*δ[a,p])*(e.iJe21[p,q]*dh[c,p]*δ[d,q] + e.iJe22[p,q]*dh[d,q]*δ[c,p]) * e.detJ[p,q]\n",
    "                                Kdxdy[a,b,c,d] += w[p]*w[q] * (e.iJe11[p,q]*dh[a,p]*δ[b,q] + e.iJe12[p,q]*dh[b,q]*δ[a,p])*(e.iJe21[p,q]*dh[c,p]*δ[d,q] + e.iJe22[p,q]*dh[d,q]*δ[c,p]) * e.detJ[p,q]\n",
    "                                Kdydx[a,b,c,d] += w[p]*w[q] * (e.iJe21[p,q]*dh[a,p]*δ[b,q] + e.iJe22[p,q]*dh[b,q]*δ[a,p])*(e.iJe21[p,q]*dh[c,p]*δ[d,q] + e.iJe22[p,q]*dh[d,q]*δ[c,p]) * e.detJ[p,q]\n",
    "                                \n",
    "    for i in range(2*(N+1)**2):\n",
    "        for j in range(2*(N+1)**2):\n",
    "            \n",
    "            a,b = i//2//(N+1), i//2%(N+1)\n",
    "            c,d = j//2//(N+1), j//2%(N+1)\n",
    "            \n",
    "            if i%2 == 0 and j%2 == 0:\n",
    "                \n",
    "                e.Ke[i,j] = (2*λ+μ)*Kdxdx[a,b,c,d] + μ*Kdydy[a,b,c,d]             \n",
    "                \n",
    "            if i%2 == 0 and j%2 != 0:\n",
    "                \n",
    "                e.Ke[i,j] = λ*Kdxdy[a,b,c,d] + μ*Kdydx[a,b,c,d]      \n",
    "            \n",
    "            if i%2 != 0 and j%2 == 0:\n",
    "                \n",
    "                e.Ke[i,j] = λ*Kdydx[a,b,c,d] + μ*Kdxdy[a,b,c,d]             \n",
    "                \n",
    "            if i%2 != 0 and j%2 != 0:\n",
    "                \n",
    "                e.Ke[i,j] = (2*λ+μ)*Kdydy[a,b,c,d] + μ*Kdxdx[a,b,c,d] \n",
    "                                \n",
    "    return e\n",
    "\n",
    "# elements = list(tqdm(map(computeStiffnes, elements), total=len(elements)))\n",
    "\n",
    "with Pool(nprocesses) as p:\n",
    "    Element.id = 0\n",
    "    elements = list(tqdm(p.imap(computeStiffnes, elements), total=len(elements)))"
   ]
  },
  {
   "cell_type": "code",
   "execution_count": 19,
   "metadata": {},
   "outputs": [
    {
     "data": {
      "text/plain": [
       "<matplotlib.colorbar.Colorbar at 0x7f731e4b5940>"
      ]
     },
     "execution_count": 19,
     "metadata": {},
     "output_type": "execute_result"
    },
    {
     "data": {
      "image/png": "[encoded data removed]",
      "text/plain": [
       "<Figure size 432x288 with 2 Axes>"
      ]
     },
     "metadata": {
      "needs_background": "light"
     },
     "output_type": "display_data"
    }
   ],
   "source": [
    "Ke = elements[3].Ke\n",
    "minKe = min(Ke.min(), -Ke.max())\n",
    "plt.imshow(Ke, cmap=\"seismic\", vmin=minKe, vmax=-minKe)\n",
    "plt.colorbar()"
   ]
  },
  {
   "cell_type": "code",
   "execution_count": 20,
   "metadata": {},
   "outputs": [
    {
     "name": "stderr",
     "output_type": "stream",
     "text": [
      "100%|██████████| 40/40 [00:00<00:00, 2733.07it/s]\n"
     ]
    }
   ],
   "source": [
    "# assemblage\n",
    "\n",
    "K = np.zeros((2*dof,2*dof))\n",
    "F = np.zeros(2*dof)\n",
    "\n",
    "for e in tqdm(elements):\n",
    "    for (i,n1) in enumerate(e.nodes):\n",
    "        for (j,n2) in enumerate(e.nodes):\n",
    "            K[2*n1.id,2*n2.id] += e.Ke[2*i,2*j]\n",
    "            K[2*n1.id+1,2*n2.id] += e.Ke[2*i+1,2*j]\n",
    "            K[2*n1.id,2*n2.id+1] += e.Ke[2*i,2*j+1]\n",
    "            K[2*n1.id+1,2*n2.id+1] += e.Ke[2*i+1,2*j+1]\n",
    "            "
   ]
  },
  {
   "cell_type": "code",
   "execution_count": 25,
   "metadata": {},
   "outputs": [],
   "source": [
    "left, right = 5, 3\n",
    "uleft1, uleft2 = 0.0, 0.0\n",
    "uright1, uright2 = 0.0, Δx/100\n",
    "\n",
    "for n in nodes:\n",
    "    \n",
    "    if n.region == left:\n",
    "        K[2*n.id,:] = 0\n",
    "        K[2*n.id, 2*n.id] = 1\n",
    "        K[2*n.id+1,:] = 0\n",
    "        K[2*n.id+1, 2*n.id+1] = 1\n",
    "        F[2*n.id] = uleft1\n",
    "        F[2*n.id+1] = uleft2\n",
    "        \n",
    "    if n.region == right:\n",
    "        K[2*n.id,:] = 0\n",
    "        K[2*n.id, 2*n.id] = 1\n",
    "        K[2*n.id+1,:] = 0\n",
    "        K[2*n.id+1, 2*n.id+1] = 1\n",
    "        F[2*n.id] = uright1\n",
    "        F[2*n.id+1] = uright2\n"
   ]
  },
  {
   "cell_type": "code",
   "execution_count": 26,
   "metadata": {},
   "outputs": [
    {
     "data": {
      "text/plain": [
       "<matplotlib.colorbar.Colorbar at 0x7f731dad97c0>"
      ]
     },
     "execution_count": 26,
     "metadata": {},
     "output_type": "execute_result"
    },
    {
     "data": {
      "image/png": "[encoded data removed]",
      "text/plain": [
       "<Figure size 432x288 with 2 Axes>"
      ]
     },
     "metadata": {
      "needs_background": "light"
     },
     "output_type": "display_data"
    }
   ],
   "source": [
    "iSubset = 100\n",
    "minK = min(K[:iSubset, :iSubset].min(), -K[:iSubset, :iSubset].max())\n",
    "plt.imshow(K[:iSubset, :iSubset], cmap=\"seismic\", vmin=minK, vmax=-minK)\n",
    "plt.colorbar()"
   ]
  },
  {
   "cell_type": "code",
   "execution_count": 27,
   "metadata": {},
   "outputs": [],
   "source": [
    "# Résolution du système\n",
    "\n",
    "U = np.linalg.solve(K, F)"
   ]
  },
  {
   "cell_type": "code",
   "execution_count": 29,
   "metadata": {},
   "outputs": [
    {
     "data": {
      "image/png": "[encoded data removed]",
      "text/plain": [
       "<Figure size 576x576 with 1 Axes>"
      ]
     },
     "metadata": {
      "needs_background": "light"
     },
     "output_type": "display_data"
    }
   ],
   "source": [
    "fig, ax = plt.subplots(figsize=(8,8))\n",
    "ax.set_aspect(\"equal\", \"box\")\n",
    "\n",
    "plotDeformedMesh(elements, U, ax, s=100)"
   ]
  },
  {
   "cell_type": "code",
   "execution_count": 32,
   "metadata": {},
   "outputs": [],
   "source": [
    "# extract and plot the displacements on the left side\n",
    "\n",
    "bot = 2\n",
    "\n",
    "xCoord = []\n",
    "u1, u2 = [],[]\n",
    "\n",
    "for n in nodes:\n",
    "    if n.region == bot:\n",
    "        xCoord.append(n.x)\n",
    "        u1.append(U[2*n.id])\n",
    "        u2.append(U[2*n.id+1])"
   ]
  },
  {
   "cell_type": "code",
   "execution_count": 33,
   "metadata": {},
   "outputs": [
    {
     "data": {
      "text/plain": [
       "<matplotlib.legend.Legend at 0x7f731d9bc250>"
      ]
     },
     "execution_count": 33,
     "metadata": {},
     "output_type": "execute_result"
    },
    {
     "data": {
      "image/png": "[encoded data removed]",
      "text/plain": [
       "<Figure size 432x288 with 1 Axes>"
      ]
     },
     "metadata": {
      "needs_background": "light"
     },
     "output_type": "display_data"
    }
   ],
   "source": [
    "plt.plot(xCoord, u1, \"+\",  label=\"u1\")\n",
    "plt.plot(xCoord, u2, \"+\", label=\"u2\")\n",
    "plt.legend()"
   ]
  },
  {
   "cell_type": "code",
   "execution_count": null,
   "metadata": {},
   "outputs": [],
   "source": []
  }
 ],
 "metadata": {
  "interpreter": {
   "hash": "47558f5d1345b312ea7cbe4d32be71183e95bb01b25d23a408d164bfdcf9fcf4"
  },
  "kernelspec": {
   "display_name": "Python 3.8.8 64-bit ('base': conda)",
   "language": "python",
   "name": "python3"
  },
  "language_info": {
   "codemirror_mode": {
    "name": "ipython",
    "version": 3
   },
   "file_extension": ".py",
   "mimetype": "text/x-python",
   "name": "python",
   "nbconvert_exporter": "python",
   "pygments_lexer": "ipython3",
   "version": "3.8.8"
  },
  "orig_nbformat": 4
 },
 "nbformat": 4,
 "nbformat_minor": 2
}
