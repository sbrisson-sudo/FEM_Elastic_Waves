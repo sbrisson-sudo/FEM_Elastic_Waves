{
 "cells": [
  {
   "cell_type": "code",
   "execution_count": 1,
   "metadata": {},
   "outputs": [],
   "source": [
    "%load_ext autoreload\n",
    "%autoreload "
   ]
  },
  {
   "cell_type": "code",
   "execution_count": 2,
   "metadata": {},
   "outputs": [
    {
     "name": "stdout",
     "output_type": "stream",
     "text": [
      "Code parallelized with 12 processes.\n"
     ]
    }
   ],
   "source": [
    "import numpy as np\n",
    "import matplotlib.pyplot as plt\n",
    "\n",
    "from tqdm import tqdm\n",
    "from multiprocess import Pool, cpu_count\n",
    "\n",
    "from fem2D import *\n",
    "from simpleMeshes import *\n",
    "\n",
    "nprocesses = cpu_count()\n",
    "print(f\"Code parallelized with {nprocesses} processes.\")"
   ]
  },
  {
   "cell_type": "code",
   "execution_count": 88,
   "metadata": {},
   "outputs": [
    {
     "name": "stdout",
     "output_type": "stream",
     "text": [
      "dof=3133\n"
     ]
    }
   ],
   "source": [
    "# chargement du maillage\n",
    "\n",
    "eraseCurrentMesh()\n",
    "\n",
    "N = 2       # elements order\n",
    "\n",
    "# # BAR\n",
    "# Lx = 1000.0   \n",
    "# Ly = 100.0\n",
    "# dx = 50.0    # elements size\n",
    "# elements, nodes = rectangleMesh(Lx, Ly, dx, N, botTop=True)\n",
    "# Δx = dx/(N+1)\n",
    "\n",
    "# BUILDING\n",
    "file = \"../meshes/building2.msh\"\n",
    "regions = [\n",
    "    (1, 3),\n",
    "    (1, 5),\n",
    "    (1, 2),\n",
    "    (1, 4),\n",
    "    ]\n",
    "Δx = 0.25/(N+1)\n",
    "elements, nodes = readGmsh4(file, regions) \n",
    "\n",
    "dof = len(nodes)\n",
    "print(f\"{dof=}\")"
   ]
  },
  {
   "cell_type": "code",
   "execution_count": 89,
   "metadata": {},
   "outputs": [
    {
     "data": {
      "text/plain": [
       "<AxesSubplot:>"
      ]
     },
     "execution_count": 89,
     "metadata": {},
     "output_type": "execute_result"
    }
   ],
   "source": [
    "plotMesh(elements, nodes, [2,4]) "
   ]
  },
  {
   "cell_type": "code",
   "execution_count": 90,
   "metadata": {},
   "outputs": [
    {
     "name": "stdout",
     "output_type": "stream",
     "text": [
      "N=2\n",
      "xi=array([-1.,  0.,  1.])\n"
     ]
    }
   ],
   "source": [
    "# Chargement des points/poids d'intégration de GLL + dérivée des interpolateurs lagrangiens sur ces points\n",
    "\n",
    "N = int(np.sqrt(len(elements[0].nodes))) - 1\n",
    "\n",
    "if N == 1:\n",
    "    raise(Exception(\"Please use classical FEM (linear) for order 1 mesh\"))\n",
    "\n",
    "xi,w,dh = readGLL(N)\n",
    "\n",
    "print(f\"{N=}\")\n",
    "print(f\"{xi=}\")"
   ]
  },
  {
   "cell_type": "code",
   "execution_count": 91,
   "metadata": {},
   "outputs": [
    {
     "name": "stderr",
     "output_type": "stream",
     "text": [
      "100%|██████████| 677/677 [00:01<00:00, 438.23it/s]\n"
     ]
    }
   ],
   "source": [
    "# Pour chaque élément calcul:\n",
    "# - du jacobien\n",
    "# - de l'inverse de la matrice jacobienne\n",
    "# La transformation depuis un élément quelconque vers l'élément de référence est l'interpolation bilinéaire\n",
    "\n",
    "duphi = shapeFunctions[\"P1\"][\"duphi\"]\n",
    "dvphi = shapeFunctions[\"P1\"][\"dvphi\"]\n",
    "\n",
    "def computeJacobian(e):\n",
    "        \n",
    "    coords = e.getCoords()\n",
    "    X, Y = coords[:,0], coords[:,1]\n",
    "    \n",
    "    Je11 = np.zeros((N+1,N+1))\n",
    "    Je21 = np.zeros((N+1,N+1))\n",
    "    Je12 = np.zeros((N+1,N+1))\n",
    "    Je22 = np.zeros((N+1,N+1))\n",
    "    \n",
    "    e.detJ = np.zeros((N+1,N+1))\n",
    "    \n",
    "    e.iJe11 = np.zeros((N+1,N+1))\n",
    "    e.iJe21 = np.zeros((N+1,N+1))\n",
    "    e.iJe12 = np.zeros((N+1,N+1))\n",
    "    e.iJe22 = np.zeros((N+1,N+1))\n",
    "\n",
    "    dxdu = interp(duphi, X)\n",
    "    dxdv = interp(dvphi, X)        \n",
    "    dydu = interp(duphi, Y)\n",
    "    dydv = interp(dvphi, Y)\n",
    "    \n",
    "    \n",
    "    for i in range(N+1):\n",
    "        for j in range(N+1):\n",
    "            \n",
    "            Je11[i,j] = dxdu(xi[i], xi[j])\n",
    "            Je21[i,j] = dxdv(xi[i], xi[j])\n",
    "            Je12[i,j] = dydu(xi[i], xi[j])\n",
    "            Je22[i,j] = dydv(xi[i], xi[j])\n",
    "            \n",
    "            e.detJ[i,j] = Je11[i,j]*Je22[i,j] - Je21[i,j]*Je12[i,j]\n",
    "            \n",
    "            e.iJe11[i,j] =  Je22[i,j]/e.detJ[i,j]\n",
    "            e.iJe22[i,j] =  Je11[i,j]/e.detJ[i,j]\n",
    "            e.iJe21[i,j] = -Je21[i,j]/e.detJ[i,j]\n",
    "            e.iJe12[i,j] = -Je12[i,j]/e.detJ[i,j]\n",
    "            \n",
    "    return e\n",
    "    \n",
    "with Pool(nprocesses) as p:\n",
    "    Element.id = 0\n",
    "    elements = list(tqdm(p.imap(computeJacobian, elements), total=len(elements)))"
   ]
  },
  {
   "cell_type": "code",
   "execution_count": 92,
   "metadata": {},
   "outputs": [],
   "source": [
    "E = 11       # module d'Young\n",
    "ν = 0.15     # coefficient de Poisson\n",
    "\n",
    "# paramètres de Lamé\n",
    "λ = (E*ν) / ((1+ν)*(1-2*ν))\n",
    "μ = E / (2*(1+ν))"
   ]
  },
  {
   "cell_type": "code",
   "execution_count": 93,
   "metadata": {},
   "outputs": [
    {
     "name": "stderr",
     "output_type": "stream",
     "text": [
      "100%|██████████| 677/677 [00:02<00:00, 316.48it/s]\n"
     ]
    }
   ],
   "source": [
    "# calcul des matrices élémentaires\n",
    "\n",
    "δ = np.eye(N+1)\n",
    "\n",
    "def computeStiffnes(e):\n",
    "    \n",
    "    # KeTemp = np.zeros((N+1,N+1,N+1,N+1))\n",
    "    e.Ke = np.zeros((2*(N+1)**2,2*(N+1)**2))\n",
    "    \n",
    "    Kdxdx = np.zeros((N+1,N+1,N+1,N+1))\n",
    "    Kdydy = np.zeros((N+1,N+1,N+1,N+1))\n",
    "    Kdxdy = np.zeros((N+1,N+1,N+1,N+1))\n",
    "    Kdydx = np.zeros((N+1,N+1,N+1,N+1))\n",
    "    \n",
    "    for a in range(N+1):\n",
    "        for b in range(N+1):\n",
    "            for c in range(N+1):\n",
    "                for d in range(N+1):\n",
    "                       \n",
    "                        for p in range(N+1):\n",
    "                            for q in range(N+1):\n",
    "                                \n",
    "                                Kdxdx[a,b,c,d] += w[p]*w[q] * (e.iJe11[p,q]*dh[a,p]*δ[b,q] + e.iJe12[p,q]*dh[b,q]*δ[a,p])*(e.iJe11[p,q]*dh[c,p]*δ[d,q] + e.iJe12[p,q]*dh[d,q]*δ[c,p]) * e.detJ[p,q]\n",
    "                                Kdydy[a,b,c,d] += w[p]*w[q] * (e.iJe21[p,q]*dh[a,p]*δ[b,q] + e.iJe22[p,q]*dh[b,q]*δ[a,p])*(e.iJe21[p,q]*dh[c,p]*δ[d,q] + e.iJe22[p,q]*dh[d,q]*δ[c,p]) * e.detJ[p,q]\n",
    "                                Kdxdy[a,b,c,d] += w[p]*w[q] * (e.iJe11[p,q]*dh[a,p]*δ[b,q] + e.iJe12[p,q]*dh[b,q]*δ[a,p])*(e.iJe21[p,q]*dh[c,p]*δ[d,q] + e.iJe22[p,q]*dh[d,q]*δ[c,p]) * e.detJ[p,q]\n",
    "                                Kdydx[a,b,c,d] += w[p]*w[q] * (e.iJe21[p,q]*dh[a,p]*δ[b,q] + e.iJe22[p,q]*dh[b,q]*δ[a,p])*(e.iJe21[p,q]*dh[c,p]*δ[d,q] + e.iJe22[p,q]*dh[d,q]*δ[c,p]) * e.detJ[p,q]\n",
    "                                \n",
    "    for i in range(2*(N+1)**2):\n",
    "        for j in range(2*(N+1)**2):\n",
    "            \n",
    "            a,b = i//2//(N+1), i//2%(N+1)\n",
    "            c,d = j//2//(N+1), j//2%(N+1)\n",
    "            \n",
    "            if i%2 == 0 and j%2 == 0:\n",
    "                \n",
    "                e.Ke[i,j] = (2*λ+μ)*Kdxdx[a,b,c,d] + μ*Kdydy[a,b,c,d]             \n",
    "                \n",
    "            if i%2 == 0 and j%2 != 0:\n",
    "                \n",
    "                e.Ke[i,j] = λ*Kdxdy[a,b,c,d] + μ*Kdydx[a,b,c,d]      \n",
    "            \n",
    "            if i%2 != 0 and j%2 == 0:\n",
    "                \n",
    "                e.Ke[i,j] = λ*Kdydx[a,b,c,d] + μ*Kdxdy[a,b,c,d]             \n",
    "                \n",
    "            if i%2 != 0 and j%2 != 0:\n",
    "                \n",
    "                e.Ke[i,j] = (2*λ+μ)*Kdydy[a,b,c,d] + μ*Kdxdx[a,b,c,d] \n",
    "                                \n",
    "    return e\n",
    "\n",
    "# elements = list(tqdm(map(computeStiffnes, elements), total=len(elements)))\n",
    "\n",
    "with Pool(nprocesses) as p:\n",
    "    Element.id = 0\n",
    "    elements = list(tqdm(p.imap(computeStiffnes, elements), total=len(elements)))"
   ]
  },
  {
   "cell_type": "code",
   "execution_count": 94,
   "metadata": {},
   "outputs": [
    {
     "data": {
      "text/plain": [
       "<matplotlib.colorbar.Colorbar at 0x7fcac456fcd0>"
      ]
     },
     "execution_count": 94,
     "metadata": {},
     "output_type": "execute_result"
    }
   ],
   "source": [
    "Ke = elements[3].Ke\n",
    "minKe = min(Ke.min(), -Ke.max())\n",
    "plt.imshow(Ke, cmap=\"seismic\", vmin=minKe, vmax=-minKe)\n",
    "plt.colorbar()"
   ]
  },
  {
   "cell_type": "code",
   "execution_count": 95,
   "metadata": {},
   "outputs": [
    {
     "name": "stderr",
     "output_type": "stream",
     "text": [
      "100%|██████████| 677/677 [00:00<00:00, 1881.10it/s]\n"
     ]
    }
   ],
   "source": [
    "# assemblage\n",
    "\n",
    "K = np.zeros((2*dof,2*dof))\n",
    "F = np.zeros(2*dof)\n",
    "\n",
    "for e in tqdm(elements):\n",
    "    for (i,n1) in enumerate(e.nodes):\n",
    "        for (j,n2) in enumerate(e.nodes):\n",
    "            K[2*n1.id,2*n2.id] += e.Ke[2*i,2*j]\n",
    "            K[2*n1.id+1,2*n2.id] += e.Ke[2*i+1,2*j]\n",
    "            K[2*n1.id,2*n2.id+1] += e.Ke[2*i,2*j+1]\n",
    "            K[2*n1.id+1,2*n2.id+1] += e.Ke[2*i+1,2*j+1]\n",
    "            "
   ]
  },
  {
   "cell_type": "code",
   "execution_count": 152,
   "metadata": {},
   "outputs": [],
   "source": [
    "# Bar\n",
    "# sideA, sideB = 5, 3\n",
    "\n",
    "# Building\n",
    "sideA, sideB = 2, 4\n",
    "\n",
    "ua1, ua2 = Δx/10, Δx/10\n",
    "ub1, ub2 = -Δx/10, -Δx/10\n",
    "\n",
    "for n in nodes:\n",
    "    \n",
    "    if n.region == sideA:\n",
    "        K[2*n.id,:] = 0\n",
    "        K[2*n.id, 2*n.id] = 1\n",
    "        K[2*n.id+1,:] = 0\n",
    "        K[2*n.id+1, 2*n.id+1] = 1\n",
    "        \n",
    "        F[2*n.id] = ua1\n",
    "        F[2*n.id+1] = ua2\n",
    "        \n",
    "    if n.region == sideB:\n",
    "        K[2*n.id,:] = 0\n",
    "        K[2*n.id, 2*n.id] = 1\n",
    "        K[2*n.id+1,:] = 0\n",
    "        K[2*n.id+1, 2*n.id+1] = 1\n",
    "        \n",
    "        F[2*n.id] = ub1\n",
    "        F[2*n.id+1] = ub2\n"
   ]
  },
  {
   "cell_type": "code",
   "execution_count": 153,
   "metadata": {},
   "outputs": [
    {
     "data": {
      "text/plain": [
       "<matplotlib.colorbar.Colorbar at 0x7fcac3e85d30>"
      ]
     },
     "execution_count": 153,
     "metadata": {},
     "output_type": "execute_result"
    }
   ],
   "source": [
    "%matplotlib tk\n",
    "iSubset = 100\n",
    "minK = min(K[:iSubset, :iSubset].min(), -K[:iSubset, :iSubset].max())\n",
    "plt.imshow(K[:iSubset, :iSubset], cmap=\"seismic\", vmin=minK, vmax=-minK)\n",
    "plt.colorbar()"
   ]
  },
  {
   "cell_type": "code",
   "execution_count": 154,
   "metadata": {},
   "outputs": [],
   "source": [
    "# Résolution du système\n",
    "\n",
    "U = np.linalg.solve(K, F)"
   ]
  },
  {
   "cell_type": "code",
   "execution_count": 156,
   "metadata": {},
   "outputs": [],
   "source": [
    "fig, ax = plt.subplots(figsize=(8,8))\n",
    "ax.set_aspect(\"equal\", \"box\")\n",
    "\n",
    "plotDeformedMesh(elements, U, ax, s=20)"
   ]
  },
  {
   "cell_type": "code",
   "execution_count": 144,
   "metadata": {},
   "outputs": [],
   "source": [
    "import warnings\n",
    "warnings.filterwarnings(\"error\")"
   ]
  },
  {
   "cell_type": "code",
   "execution_count": 145,
   "metadata": {},
   "outputs": [],
   "source": [
    "# compute strain-stress\n",
    "\n",
    "for e in elements:\n",
    "    \n",
    "    e.εxxNodes, e.εxx = [], []\n",
    "    e.εyyNodes, e.εyy = [], []\n",
    "    e.εxyNodes, e.εxy = [], []\n",
    "\n",
    "    for i in range(len(e.nodes)):\n",
    "        if i > 0 and (i+1) % (N+1) == 0:\n",
    "            continue\n",
    "        n1,n2 = e.nodes[i], e.nodes[i+1]\n",
    "        e.εxxNodes.append(((n1.x+n2.x)/2, (n1.y+n2.y)/2))\n",
    "        try:\n",
    "            e.εxx.append((U[2*n2.id] - U[2*n1.id])/(n2.x-n1.x))\n",
    "        except:\n",
    "            continue\n",
    "        \n",
    "    for i in range(len(e.nodes)-(N+1)):\n",
    "        n1,n2 = e.nodes[i], e.nodes[i+N+1]\n",
    "        e.εyyNodes.append(((n1.x+n2.x)/2, (n1.y+n2.y)/2))\n",
    "        try:\n",
    "            e.εyy.append((U[2*n2.id+1] - U[2*n1.id+1])/(n2.y-n1.y))\n",
    "        except:\n",
    "            continue\n",
    "        \n",
    "    for i in range(len(e.nodes)-3):\n",
    "        if i > 0 and (i+1) % (N+1) == 0:\n",
    "            continue\n",
    "        n1,n2,n3,n4 = e.nodes[i], e.nodes[i+1], e.nodes[i+N+1], e.nodes[i+N+2]\n",
    "                \n",
    "        e.εxyNodes.append(((n1.x+n2.x+n3.x+n4.x)/4, (n1.y+n2.y+n3.y+n4.y)/4))\n",
    "        try:\n",
    "            e.εxy.append(\n",
    "                ((U[2*n2.id+1] - U[2*n1.id+1])/(n2.x-n1.x) +\n",
    "                (U[2*n4.id+1] - U[2*n3.id+1])/(n4.x-n3.x) +\n",
    "                (U[2*n3.id] - U[2*n1.id])/(n3.y-n1.y) +\n",
    "                (U[2*n4.id] - U[2*n2.id])/(n4.y-n2.y)) * 0.5\n",
    "                )\n",
    "        except:\n",
    "            continue\n",
    "        \n",
    "    e.εxx_mean = sum(e.εxx)/len(e.εxx)    \n",
    "    e.εyy_mean = sum(e.εyy)/len(e.εyy)    \n",
    "    e.εxy_mean = sum(e.εxy)/len(e.εxy)\n",
    "    "
   ]
  },
  {
   "cell_type": "code",
   "execution_count": 133,
   "metadata": {},
   "outputs": [],
   "source": [
    "import matplotlib as mpl"
   ]
  },
  {
   "cell_type": "code",
   "execution_count": 150,
   "metadata": {},
   "outputs": [
    {
     "name": "stdout",
     "output_type": "stream",
     "text": [
      "4.0632267006384854e-08\n",
      "19.46997130281\n"
     ]
    }
   ],
   "source": [
    "fig, ax = plt.subplots(figsize = (6,6))\n",
    "\n",
    "εxx = [e.εxx_mean for e in elements]\n",
    "εyy = [e.εyy_mean for e in elements]\n",
    "εxy = [e.εxy_mean for e in elements]\n",
    "\n",
    "toPlot = [abs(ε) for ε in εxx]\n",
    "\n",
    "print(min(toPlot))\n",
    "print(max(toPlot))\n",
    "\n",
    "cNorm  = mpl.colors.LogNorm(vmin=min(toPlot), vmax=max(toPlot))\n",
    "scalarMap = plt.cm.ScalarMappable(norm=cNorm, cmap=\"viridis\")\n",
    "\n",
    "\n",
    "for e in elements:\n",
    "    coords = e.getCoords()\n",
    "    ax.fill(coords[:,0], coords[:,1], color=scalarMap.to_rgba(e.εxx_mean), alpha=0.5, ec=\"k\")\n",
    "\n",
    "\n",
    "ax.set_aspect(\"equal\", \"box\")"
   ]
  },
  {
   "cell_type": "code",
   "execution_count": null,
   "metadata": {},
   "outputs": [],
   "source": []
  }
 ],
 "metadata": {
  "interpreter": {
   "hash": "47558f5d1345b312ea7cbe4d32be71183e95bb01b25d23a408d164bfdcf9fcf4"
  },
  "kernelspec": {
   "display_name": "Python 3.8.8 64-bit ('base': conda)",
   "language": "python",
   "name": "python3"
  },
  "language_info": {
   "codemirror_mode": {
    "name": "ipython",
    "version": 3
   },
   "file_extension": ".py",
   "mimetype": "text/x-python",
   "name": "python",
   "nbconvert_exporter": "python",
   "pygments_lexer": "ipython3",
   "version": "3.8.8"
  },
  "orig_nbformat": 4
 },
 "nbformat": 4,
 "nbformat_minor": 2
}
