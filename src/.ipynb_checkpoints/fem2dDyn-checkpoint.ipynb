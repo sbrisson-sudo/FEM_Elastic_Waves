{
 "cells": [
  {
   "cell_type": "code",
   "execution_count": 1,
   "metadata": {},
   "outputs": [],
   "source": [
    "import numpy as np\n",
    "import matplotlib.pyplot as plt\n",
    "from tqdm import tqdm\n",
    "\n",
    "from read_gmsh4 import readGmsh4\n",
    "%matplotlib tk"
   ]
  },
  {
   "cell_type": "code",
   "execution_count": 2,
   "metadata": {},
   "outputs": [],
   "source": [
    "# definition d'un objet element\n",
    "\n",
    "class Node:\n",
    "    id = 0\n",
    "    def __init__(self, x, y, region):\n",
    "        self.id = Node.id\n",
    "        Node.id += 1\n",
    "        self.x = x\n",
    "        self.y = y\n",
    "        self.region = region\n",
    "        \n",
    "    def __repr__(self):\n",
    "        return f\"Node {self.id} [{self.x},{self.y}], region = {self.region}\"\n",
    "\n",
    "class Element:\n",
    "    id = 0\n",
    "    def __init__(self, nodes):\n",
    "        self.nodes = nodes\n",
    "        self.id = Element.id\n",
    "        Element.id += 1\n",
    "        \n",
    "    def getCoords(self):\n",
    "        return np.array([[n.x,n.y] for n in self.nodes])\n",
    "    \n",
    "    def __repr__(self):\n",
    "        return f\"Element {self.id}\\nNodes : {[n.id for n in self.nodes]}\\nCoords : {self.getCoords()}\"\n",
    "\n",
    "def plotMesh(elements):\n",
    "    \n",
    "    fig, ax = plt.subplots()\n",
    "    for e in elements:\n",
    "        coords = e.getCoords()\n",
    "        plt.fill(coords[:,0], coords[:,1], color=\"greenyellow\", alpha=0.5, ec=\"k\")\n",
    "    ax.set_aspect(\"equal\", \"box\")\n",
    "    plt.show()"
   ]
  },
  {
   "cell_type": "code",
   "execution_count": 3,
   "metadata": {},
   "outputs": [],
   "source": [
    "# definition du maillage\n",
    "\n",
    "N = 40\n",
    "L = 100.0\n",
    "xCoords = np.linspace(0.0, L, N+1)\n",
    "dof = (N+1)*(N+1)\n",
    "\n",
    "omega = 1\n",
    "\n",
    "Node.id = 0\n",
    "nodesCoord = np.array([[[x,y] for x in xCoords] for y in xCoords]).reshape((dof,2))\n",
    "nodes = [Node(coord[0], coord[1], omega) for coord in nodesCoord]\n",
    "\n",
    "Element.id = 0\n",
    "elements = []\n",
    "for i in range(N*N):\n",
    "    nodesIdx = [i+i//N,i+1+i//N,i+N+2+i//N,i+N+1+i//N]\n",
    "    elements.append(Element([nodes[n] for n in nodesIdx]))"
   ]
  },
  {
   "cell_type": "code",
   "execution_count": 4,
   "metadata": {},
   "outputs": [],
   "source": [
    "plotMesh(elements)"
   ]
  },
  {
   "cell_type": "code",
   "execution_count": 5,
   "metadata": {},
   "outputs": [],
   "source": [
    "# définition des interpolateurs (P1 : linéaire) et de ses dérivées partielles\n",
    "phi = [\n",
    "    lambda u,v : 0.25*(1-u)*(1-v), # (-1,-1)\n",
    "    lambda u,v : 0.25*(1+u)*(1-v), # (+1,-1)\n",
    "    lambda u,v : 0.25*(1+u)*(1+v), # (+1,+1)\n",
    "    lambda u,v : 0.25*(1-u)*(1+v), # (-1,+1)\n",
    "]\n",
    "\n",
    "duphi = [\n",
    "        lambda u,v : -0.25*(1-v),   # (-1,-1)\n",
    "        lambda u,v : 0.25*(1-v),    # (+1,-1)\n",
    "        lambda u,v : 0.25*(1+v),   # (-1,+1)\n",
    "        lambda u,v : -0.25*(1+v),   # (+1,+1)\n",
    "]\n",
    "dvphi = [\n",
    "        lambda u,v : -0.25*(1-u),   # (-1,-1)\n",
    "        lambda u,v : -0.25*(1+u),   # (+1,-1)\n",
    "        lambda u,v : 0.25*(1+u),    # (-1,+1)\n",
    "        lambda u,v : 0.25*(1-u),    # (+1,+1)\n",
    "]\n",
    "\n",
    "gradPhi = [\n",
    "        lambda u,v: np.array([duphi[i](u,v), dvphi[i](u,v)])\n",
    "        for i in range(4)\n",
    "]\n",
    "\n",
    "# fonction retournant l'interpolateur selon les 4 fonctions phi pour les 4 valeurs aux noeuds X\n",
    "def interp(phiList, X):\n",
    "    return lambda u,v : sum([phi(u,v)*x for phi,x in zip(phiList, X)])"
   ]
  },
  {
   "cell_type": "code",
   "execution_count": 6,
   "metadata": {},
   "outputs": [],
   "source": [
    "# Pour chaque élément calcul:\n",
    "# - du jacobien\n",
    "# - de l'inverse de la matrice jacobienne\n",
    "\n",
    "for e in elements:\n",
    "\n",
    "    coords = e.getCoords()\n",
    "    X, Y = coords[:,0], coords[:,1]\n",
    "\n",
    "    dxdu = interp(duphi, X)\n",
    "    dxdv = interp(dvphi, X)        \n",
    "    dydu = interp(duphi, Y)\n",
    "    dydv = interp(dvphi, Y)\n",
    "    \n",
    "    e.detJ = lambda u,v : dxdu(u,v)*dydv(u,v) - dxdv(u,v)*dydu(u,v)\n",
    "\n",
    "    e.iJ = lambda u,v :  np.array(\n",
    "        [[dydv(u,v), -dydu(u,v)],\n",
    "        [-dxdv(u,v), dxdu(u,v)]]\n",
    "    )/e.detJ(u,v)"
   ]
  },
  {
   "cell_type": "code",
   "execution_count": 7,
   "metadata": {},
   "outputs": [],
   "source": [
    "# Détermination d'une règle de quadrature \n",
    "\n",
    "# nombre de points de quadrature (par dimension)\n",
    "Nquad = 5 \n",
    "\n",
    "# importation poids et abscices Gauss-Legendre\n",
    "data = np.loadtxt(f\"../quadratureRules/gl_{Nquad:02d}.tab\")\n",
    "w_i, xi_i = data[:,0], data[:,1] \n",
    "\n",
    "# Compute the 2D integral of f(u,v) over [-1,1]x[-1,1]\n",
    "\n",
    "int2D = lambda f: sum([ sum([w1*w2 * f(xi1, xi2) for xi1,w1 in zip(xi_i, w_i)]) for xi2,w2 in zip(xi_i, w_i)])"
   ]
  },
  {
   "cell_type": "code",
   "execution_count": 8,
   "metadata": {},
   "outputs": [
    {
     "name": "stderr",
     "output_type": "stream",
     "text": [
      "100%|██████████| 1600/1600 [00:49<00:00, 32.34it/s]\n"
     ]
    }
   ],
   "source": [
    "# Calcul des matrices élémentaires locales -> à optimiser\n",
    "\n",
    "for e in tqdm(elements):\n",
    "\n",
    "    e.Ke = np.zeros((4,4))\n",
    "    e.Me = np.zeros((4,4))\n",
    "    \n",
    "    for i in range(4):\n",
    "        for j in range(4):\n",
    "\n",
    "            fk = lambda u,v: (e.iJ(u,v)@gradPhi[i](u,v))@(e.iJ(u,v)@gradPhi[j](u,v))*e.detJ(u,v)\n",
    "            e.Ke[i,j] = int2D(fk)\n",
    "\n",
    "            fm = lambda u,v: phi[i](u,v)*phi[j](u,v)*e.detJ(u,v)\n",
    "            e.Me[i,j] = int2D(fm)"
   ]
  },
  {
   "cell_type": "code",
   "execution_count": 9,
   "metadata": {},
   "outputs": [],
   "source": [
    "# Calcule des matrices globales -> à optimiser\n",
    "K = np.zeros((dof,dof))\n",
    "M = np.zeros((dof,dof))\n",
    "F = np.zeros(dof)\n",
    "\n",
    "for e in elements:\n",
    "    for (i,n1) in enumerate(e.nodes):\n",
    "        for (j,n2) in enumerate(e.nodes):\n",
    "            K[n1.id,n2.id] += e.Ke[i,j]\n",
    "            M[n1.id,n2.id] += e.Me[i,j]"
   ]
  },
  {
   "cell_type": "code",
   "execution_count": 10,
   "metadata": {},
   "outputs": [],
   "source": [
    "# Conditions aux limites : point source (CL sur le déplacement)\n",
    "\n",
    "noeudSource = int(dof/4)\n",
    "\n",
    "K[noeudSource,:] = 0\n",
    "K[noeudSource,noeudSource] = 1"
   ]
  },
  {
   "cell_type": "code",
   "execution_count": null,
   "metadata": {},
   "outputs": [],
   "source": []
  },
  {
   "cell_type": "code",
   "execution_count": 11,
   "metadata": {},
   "outputs": [],
   "source": [
    "# inverting mass matrix\n",
    "\n",
    "iM = np.linalg.inv(M)"
   ]
  },
  {
   "cell_type": "code",
   "execution_count": 20,
   "metadata": {},
   "outputs": [],
   "source": [
    "# résolution temporelle\n",
    "\n",
    "Nit = 2000\n",
    "cfl = 0.01\n",
    "Δx = L/N\n",
    "Δt = Δx* cfl\n",
    "T = Δt*Nit \n",
    "\n",
    "time = np.linspace(0,T,Nit)\n",
    "\n",
    "U = np.zeros((Nit, dof))\n",
    "\n",
    "# définition source\n",
    "\n",
    "t0 = T/10.0         # tuning\n",
    "f0 = 1/(16*Δx)     # tuning\n",
    "f = lambda t : (4*(t-t0)**2*f0**4 - 2*f0**2)*np.exp(-(t-t0)**2*f0**2)"
   ]
  },
  {
   "cell_type": "code",
   "execution_count": 21,
   "metadata": {},
   "outputs": [
    {
     "name": "stdout",
     "output_type": "stream",
     "text": [
      "CFL = 0.01\n",
      "Δx = 2.5m while λmin ~ 10.0\n"
     ]
    }
   ],
   "source": [
    "# tests sur valeurs paramètres\n",
    "print(f\"CFL = {Δt/Δx}\")\n",
    "print(f\"Δx = {Δx}m while λmin ~ {1/(4*f0)}\")"
   ]
  },
  {
   "cell_type": "code",
   "execution_count": 26,
   "metadata": {},
   "outputs": [
    {
     "data": {
      "text/plain": [
       "[<matplotlib.lines.Line2D at 0x7fd6a382e3a0>]"
      ]
     },
     "execution_count": 26,
     "metadata": {},
     "output_type": "execute_result"
    }
   ],
   "source": [
    "plt.plot(time, f(time))"
   ]
  },
  {
   "cell_type": "code",
   "execution_count": 22,
   "metadata": {},
   "outputs": [
    {
     "name": "stderr",
     "output_type": "stream",
     "text": [
      "100%|██████████| 1998/1998 [00:04<00:00, 445.20it/s]\n"
     ]
    }
   ],
   "source": [
    "for i in tqdm(range(2,Nit)):\n",
    "    F[noeudSource] = f(i*Δt)\n",
    "    U[i,:] = 2.0*U[i-1,:] - U[i-2,:] + Δt**2 * (iM@(F-K@U[i-1,:]))"
   ]
  },
  {
   "cell_type": "code",
   "execution_count": 10,
   "metadata": {},
   "outputs": [
    {
     "ename": "NameError",
     "evalue": "name 'time' is not defined",
     "output_type": "error",
     "traceback": [
      "\u001b[0;31m---------------------------------------------------------------------------\u001b[0m",
      "\u001b[0;31mNameError\u001b[0m                                 Traceback (most recent call last)",
      "\u001b[0;32m/tmp/ipykernel_58098/1854015391.py\u001b[0m in \u001b[0;36m<module>\u001b[0;34m\u001b[0m\n\u001b[0;32m----> 1\u001b[0;31m \u001b[0mplt\u001b[0m\u001b[0;34m.\u001b[0m\u001b[0mplot\u001b[0m\u001b[0;34m(\u001b[0m\u001b[0mtime\u001b[0m\u001b[0;34m,\u001b[0m \u001b[0mU\u001b[0m\u001b[0;34m[\u001b[0m\u001b[0;34m:\u001b[0m\u001b[0;34m,\u001b[0m\u001b[0mnoeudSource\u001b[0m\u001b[0;34m]\u001b[0m\u001b[0;34m)\u001b[0m\u001b[0;34m\u001b[0m\u001b[0;34m\u001b[0m\u001b[0m\n\u001b[0m\u001b[1;32m      2\u001b[0m \u001b[0mplt\u001b[0m\u001b[0;34m.\u001b[0m\u001b[0mylim\u001b[0m\u001b[0;34m(\u001b[0m\u001b[0;34m[\u001b[0m\u001b[0;34m-\u001b[0m\u001b[0;36m0.020\u001b[0m\u001b[0;34m,\u001b[0m \u001b[0;36m0.020\u001b[0m\u001b[0;34m]\u001b[0m\u001b[0;34m)\u001b[0m\u001b[0;34m\u001b[0m\u001b[0;34m\u001b[0m\u001b[0m\n",
      "\u001b[0;31mNameError\u001b[0m: name 'time' is not defined"
     ]
    }
   ],
   "source": [
    "plt.plot(time, U[:,noeudSource])\n",
    "plt.ylim([-0.020, 0.020])\n"
   ]
  },
  {
   "cell_type": "code",
   "execution_count": 18,
   "metadata": {},
   "outputs": [
    {
     "data": {
      "text/plain": [
       "<matplotlib.colorbar.Colorbar at 0x7fd6a39a1ee0>"
      ]
     },
     "execution_count": 18,
     "metadata": {},
     "output_type": "execute_result"
    }
   ],
   "source": [
    "idx = 20\n",
    "plt.imshow(U[idx,:].reshape((N+1,N+1)))\n",
    "plt.colorbar()"
   ]
  },
  {
   "cell_type": "code",
   "execution_count": 19,
   "metadata": {},
   "outputs": [],
   "source": [
    "import matplotlib.animation as animation"
   ]
  },
  {
   "cell_type": "code",
   "execution_count": 32,
   "metadata": {},
   "outputs": [
    {
     "name": "stderr",
     "output_type": "stream",
     "text": [
      "Exception in Tkinter callback\n",
      "Traceback (most recent call last):\n",
      "  File \"/home/sylvain/anaconda3/lib/python3.8/tkinter/__init__.py\", line 1892, in __call__\n",
      "    return self.func(*args)\n",
      "  File \"/home/sylvain/anaconda3/lib/python3.8/tkinter/__init__.py\", line 814, in callit\n",
      "    func(*args)\n",
      "  File \"/home/sylvain/anaconda3/lib/python3.8/site-packages/matplotlib/backends/_backend_tk.py\", line 139, in _on_timer\n",
      "    super()._on_timer()\n",
      "  File \"/home/sylvain/anaconda3/lib/python3.8/site-packages/matplotlib/backend_bases.py\", line 1216, in _on_timer\n",
      "    ret = func(*args, **kwargs)\n",
      "  File \"/home/sylvain/anaconda3/lib/python3.8/site-packages/matplotlib/animation.py\", line 1477, in _step\n",
      "    still_going = super()._step(*args)\n",
      "  File \"/home/sylvain/anaconda3/lib/python3.8/site-packages/matplotlib/animation.py\", line 1189, in _step\n",
      "    self._draw_next_frame(framedata, self._blit)\n",
      "  File \"/home/sylvain/anaconda3/lib/python3.8/site-packages/matplotlib/animation.py\", line 1208, in _draw_next_frame\n",
      "    self._draw_frame(framedata)\n",
      "  File \"/home/sylvain/anaconda3/lib/python3.8/site-packages/matplotlib/animation.py\", line 1776, in _draw_frame\n",
      "    self._drawn_artists = self._func(framedata, *self._args)\n",
      "  File \"/tmp/ipykernel_30296/4205917181.py\", line 14, in updatefig\n",
      "    im.set_data(U[i,:].reshape((N+1,N+1)))\n",
      "IndexError: index 50 is out of bounds for axis 0 with size 50\n"
     ]
    }
   ],
   "source": [
    "# animation\n",
    "\n",
    "U = U[:50,:]\n",
    "\n",
    "fig, ax = plt.subplots()\n",
    "title = ax.set_title(\"t = 0s\")\n",
    "\n",
    "umax = max(U.max(), -U.min())\n",
    "i = 0\n",
    "im = ax.imshow(U[i,:].reshape((N+1,N+1)), vmin=-umax, vmax=umax)\n",
    "\n",
    "def updatefig(i): \n",
    "    im.set_data(U[i,:].reshape((N+1,N+1)))\n",
    "    title.set_text(f\"t = {i*Δt:.3f}s\")\n",
    "    \n",
    "anim = animation.FuncAnimation(fig, updatefig, interval=30, frames=Nit)\n",
    "anim.event_source.start()\n",
    "plt.show()"
   ]
  },
  {
   "cell_type": "code",
   "execution_count": 157,
   "metadata": {},
   "outputs": [],
   "source": [
    "# updating figure\n",
    "\n",
    "fig = plt.figure()\n",
    "plt.title(\"it = s\")\n",
    "\n",
    "\n",
    "i = 0\n",
    "plt.imshow(U[i,:].reshape((N+1,N+1)))\n",
    "plt.colorbar()\n",
    "i_update = 30\n",
    "\n",
    "def onclick(event):\n",
    "    global i\n",
    "    i = (i + i_update)%Nit\n",
    "    umax = max(U[i,:].max(), -U[i,:].min())\n",
    "    fig.clear()\n",
    "    \n",
    "    plt.imshow(U[i,:].reshape((N+1,N+1)), vmin=-umax, vmax=umax)\n",
    "    plt.title(f\"it = {i}\")\n",
    "    plt.colorbar()\n",
    "    plt.draw()\n",
    "    \n",
    "fig.canvas.mpl_connect(\"key_press_event\",onclick)\n",
    "plt.draw()\n",
    "plt.show()\n"
   ]
  },
  {
   "cell_type": "code",
   "execution_count": null,
   "metadata": {},
   "outputs": [],
   "source": []
  }
 ],
 "metadata": {
  "@webio": {
   "lastCommId": null,
   "lastKernelId": null
  },
  "interpreter": {
   "hash": "47558f5d1345b312ea7cbe4d32be71183e95bb01b25d23a408d164bfdcf9fcf4"
  },
  "kernelspec": {
   "display_name": "Python 3",
   "language": "python",
   "name": "python3"
  },
  "language_info": {
   "codemirror_mode": {
    "name": "ipython",
    "version": 3
   },
   "file_extension": ".py",
   "mimetype": "text/x-python",
   "name": "python",
   "nbconvert_exporter": "python",
   "pygments_lexer": "ipython3",
   "version": "3.8.5"
  }
 },
 "nbformat": 4,
 "nbformat_minor": 2
}
