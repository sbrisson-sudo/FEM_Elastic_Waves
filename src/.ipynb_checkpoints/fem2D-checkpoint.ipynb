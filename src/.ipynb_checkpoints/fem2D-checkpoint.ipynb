{
 "cells": [
  {
   "cell_type": "code",
   "execution_count": 1,
   "id": "d5b509cf",
   "metadata": {},
   "outputs": [],
   "source": [
    "import numpy as np\n",
    "import matplotlib.pyplot as plt\n",
    "from tqdm import tqdm\n",
    "import matplotlib as mpl"
   ]
  },
  {
   "cell_type": "code",
   "execution_count": 2,
   "id": "519cf670",
   "metadata": {},
   "outputs": [],
   "source": [
    "# definition d'un objet element\n",
    "\n",
    "class Element:\n",
    "    id = 0\n",
    "    def __init__(self, nodes, coords):\n",
    "        self.nodes = nodes\n",
    "        self.nodesCoords = coords\n",
    "        self.id = Element.id\n",
    "        Element.id += 1\n",
    "    def __repr__(self):\n",
    "        return f\"Element {self.id}\\nNodes : {self.nodes}\\nNodes coordinates :\\n {self.nodesCoords}\"\n",
    "\n",
    "def plotMesh(elements):\n",
    "    fig, ax = plt.subplots()\n",
    "    for e in elements:\n",
    "        plt.fill(e.nodesCoords[:,0], e.nodesCoords[:,1], color=\"greenyellow\", alpha=0.5, ec=\"k\")\n",
    "        plt.plot(e.nodesCoords[:,0], e.nodesCoords[:,1], \"k+\")\n",
    "    ax.set_aspect(\"equal\", \"box\")\n",
    "    plt.show()"
   ]
  },
  {
   "cell_type": "code",
   "execution_count": 3,
   "id": "659ca3fb",
   "metadata": {},
   "outputs": [],
   "source": [
    "# definition du maillage\n",
    "\n",
    "N = 50\n",
    "L = 100.0\n",
    "xCoords = np.linspace(0.0, L, N+1)\n",
    "dof = (N+1)*(N+1)\n",
    "nodes = np.array([[[x,y] for x in xCoords] for y in xCoords]).reshape((dof,2))\n",
    "\n",
    "elements = []\n",
    "for i in range(N*N):\n",
    "    nodesIdx = [i+i//N,i+1+i//N,i+N+2+i//N,i+N+1+i//N]\n",
    "    elements.append(Element(nodesIdx, np.array([nodes[n] for n in nodesIdx])))\n",
    "    \n",
    "#print(elements[3])\n",
    "#plotMesh(elements)"
   ]
  },
  {
   "cell_type": "code",
   "execution_count": 4,
   "id": "bc916496",
   "metadata": {},
   "outputs": [],
   "source": [
    "# définition des interpolateurs (P1 : linéaire) et de ses dérivées partielles\n",
    "phi = [\n",
    "    lambda u,v : 0.25*(1-u)*(1-v), # (-1,-1)\n",
    "    lambda u,v : 0.25*(1+u)*(1-v), # (+1,-1)\n",
    "    lambda u,v : 0.25*(1+u)*(1+v), # (-1,+1)\n",
    "    lambda u,v : 0.25*(1-u)*(1+v), # (+1,+1)\n",
    "]\n",
    "\n",
    "duphi = [\n",
    "        lambda u,v : -0.25*(1-v),   # (-1,-1)\n",
    "        lambda u,v : 0.25*(1-v),    # (+1,-1)\n",
    "        lambda u,v : 0.25**(1+v),   # (-1,+1)\n",
    "        lambda u,v : -0.25*(1+v),   # (+1,+1)\n",
    "]\n",
    "dvphi = [\n",
    "        lambda u,v : -0.25*(1-u),   # (-1,-1)\n",
    "        lambda u,v : -0.25*(1+u),   # (+1,-1)\n",
    "        lambda u,v : 0.25*(1+u),    # (-1,+1)\n",
    "        lambda u,v : 0.25*(1-u),    # (+1,+1)\n",
    "]\n",
    "\n",
    "# fonction retournant l'interpolateur selon les 4 fonctions phi pour les 4 valeurs aux noeuds X\n",
    "def interp(phiList, X):\n",
    "    return lambda u,v : sum([phi(u,v)*x for phi,x in zip(phiList, X)])"
   ]
  },
  {
   "cell_type": "code",
   "execution_count": 5,
   "id": "5b837d79",
   "metadata": {},
   "outputs": [],
   "source": [
    "# Calcul du jacobien pour chaque element\n",
    "\n",
    "for e in elements:\n",
    "    X, Y = e.nodesCoords[:,0], e.nodesCoords[:,1]\n",
    "    dxdu = interp(duphi, X)\n",
    "    dxdv = interp(dvphi, X)        \n",
    "    dydu = interp(duphi, Y)\n",
    "    dydv = interp(dvphi, Y)\n",
    "    e.detJ = lambda u,v : dxdu(u,v)*dydv(u,v) - dxdv(u,v)*dydu(u,v)    "
   ]
  },
  {
   "cell_type": "code",
   "execution_count": 6,
   "id": "a69359cb",
   "metadata": {},
   "outputs": [],
   "source": [
    "# Détermination d'une règle de quadrature\n",
    "\n",
    "Nquad = 5 # nombre de points de quadrature (par dimension)\n",
    "data = np.loadtxt(f\"../quadratureRules/gl_{Nquad:02d}.tab\") # gauss legendre\n",
    "w_i, xi_i = data[:,0], data[:,1] \n",
    "\n",
    "def quadrature2D(f, xi_i, w_i):\n",
    "    \"\"\"Compute the 2D integral of f(u,v) over [-1,1]x[-1,1]\"\"\"\n",
    "    return sum([ sum([w_i[i]*w_i[j] * f(xi_i[i], xi_i[j]) for i in range(Nquad)]) for j in range(Nquad)])"
   ]
  },
  {
   "cell_type": "markdown",
   "id": "1a5044ed",
   "metadata": {},
   "source": [
    "$$\n",
    "M^e_{ij} = \\int_{\\Omega_e}\\Phi_j\\Phi_i\n",
    "$$$$\n",
    "K^e_{ij}  = \\int_{\\Omega_e}\\nabla\\Phi_j\\nabla\\Phi_i\n",
    "$$\n"
   ]
  },
  {
   "cell_type": "code",
   "execution_count": 7,
   "id": "0255deb4",
   "metadata": {},
   "outputs": [
    {
     "name": "stderr",
     "output_type": "stream",
     "text": [
      "100%|██████████| 2500/2500 [00:27<00:00, 91.05it/s] \n"
     ]
    }
   ],
   "source": [
    "# Calcul des matrices élémentaires locales -> à optimiser\n",
    "\n",
    "for e in tqdm(elements):\n",
    "    \n",
    "    e.Ke = np.zeros((4,4))\n",
    "    e.Me = np.zeros((4,4))\n",
    "    \n",
    "    for i in range(4):\n",
    "        for j in range(4):\n",
    "            \n",
    "            fk = lambda u,v : (duphi[i](u,v)*duphi[j](u,v) + dvphi[i](u,v)*dvphi[j](u,v)) * e.detJ(u,v)\n",
    "            e.Ke[i,j] = quadrature2D(fk, xi_i, w_i)\n",
    "            \n",
    "            fm = lambda u,v : phi[i](u,v)*phi[j](u,v) * e.detJ(u,v)\n",
    "            e.Me[i,j] = quadrature2D(fm, xi_i, w_i)\n"
   ]
  },
  {
   "cell_type": "code",
   "execution_count": 8,
   "id": "1629b00c",
   "metadata": {},
   "outputs": [],
   "source": [
    "# Calcul des matrices d'assemblage\n",
    "\n",
    "for e in elements:\n",
    "    e.Q = np.zeros(((N+1)*(N+1), 4))\n",
    "    for (i,n) in enumerate(e.nodes):\n",
    "        e.Q[n,i] = 1\n",
    "\n",
    "# plt.imshow(elements[0].Q)"
   ]
  },
  {
   "cell_type": "code",
   "execution_count": 9,
   "id": "2c66c419",
   "metadata": {},
   "outputs": [
    {
     "name": "stderr",
     "output_type": "stream",
     "text": [
      "100%|██████████| 2500/2500 [02:22<00:00, 17.50it/s]\n"
     ]
    }
   ],
   "source": [
    "# Calcule des matrices globales -> à optimiser\n",
    "\n",
    "K = np.zeros((dof,dof))\n",
    "M = np.zeros((dof,dof))\n",
    "\n",
    "for e in tqdm(elements):\n",
    "    K += e.Q.dot(e.Ke).dot(e.Q.T)\n",
    "    M += e.Q.dot(e.Me).dot(e.Q.T)\n",
    "    \n",
    "iM = np.linalg.inv(M)"
   ]
  },
  {
   "cell_type": "code",
   "execution_count": 10,
   "id": "84dc3fbf",
   "metadata": {},
   "outputs": [
    {
     "name": "stdout",
     "output_type": "stream",
     "text": [
      "Courant number : 0.5\n"
     ]
    }
   ],
   "source": [
    "# Résolution itérative\n",
    "\n",
    "# CALCUL DYNAMIQUE\n",
    "\n",
    "Nt = 100\n",
    "Δt = 1.0\n",
    "time = np.linspace(0.0,  Δt*Nt, Nt)\n",
    "\n",
    "U = np.zeros((Nt,dof))\n",
    "F = np.zeros(dof)\n",
    "\n",
    "t0 = Nt*Δt/10.0\n",
    "f0 = 0.5\n",
    "fidx = int(dof/2)\n",
    "def f(t): return (4*(t-t0)**2*f0**4 - 2*f0**2)*np.exp(-(t-t0)**2*f0**2)\n",
    "\n",
    "print(f\"Courant number : {Δt/(L/N)}\")\n",
    "\n",
    "for i in range(2,Nt):\n",
    "    F[fidx] = f(i*Δt)\n",
    "    U[i,:] = 2*U[i-1,:] - U[i-2,:] + Δt**2 * (iM@(F-K@U[i-1,:]))"
   ]
  },
  {
   "cell_type": "code",
   "execution_count": 45,
   "id": "4ea3115b",
   "metadata": {},
   "outputs": [
    {
     "data": {
      "text/plain": [
       "[<matplotlib.lines.Line2D at 0x7f2140051640>]"
      ]
     },
     "execution_count": 45,
     "metadata": {},
     "output_type": "execute_result"
    },
    {
     "data": {
      "image/png": "[encoded data removed]",
      "text/plain": [
       "<Figure size 432x288 with 1 Axes>"
      ]
     },
     "metadata": {
      "needs_background": "light"
     },
     "output_type": "display_data"
    }
   ],
   "source": [
    "plt.plot(time, f(time))"
   ]
  },
  {
   "cell_type": "code",
   "execution_count": 46,
   "id": "0344342d",
   "metadata": {},
   "outputs": [
    {
     "data": {
      "text/plain": [
       "<matplotlib.image.AxesImage at 0x7f2134985ac0>"
      ]
     },
     "execution_count": 46,
     "metadata": {},
     "output_type": "execute_result"
    },
    {
     "data": {
      "image/png": "[encoded data removed]",
      "text/plain": [
       "<Figure size 432x288 with 1 Axes>"
      ]
     },
     "metadata": {
      "needs_background": "light"
     },
     "output_type": "display_data"
    }
   ],
   "source": [
    "plt.imshow(U[7,:].reshape((N+1,N+1)))"
   ]
  },
  {
   "cell_type": "code",
   "execution_count": 11,
   "id": "ad85e895",
   "metadata": {},
   "outputs": [],
   "source": [
    "def plot_field(U, N):\n",
    "\n",
    "    Nt = U.shape[0]\n",
    " \n",
    "    fig, ax = plt.subplots()\n",
    "    ax.set_title(\"2D accoustic wave, it = 0\")\n",
    "    \n",
    "    umax = max(np.max(U),-np.min(U))\n",
    "\n",
    "    i = 1\n",
    "    im = ax.imshow(U[i,:].reshape((N+1,N+1)))\n",
    "\n",
    "    i_update = 3\n",
    "        \n",
    "    def updatefig(i): \n",
    "        print(i)\n",
    "        im.set_data(U[1+i*i_update,:].reshape((N+1,N+1)), vmin=-umax, vmax=umax )\n",
    "        plt.colorbar(im)\n",
    "        ax.set_title(f\"2D accoustic wave, it = {i*i_update}\")\n",
    "\n",
    "    anim = mpl.animation.FuncAnimation(fig, updatefig, interval=30, frames=Nt//i_update)\n",
    "    return anim"
   ]
  },
  {
   "cell_type": "code",
   "execution_count": 1,
   "id": "94d835e4",
   "metadata": {},
   "outputs": [
    {
     "ename": "NameError",
     "evalue": "name 'mpl' is not defined",
     "output_type": "error",
     "traceback": [
      "\u001b[0;31m---------------------------------------------------------------------------\u001b[0m",
      "\u001b[0;31mNameError\u001b[0m                                 Traceback (most recent call last)",
      "\u001b[0;32m/tmp/ipykernel_363189/1174461128.py\u001b[0m in \u001b[0;36m<module>\u001b[0;34m\u001b[0m\n\u001b[0;32m----> 1\u001b[0;31m \u001b[0mmpl\u001b[0m\u001b[0;34m.\u001b[0m\u001b[0muse\u001b[0m\u001b[0;34m(\u001b[0m\u001b[0;34m\"Qt5Agg\"\u001b[0m\u001b[0;34m)\u001b[0m\u001b[0;34m\u001b[0m\u001b[0;34m\u001b[0m\u001b[0m\n\u001b[0m\u001b[1;32m      2\u001b[0m \u001b[0;34m\u001b[0m\u001b[0m\n\u001b[1;32m      3\u001b[0m \u001b[0manim\u001b[0m \u001b[0;34m=\u001b[0m \u001b[0mplot_field\u001b[0m\u001b[0;34m(\u001b[0m\u001b[0mU\u001b[0m\u001b[0;34m,\u001b[0m \u001b[0mN\u001b[0m\u001b[0;34m)\u001b[0m\u001b[0;34m\u001b[0m\u001b[0;34m\u001b[0m\u001b[0m\n\u001b[1;32m      4\u001b[0m \u001b[0manim\u001b[0m\u001b[0;34m.\u001b[0m\u001b[0mevent_source\u001b[0m\u001b[0;34m.\u001b[0m\u001b[0mstart\u001b[0m\u001b[0;34m(\u001b[0m\u001b[0;34m)\u001b[0m\u001b[0;34m\u001b[0m\u001b[0;34m\u001b[0m\u001b[0m\n\u001b[1;32m      5\u001b[0m \u001b[0mplt\u001b[0m\u001b[0;34m.\u001b[0m\u001b[0mshow\u001b[0m\u001b[0;34m(\u001b[0m\u001b[0;34m)\u001b[0m\u001b[0;34m\u001b[0m\u001b[0;34m\u001b[0m\u001b[0m\n",
      "\u001b[0;31mNameError\u001b[0m: name 'mpl' is not defined"
     ]
    }
   ],
   "source": [
    "mpl.use(\"Qt5Agg\")\n",
    "\n",
    "anim = plot_field(U, N)\n",
    "anim.event_source.start()\n",
    "plt.show()"
   ]
  },
  {
   "cell_type": "code",
   "execution_count": 68,
   "id": "5858e2a8",
   "metadata": {},
   "outputs": [
    {
     "name": "stdout",
     "output_type": "stream",
     "text": [
      "24\n",
      "25\n",
      "26\n",
      "27\n",
      "28\n",
      "29\n",
      "30\n",
      "31\n",
      "32\n",
      "0\n",
      "0\n",
      "1\n",
      "2\n",
      "3\n",
      "4\n",
      "5\n",
      "6\n",
      "7\n",
      "8\n",
      "9\n",
      "10\n",
      "11\n",
      "12\n",
      "13\n",
      "14\n",
      "15\n",
      "16\n",
      "17\n",
      "18\n",
      "19\n",
      "20\n",
      "21\n",
      "22\n",
      "23\n",
      "24\n",
      "25\n",
      "26\n",
      "27\n",
      "28\n",
      "29\n",
      "30\n",
      "31\n",
      "32\n",
      "0\n",
      "0\n",
      "1\n",
      "2\n",
      "3\n",
      "4\n",
      "5\n",
      "6\n",
      "7\n",
      "8\n",
      "9\n",
      "10\n",
      "11\n",
      "12\n",
      "13\n",
      "14\n",
      "15\n",
      "16\n",
      "17\n",
      "18\n",
      "19\n",
      "20\n",
      "21\n",
      "22\n",
      "23\n",
      "24\n",
      "25\n",
      "26\n",
      "27\n",
      "28\n",
      "29\n",
      "30\n",
      "31\n",
      "32\n",
      "0\n",
      "0\n",
      "1\n",
      "2\n",
      "3\n",
      "4\n",
      "5\n",
      "6\n",
      "7\n",
      "8\n",
      "9\n",
      "10\n",
      "11\n",
      "12\n",
      "13\n",
      "14\n",
      "15\n",
      "16\n",
      "17\n",
      "18\n",
      "19\n",
      "20\n",
      "21\n",
      "22\n",
      "23\n",
      "24\n",
      "25\n",
      "26\n",
      "27\n",
      "28\n",
      "29\n",
      "30\n",
      "31\n",
      "32\n",
      "0\n",
      "0\n",
      "1\n",
      "2\n",
      "3\n",
      "4\n"
     ]
    }
   ],
   "source": [
    "%matplotlib widget"
   ]
  },
  {
   "cell_type": "code",
   "execution_count": null,
   "id": "fe992b0a",
   "metadata": {},
   "outputs": [],
   "source": []
  }
 ],
 "metadata": {
  "@webio": {
   "lastCommId": null,
   "lastKernelId": null
  },
  "kernelspec": {
   "display_name": "Python 3 (ipykernel)",
   "language": "python",
   "name": "python3"
  },
  "language_info": {
   "codemirror_mode": {
    "name": "ipython",
    "version": 3
   },
   "file_extension": ".py",
   "mimetype": "text/x-python",
   "name": "python",
   "nbconvert_exporter": "python",
   "pygments_lexer": "ipython3",
   "version": "3.8.8"
  }
 },
 "nbformat": 4,
 "nbformat_minor": 5
}
