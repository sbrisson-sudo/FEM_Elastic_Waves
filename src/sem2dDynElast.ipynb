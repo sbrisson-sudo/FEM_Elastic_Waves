{
 "cells": [
  {
   "cell_type": "code",
   "execution_count": 1,
   "metadata": {},
   "outputs": [],
   "source": [
    "%load_ext autoreload\n",
    "%autoreload 2"
   ]
  },
  {
   "cell_type": "code",
   "execution_count": 2,
   "metadata": {},
   "outputs": [
    {
     "name": "stdout",
     "output_type": "stream",
     "text": [
      "Code parallelized with 12 processes.\n"
     ]
    }
   ],
   "source": [
    "import numpy as np\n",
    "import matplotlib.pyplot as plt\n",
    "from tqdm import tqdm\n",
    "\n",
    "from multiprocess import Pool, cpu_count\n",
    "\n",
    "from fem2D import *\n",
    "from squareMesh import squareMesh\n",
    "\n",
    "nprocesses = cpu_count()\n",
    "print(f\"Code parallelized with {nprocesses} processes.\")"
   ]
  },
  {
   "cell_type": "code",
   "execution_count": 15,
   "metadata": {},
   "outputs": [
    {
     "name": "stdout",
     "output_type": "stream",
     "text": [
      "dof=6561\n"
     ]
    }
   ],
   "source": [
    "# construction du maillage\n",
    "\n",
    "eraseCurrentMesh()\n",
    "\n",
    "N = 4       # elements order\n",
    "\n",
    "L = 10000.0   # square size\n",
    "dx = L/20   # elements size\n",
    "elements, nodes = squareMesh(L,dx,N)\n",
    "Δx = dx/(N+1)\n",
    "\n",
    "dof = len(nodes)\n",
    "print(f\"{dof=}\")"
   ]
  },
  {
   "cell_type": "code",
   "execution_count": 16,
   "metadata": {},
   "outputs": [
    {
     "name": "stdout",
     "output_type": "stream",
     "text": [
      "xi=array([-1.        , -0.65465367,  0.        ,  0.65465367,  1.        ])\n"
     ]
    }
   ],
   "source": [
    "# Chargement des points/poids d'intégration de GLL + dérivée des interpolateurs lagrangiens sur ces points\n",
    "xi,w,dh = readGLL(N)\n",
    "print(f\"{xi=}\")"
   ]
  },
  {
   "cell_type": "code",
   "execution_count": 17,
   "metadata": {},
   "outputs": [
    {
     "name": "stderr",
     "output_type": "stream",
     "text": [
      "100%|██████████| 400/400 [00:00<00:00, 402.75it/s]\n"
     ]
    }
   ],
   "source": [
    "# Pour chaque élément calcul:\n",
    "# - du jacobien\n",
    "# - de l'inverse de la matrice jacobienne\n",
    "# La transformation depuis un élément quelconque vers l'élément de référence est l'interpolation bilinéaire\n",
    "\n",
    "duphi = shapeFunctions[\"P1\"][\"duphi\"]\n",
    "dvphi = shapeFunctions[\"P1\"][\"dvphi\"]\n",
    "\n",
    "def computeJacobian(e):\n",
    "        \n",
    "    coords = e.getCoords()\n",
    "    X, Y = coords[:,0], coords[:,1]\n",
    "    \n",
    "    Je11 = np.zeros((N+1,N+1))\n",
    "    Je21 = np.zeros((N+1,N+1))\n",
    "    Je12 = np.zeros((N+1,N+1))\n",
    "    Je22 = np.zeros((N+1,N+1))\n",
    "    \n",
    "    e.detJ = np.zeros((N+1,N+1))\n",
    "    \n",
    "    e.iJe11 = np.zeros((N+1,N+1))\n",
    "    e.iJe21 = np.zeros((N+1,N+1))\n",
    "    e.iJe12 = np.zeros((N+1,N+1))\n",
    "    e.iJe22 = np.zeros((N+1,N+1))\n",
    "\n",
    "    dxdu = interp(duphi, X)\n",
    "    dxdv = interp(dvphi, X)        \n",
    "    dydu = interp(duphi, Y)\n",
    "    dydv = interp(dvphi, Y)\n",
    "    \n",
    "    \n",
    "    for i in range(N+1):\n",
    "        for j in range(N+1):\n",
    "            \n",
    "            Je11[i,j] = dxdu(xi[i], xi[j])\n",
    "            Je21[i,j] = dxdv(xi[i], xi[j])\n",
    "            Je12[i,j] = dydu(xi[i], xi[j])\n",
    "            Je22[i,j] = dydv(xi[i], xi[j])\n",
    "            \n",
    "            e.detJ[i,j] = Je11[i,j]*Je22[i,j] - Je21[i,j]*Je12[i,j]\n",
    "            \n",
    "            e.iJe11[i,j] =  Je22[i,j]/e.detJ[i,j]\n",
    "            e.iJe22[i,j] =  Je11[i,j]/e.detJ[i,j]\n",
    "            e.iJe21[i,j] = -Je21[i,j]/e.detJ[i,j]\n",
    "            e.iJe12[i,j] = -Je12[i,j]/e.detJ[i,j]\n",
    "            \n",
    "    return e\n",
    "    \n",
    "with Pool(nprocesses) as p:\n",
    "    Element.id = 0\n",
    "    elements = list(tqdm(p.imap(computeJacobian, elements), total=len(elements)))"
   ]
  },
  {
   "cell_type": "code",
   "execution_count": 18,
   "metadata": {},
   "outputs": [
    {
     "name": "stdout",
     "output_type": "stream",
     "text": [
      "Vitesse des ondes P : 3.795km/s\n",
      "Vitesse des ondes S : 2.191km/s\n"
     ]
    }
   ],
   "source": [
    "# paramètres mécaniques béton\n",
    "\n",
    "E = 30e9        # module d'Young\n",
    "ν = 0.25        # coefficient de Poisson\n",
    "\n",
    "# paramètres de Lamé\n",
    "λ = (E*ν) / ((1+ν)*(1-2*ν))\n",
    "μ = E / (2*(1+ν))\n",
    "\n",
    "# masse volumique\n",
    "ρ = 2500.0\n",
    "\n",
    "# vitesses d'ondes\n",
    "vp = np.sqrt((λ+2*μ)/ρ)\n",
    "vs =np.sqrt(μ/ρ)\n",
    "\n",
    "print(f\"Vitesse des ondes P : {vp/1000:.3f}km/s\")\n",
    "print(f\"Vitesse des ondes S : {vs/1000:.3f}km/s\")\n"
   ]
  },
  {
   "cell_type": "code",
   "execution_count": 19,
   "metadata": {},
   "outputs": [
    {
     "name": "stderr",
     "output_type": "stream",
     "text": [
      "100%|██████████| 400/400 [00:09<00:00, 41.90it/s]\n"
     ]
    }
   ],
   "source": [
    "# calcul des matrices élémentaires\n",
    "\n",
    "δ = np.eye(N+1)\n",
    "\n",
    "def computeStiffnes(e):\n",
    "    \n",
    "    # KeTemp = np.zeros((N+1,N+1,N+1,N+1))\n",
    "    e.Ke = np.zeros((2*(N+1)**2,2*(N+1)**2))\n",
    "    \n",
    "    Kdxdx = np.zeros((N+1,N+1,N+1,N+1))\n",
    "    Kdydy = np.zeros((N+1,N+1,N+1,N+1))\n",
    "    Kdxdy = np.zeros((N+1,N+1,N+1,N+1))\n",
    "    Kdydx = np.zeros((N+1,N+1,N+1,N+1))\n",
    "    \n",
    "    for a in range(N+1):\n",
    "        for b in range(N+1):\n",
    "            for c in range(N+1):\n",
    "                for d in range(N+1):\n",
    "                       \n",
    "                        for p in range(N+1):\n",
    "                            for q in range(N+1):\n",
    "                                \n",
    "                                Kdxdx[a,b,c,d] += w[p]*w[q] * (e.iJe11[p,q]*dh[a,p]*δ[b,q] + e.iJe12[p,q]*dh[b,q]*δ[a,p])*(e.iJe11[p,q]*dh[c,p]*δ[d,q] + e.iJe12[p,q]*dh[d,q]*δ[c,p]) * e.detJ[p,q]\n",
    "                                Kdydy[a,b,c,d] += w[p]*w[q] * (e.iJe21[p,q]*dh[a,p]*δ[b,q] + e.iJe22[p,q]*dh[b,q]*δ[a,p])*(e.iJe21[p,q]*dh[c,p]*δ[d,q] + e.iJe22[p,q]*dh[d,q]*δ[c,p]) * e.detJ[p,q]\n",
    "                                Kdxdy[a,b,c,d] += w[p]*w[q] * (e.iJe11[p,q]*dh[a,p]*δ[b,q] + e.iJe12[p,q]*dh[b,q]*δ[a,p])*(e.iJe21[p,q]*dh[c,p]*δ[d,q] + e.iJe22[p,q]*dh[d,q]*δ[c,p]) * e.detJ[p,q]\n",
    "                                Kdydx[a,b,c,d] += w[p]*w[q] * (e.iJe21[p,q]*dh[a,p]*δ[b,q] + e.iJe22[p,q]*dh[b,q]*δ[a,p])*(e.iJe21[p,q]*dh[c,p]*δ[d,q] + e.iJe22[p,q]*dh[d,q]*δ[c,p]) * e.detJ[p,q]\n",
    "                                \n",
    "    for i in range(2*(N+1)**2):\n",
    "        for j in range(2*(N+1)**2):\n",
    "            \n",
    "            if i%2 == 0 and j%2 == 0:\n",
    "                \n",
    "                a,b = i//2//(N+1), i//2%(N+1)\n",
    "                c,d = j//2//(N+1), j//2%(N+1)\n",
    "                \n",
    "                e.Ke[i,j] = (2*λ+μ)*Kdxdx[a,b,c,d] + μ*Kdydy[a,b,c,d]             \n",
    "                \n",
    "            if i%2 == 0 and j%2 != 0:\n",
    "            \n",
    "                a,b = i//2//(N+1), i//2%(N+1)\n",
    "                c,d = (j-1)//2//(N+1), (j-1)//2%(N+1)\n",
    "                \n",
    "                e.Ke[i,j] = λ*Kdxdy[a,b,c,d] + μ*Kdydx[a,b,c,d]      \n",
    "            \n",
    "            if i%2 != 0 and j%2 == 0:\n",
    "                    \n",
    "                a,b = (i-1)//2//(N+1), (i-1)//2%(N+1)\n",
    "                c,d = j//2//(N+1), j//2%(N+1)\n",
    "                \n",
    "                e.Ke[i,j] = λ*Kdydx[a,b,c,d] + μ*Kdxdy[a,b,c,d]             \n",
    "                \n",
    "            if i%2 != 0 and j%2 != 0:\n",
    "            \n",
    "                a,b = (i-1)//2//(N+1), (i-1)//2%(N+1)\n",
    "                c,d = (j-1)//2//(N+1), (j-1)//2%(N+1)\n",
    "                \n",
    "                e.Ke[i,j] = (2*λ+μ)*Kdydy[a,b,c,d] + μ*Kdxdy[a,b,c,d] \n",
    "                                \n",
    "    return e\n",
    "\n",
    "# elements = list(tqdm(map(computeStiffnes, elements), total=len(elements)))\n",
    "\n",
    "with Pool(nprocesses) as p:\n",
    "    Element.id = 0\n",
    "    elements = list(tqdm(p.imap(computeStiffnes, elements), total=len(elements)))"
   ]
  },
  {
   "cell_type": "code",
   "execution_count": 20,
   "metadata": {},
   "outputs": [
    {
     "name": "stderr",
     "output_type": "stream",
     "text": [
      "100%|██████████| 400/400 [00:00<00:00, 17930.51it/s]\n"
     ]
    }
   ],
   "source": [
    "# calcul des matrices élémentaires de masse\n",
    "\n",
    "for e in tqdm(elements):\n",
    "    \n",
    "    e.Me = np.zeros(2*(N+1)**2) # diagonal\n",
    "    \n",
    "    for i in range(2*(N+1)**2):\n",
    "        if i%2 == 0:\n",
    "            e.Me[i] = ρ * w[i//2//(N+1)]*w[i//2%(N+1)]*e.detJ[i//2//(N+1),i//2%(N+1)]\n",
    "        else:\n",
    "            e.Me[i] = ρ * w[(i-1)//2//(N+1)]*w[(i-1)//2%(N+1)]*e.detJ[(i-1)//2//(N+1),(i-1)//2%(N+1)]"
   ]
  },
  {
   "cell_type": "code",
   "execution_count": 21,
   "metadata": {},
   "outputs": [
    {
     "name": "stderr",
     "output_type": "stream",
     "text": [
      "100%|██████████| 400/400 [00:00<00:00, 550.35it/s]\n"
     ]
    }
   ],
   "source": [
    "# assemblage\n",
    "\n",
    "K = np.zeros((2*dof,2*dof))\n",
    "M = np.zeros(2*dof)\n",
    "F = np.zeros(2*dof)\n",
    "\n",
    "for e in tqdm(elements):\n",
    "    for (i,n1) in enumerate(e.nodes):\n",
    "        M[2*n1.id] += e.Me[2*i]\n",
    "        M[2*n1.id+1] += e.Me[2*i+1]\n",
    "        for (j,n2) in enumerate(e.nodes):\n",
    "            K[2*n1.id,2*n2.id] += e.Ke[2*i,2*j]\n",
    "            K[2*n1.id+1,2*n2.id] += e.Ke[2*i+1,2*j]\n",
    "            K[2*n1.id,2*n2.id+1] += e.Ke[2*i,2*j+1]\n",
    "            K[2*n1.id+1,2*n2.id+1] += e.Ke[2*i+1,2*j+1]"
   ]
  },
  {
   "cell_type": "code",
   "execution_count": 22,
   "metadata": {},
   "outputs": [],
   "source": [
    "# inverting mass matrix\n",
    "\n",
    "iM = 1/M"
   ]
  },
  {
   "cell_type": "code",
   "execution_count": 43,
   "metadata": {},
   "outputs": [],
   "source": [
    "# résolution temporelle\n",
    "\n",
    "Nit = 3000\n",
    "cfl = 0.25\n",
    "Δt = Δx/vp* cfl\n",
    "T = Δt*Nit \n",
    "\n",
    "time = np.linspace(0,T,Nit)\n",
    "\n",
    "U = np.zeros((Nit, 2*dof))\n",
    "dU = np.zeros((Nit, 2*dof))\n",
    "ddU = np.zeros((Nit, 2*dof))\n",
    "\n",
    "# définition source\n",
    "\n",
    "t0 = T/5.0         # tuning\n",
    "f0 = 100/(2*Δx)     # tuning\n",
    "f = lambda t : (4*(t-t0)**2*f0**4 - 2*f0**2)*np.exp(-(t-t0)**2*f0**2)\n",
    "noeudSource = getCenterNode(nodes)\n",
    "ns1, ns2 = 2*noeudSource, 2*noeudSource+1"
   ]
  },
  {
   "cell_type": "code",
   "execution_count": 44,
   "metadata": {},
   "outputs": [
    {
     "name": "stdout",
     "output_type": "stream",
     "text": [
      "CFL = 0.24999999999999997\n",
      "Δx = 100.0m while λmin ~ 0.5\n"
     ]
    }
   ],
   "source": [
    "# tests sur valeurs paramètres\n",
    "print(f\"CFL = {Δt/Δx*vp}\")\n",
    "print(f\"Δx = {Δx}m while λmin ~ {1/(4*f0)}\")"
   ]
  },
  {
   "cell_type": "code",
   "execution_count": 45,
   "metadata": {},
   "outputs": [
    {
     "data": {
      "text/plain": [
       "[<matplotlib.lines.Line2D at 0x7f629a0bcca0>]"
      ]
     },
     "execution_count": 45,
     "metadata": {},
     "output_type": "execute_result"
    },
    {
     "data": {
      "image/png": "[encoded data removed]",
      "text/plain": [
       "<Figure size 432x288 with 1 Axes>"
      ]
     },
     "metadata": {
      "needs_background": "light"
     },
     "output_type": "display_data"
    }
   ],
   "source": [
    "%matplotlib inline\n",
    "plt.plot(time, f(time))"
   ]
  },
  {
   "cell_type": "code",
   "execution_count": 46,
   "metadata": {},
   "outputs": [
    {
     "name": "stderr",
     "output_type": "stream",
     "text": [
      "100%|██████████| 2998/2998 [01:23<00:00, 35.87it/s]\n"
     ]
    }
   ],
   "source": [
    "# FD\n",
    "for i in tqdm(range(2,Nit)):\n",
    "    F[ns1] = f(i*Δt)\n",
    "    F[ns2] = f(i*Δt)\n",
    "    U[i,:] = 2*U[i-1,:] - U[i-2,:] + Δt**2*np.multiply(iM , F - K@U[i-1,:])"
   ]
  },
  {
   "cell_type": "code",
   "execution_count": 47,
   "metadata": {},
   "outputs": [
    {
     "data": {
      "application/vnd.jupyter.widget-view+json": {
       "model_id": "d9430d4503a34fa387424447582049f8",
       "version_major": 2,
       "version_minor": 0
      },
      "text/plain": [
       "Canvas(toolbar=Toolbar(toolitems=[('Home', 'Reset original view', 'home', 'home'), ('Back', 'Back to previous …"
      ]
     },
     "metadata": {},
     "output_type": "display_data"
    },
    {
     "data": {
      "text/plain": [
       "[<matplotlib.lines.Line2D at 0x7f629a07e9d0>]"
      ]
     },
     "execution_count": 47,
     "metadata": {},
     "output_type": "execute_result"
    }
   ],
   "source": [
    "%matplotlib widget\n",
    "plt.plot(time, U[:,ns1])\n",
    "plt.plot(time, f(time))"
   ]
  },
  {
   "cell_type": "code",
   "execution_count": 48,
   "metadata": {},
   "outputs": [
    {
     "name": "stdout",
     "output_type": "stream",
     "text": [
      "Warning: Cannot change to a different GUI toolkit: tk. Using widget instead.\n"
     ]
    }
   ],
   "source": [
    "import matplotlib.animation as animation\n",
    "\n",
    "# %matplotlib widget\n",
    "%matplotlib tk"
   ]
  },
  {
   "cell_type": "code",
   "execution_count": 62,
   "metadata": {},
   "outputs": [
    {
     "name": "stderr",
     "output_type": "stream",
     "text": [
      "ERROR:tornado.application:Exception in callback <bound method TimerBase._on_timer of <matplotlib.backends.backend_webagg_core.TimerTornado object at 0x7f6299d39b20>>\n",
      "Traceback (most recent call last):\n",
      "  File \"/home/sylvain/anaconda3/lib/python3.8/site-packages/tornado/ioloop.py\", line 905, in _run\n",
      "    return self.callback()\n",
      "  File \"/home/sylvain/anaconda3/lib/python3.8/site-packages/matplotlib/backend_bases.py\", line 1216, in _on_timer\n",
      "    ret = func(*args, **kwargs)\n",
      "  File \"/home/sylvain/anaconda3/lib/python3.8/site-packages/matplotlib/animation.py\", line 1479, in _step\n",
      "    self._init_draw()\n",
      "  File \"/home/sylvain/anaconda3/lib/python3.8/site-packages/matplotlib/animation.py\", line 1753, in _init_draw\n",
      "    self._draw_frame(next(self.new_frame_seq()))\n",
      "  File \"/home/sylvain/anaconda3/lib/python3.8/site-packages/matplotlib/animation.py\", line 1776, in _draw_frame\n",
      "    self._drawn_artists = self._func(framedata, *self._args)\n",
      "  File \"/tmp/ipykernel_31823/3845110735.py\", line 18, in animate\n",
      "    dots.set_array(U1[dit*i,:])\n",
      "IndexError: too many indices for array: array is 1-dimensional, but 2 were indexed\n",
      "ERROR:tornado.application:Exception in callback <bound method TimerBase._on_timer of <matplotlib.backends.backend_webagg_core.TimerTornado object at 0x7f6299964460>>\n",
      "Traceback (most recent call last):\n",
      "  File \"/home/sylvain/anaconda3/lib/python3.8/site-packages/tornado/ioloop.py\", line 905, in _run\n",
      "    return self.callback()\n",
      "  File \"/home/sylvain/anaconda3/lib/python3.8/site-packages/matplotlib/backend_bases.py\", line 1216, in _on_timer\n",
      "    ret = func(*args, **kwargs)\n",
      "  File \"/home/sylvain/anaconda3/lib/python3.8/site-packages/matplotlib/animation.py\", line 1479, in _step\n",
      "    self._init_draw()\n",
      "  File \"/home/sylvain/anaconda3/lib/python3.8/site-packages/matplotlib/animation.py\", line 1753, in _init_draw\n",
      "    self._draw_frame(next(self.new_frame_seq()))\n",
      "  File \"/home/sylvain/anaconda3/lib/python3.8/site-packages/matplotlib/animation.py\", line 1776, in _draw_frame\n",
      "    self._drawn_artists = self._func(framedata, *self._args)\n",
      "  File \"/tmp/ipykernel_31823/789735349.py\", line 18, in animate\n",
      "    dots.set_array(U1[dit*i,:])\n",
      "IndexError: too many indices for array: array is 1-dimensional, but 2 were indexed\n",
      "ERROR:tornado.application:Exception in callback <bound method TimerBase._on_timer of <matplotlib.backends.backend_webagg_core.TimerTornado object at 0x7f6299a98130>>\n",
      "Traceback (most recent call last):\n",
      "  File \"/home/sylvain/anaconda3/lib/python3.8/site-packages/tornado/ioloop.py\", line 905, in _run\n",
      "    return self.callback()\n",
      "  File \"/home/sylvain/anaconda3/lib/python3.8/site-packages/matplotlib/backend_bases.py\", line 1216, in _on_timer\n",
      "    ret = func(*args, **kwargs)\n",
      "  File \"/home/sylvain/anaconda3/lib/python3.8/site-packages/matplotlib/animation.py\", line 1479, in _step\n",
      "    self._init_draw()\n",
      "  File \"/home/sylvain/anaconda3/lib/python3.8/site-packages/matplotlib/animation.py\", line 1753, in _init_draw\n",
      "    self._draw_frame(next(self.new_frame_seq()))\n",
      "  File \"/home/sylvain/anaconda3/lib/python3.8/site-packages/matplotlib/animation.py\", line 1776, in _draw_frame\n",
      "    self._drawn_artists = self._func(framedata, *self._args)\n",
      "  File \"/tmp/ipykernel_31823/3845110735.py\", line 18, in animate\n",
      "    dots.set_array(U1[dit*i,:])\n",
      "IndexError: too many indices for array: array is 1-dimensional, but 2 were indexed\n"
     ]
    },
    {
     "data": {
      "application/vnd.jupyter.widget-view+json": {
       "model_id": "d1408e923faf4291a8fc87ed1922f326",
       "version_major": 2,
       "version_minor": 0
      },
      "text/plain": [
       "Canvas(toolbar=Toolbar(toolitems=[('Home', 'Reset original view', 'home', 'home'), ('Back', 'Back to previous …"
      ]
     },
     "metadata": {},
     "output_type": "display_data"
    }
   ],
   "source": [
    "fig, ax = plt.subplots(figsize=(10,10))\n",
    "ax.set_aspect(\"equal\", \"box\")\n",
    "\n",
    "it = 100\n",
    "\n",
    "U1 = U[it,::2]\n",
    "\n",
    "umin = min(U1.min(), -U1.max())/3\n",
    "\n",
    "# dots = ax.scatter([n.x for n in nodes], [n.y for n in nodes], c=U1[0,:], zorder=4, cmap=\"seismic\", vmin=umin, vmax=-umin)\n",
    "dots = ax.scatter([n.x for n in nodes], [n.y for n in nodes], c=U1, zorder=4, cmap=\"seismic\",vmin=umin, vmax=-umin)\n",
    "cbar = plt.colorbar(dots)\n",
    "ttl = ax.annotate(f\"it = {it}\", xy=(0.05, 0.05), xycoords='axes fraction', bbox=dict(facecolor='white', edgecolor='grey'), zorder=5)\n",
    "\n",
    "plt.show()"
   ]
  },
  {
   "cell_type": "code",
   "execution_count": 56,
   "metadata": {},
   "outputs": [
    {
     "data": {
      "application/vnd.jupyter.widget-view+json": {
       "model_id": "0d097a016dba4556a7463603a4dbd406",
       "version_major": 2,
       "version_minor": 0
      },
      "text/plain": [
       "Canvas(toolbar=Toolbar(toolitems=[('Home', 'Reset original view', 'home', 'home'), ('Back', 'Back to previous …"
      ]
     },
     "metadata": {},
     "output_type": "display_data"
    }
   ],
   "source": [
    "fig, ax = plt.subplots()\n",
    "ax.set_aspect(\"equal\", \"box\")\n",
    "\n",
    "# plotMeshLimits(elements, ax)\n",
    "\n",
    "U1 = U[:,::2]\n",
    "\n",
    "umin = min(U1.min(), -U1.max())/3\n",
    "\n",
    "# dots = ax.scatter([n.x for n in nodes], [n.y for n in nodes], c=U1[0,:], zorder=4, cmap=\"seismic\", vmin=umin, vmax=-umin)\n",
    "dots = ax.scatter([n.x for n in nodes], [n.y for n in nodes], c=U1[0,:], zorder=4, cmap=\"seismic\")\n",
    "cbar = plt.colorbar(dots)\n",
    "ttl = ax.annotate(\"it = 0\", xy=(0.05, 0.05), xycoords='axes fraction', bbox=dict(facecolor='white', edgecolor='grey'), zorder=5)\n",
    "\n",
    "dit = 10\n",
    "\n",
    "def animate(i):\n",
    "    dots.set_array(U1[dit*i,:])\n",
    "    cbar.update_normal(dots)\n",
    "    ttl.set_text(f\"it = {dit*i}\")\n",
    "    return dots,ttl,\n",
    "\n",
    "ani = animation.FuncAnimation(fig, animate, interval=300, blit=True, frames = int(Nit/dit))\n",
    "\n",
    "ani.event_source.start()\n",
    "\n",
    "plt.show()"
   ]
  },
  {
   "cell_type": "code",
   "execution_count": 16,
   "metadata": {},
   "outputs": [],
   "source": [
    "# plot interpolation bourrin : interpolation régulière sur l'élément de référence pour chaque élément puis interpolation \"nearest\" sur le nuage de point créé\n",
    "\n",
    "def interpPlot(U, elements = elements, onlyZ = True):\n",
    "    \n",
    "    phi = shapeFunctions[\"P1\"][\"phi\"]\n",
    "    hij = lagrangian2D(N)\n",
    "    \n",
    "    npts = 10\n",
    "        \n",
    "    u = np.linspace(-1, 1, npts)\n",
    "    uu, vv = np.meshgrid(u,u)\n",
    "    vmin, vmax = U.min(), U.max()\n",
    "\n",
    "    if not(onlyZ): X,Y = np.zeros(len(elements)*npts**2),np.zeros(len(elements)*npts**2)\n",
    "    \n",
    "    Z = np.zeros(len(elements)*npts**2)\n",
    "    \n",
    "    for i,e in enumerate(elements):\n",
    "        \n",
    "        coords = e.getCoords()\n",
    "        \n",
    "        zitp = interp(hij, [U[n.id] for n in e.nodes])\n",
    "        Z[i*npts**2:(i+1)*npts**2] = zitp(uu, vv).reshape(npts**2)\n",
    "\n",
    "        if not(onlyZ):\n",
    "            xitp = interp(phi, coords[:,0])\n",
    "            yitp = interp(phi, coords[:,1])\n",
    "            X[i*npts**2:(i+1)*npts**2] = xitp(uu, vv).reshape(npts**2)\n",
    "            Y[i*npts**2:(i+1)*npts**2] = yitp(uu, vv).reshape(npts**2)\n",
    "            \n",
    "    if onlyZ: return Z\n",
    "    return X,Y,Z "
   ]
  },
  {
   "cell_type": "code",
   "execution_count": 17,
   "metadata": {},
   "outputs": [
    {
     "name": "stderr",
     "output_type": "stream",
     "text": [
      "100%|██████████| 400/400 [01:12<00:00,  5.53it/s]\n"
     ]
    }
   ],
   "source": [
    "X,Y,Uitp0 = interpPlot(U[0,:],elements,False)\n",
    "\n",
    "dit_interp = 5\n",
    "U_list = [U[i,:] for i in range(1,Nit,dit_interp)]\n",
    "\n",
    "with Pool(nprocesses) as p:\n",
    "    Uitp = [Uitp0] + list(tqdm(p.imap(interpPlot, U_list), total=len(U_list)))"
   ]
  },
  {
   "cell_type": "code",
   "execution_count": 20,
   "metadata": {},
   "outputs": [],
   "source": [
    "fig, ax = plt.subplots()\n",
    "ax.set_aspect(\"equal\", \"box\")\n",
    "\n",
    "# plotMeshLimits(elements, ax)\n",
    "\n",
    "umin = min(U.min(), -U.max())/3\n",
    "\n",
    "dots = ax.scatter(X, Y, c=Uitp[0], zorder=4, cmap=\"seismic\", vmin=umin, vmax=-umin, marker=\",\")\n",
    "\n",
    "cbar = plt.colorbar(dots)\n",
    "\n",
    "ttl = ax.annotate(\"it = 0\", xy=(0.05, 0.05), xycoords='axes fraction', bbox=dict(facecolor='white', edgecolor='grey'), zorder=5)\n",
    "\n",
    "dit = 2\n",
    "\n",
    "def animate(i):\n",
    "    dots.set_array(Uitp[dit*i])\n",
    "    cbar.update_normal(dots)\n",
    "    ttl.set_text(f\"it = {dit_interp*dit*i}\")\n",
    "    return dots,ttl,\n",
    "\n",
    "ani = animation.FuncAnimation(fig, animate, interval=100, blit=True, frames = len(Uitp))\n",
    "\n",
    "ani.event_source.start()\n",
    "\n",
    "plt.show()"
   ]
  },
  {
   "cell_type": "code",
   "execution_count": null,
   "metadata": {},
   "outputs": [],
   "source": []
  }
 ],
 "metadata": {
  "interpreter": {
   "hash": "47558f5d1345b312ea7cbe4d32be71183e95bb01b25d23a408d164bfdcf9fcf4"
  },
  "kernelspec": {
   "display_name": "Python 3.8.8 64-bit ('base': conda)",
   "language": "python",
   "name": "python3"
  },
  "language_info": {
   "codemirror_mode": {
    "name": "ipython",
    "version": 3
   },
   "file_extension": ".py",
   "mimetype": "text/x-python",
   "name": "python",
   "nbconvert_exporter": "python",
   "pygments_lexer": "ipython3",
   "version": "3.8.8"
  },
  "orig_nbformat": 4
 },
 "nbformat": 4,
 "nbformat_minor": 2
}
