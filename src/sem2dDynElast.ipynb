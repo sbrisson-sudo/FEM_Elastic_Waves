{
 "cells": [
  {
   "cell_type": "code",
   "execution_count": 2,
   "metadata": {},
   "outputs": [
    {
     "name": "stdout",
     "output_type": "stream",
     "text": [
      "Code parallelized with 12 processes.\n"
     ]
    }
   ],
   "source": [
    "# importations\n",
    "\n",
    "import numpy as np\n",
    "import matplotlib.pyplot as plt\n",
    "import matplotlib.animation as animation\n",
    "%matplotlib tk\n",
    "\n",
    "from copy import deepcopy\n",
    "\n",
    "# suivre avancements boucles\n",
    "from tqdm import tqdm\n",
    "\n",
    "# parallelisation (mémoire partagée)\n",
    "from multiprocess import Pool, cpu_count\n",
    "\n",
    "# module d'éléments finis\n",
    "from fem2D import *\n",
    "\n",
    "# module de crétion de maillages simples (carrés et rectangles)\n",
    "from simpleMeshes import *\n",
    "\n",
    "nprocesses = cpu_count()\n",
    "print(f\"Code parallelized with {nprocesses} processes.\")"
   ]
  },
  {
   "cell_type": "code",
   "execution_count": 3,
   "metadata": {},
   "outputs": [
    {
     "name": "stdout",
     "output_type": "stream",
     "text": [
      "Nombre de noeuds : 2025\n",
      "Soit 4050 degré de liberté pour un champ 2D\n"
     ]
    }
   ],
   "source": [
    "# construction du maillage\n",
    "\n",
    "# efface un potentiel maillage déjà chargé\n",
    "eraseCurrentMesh()\n",
    "\n",
    "N = 4       # ordre des éléments\n",
    "\n",
    "# taille du milieu\n",
    "Lx = 100000.0\n",
    "Lz = 4*Lx\n",
    "dx = Lx/5   # taille des éléments\n",
    "elements, nodes = rectangleMesh(Lx,Lz,dx,N, botTop=False)\n",
    "Δx = dx/(N+1)\n",
    "nodesOrderChanged = False\n",
    "\n",
    "dof = len(nodes)\n",
    "print(f\"Nombre de noeuds : {dof}\")\n",
    "print(f\"Soit {2*dof} degré de liberté pour un champ 2D\")"
   ]
  },
  {
   "cell_type": "code",
   "execution_count": 4,
   "metadata": {},
   "outputs": [],
   "source": [
    "# plot des noeuds avec leur id\n",
    "\n",
    "fig, ax = plt.subplots()\n",
    "ax.set_aspect(\"equal\", \"box\")\n",
    "\n",
    "for n in nodes:\n",
    "    ax.plot(n.x, n.y, \"+k\")\n",
    "    ax.text(n.x, n.y, str(n.id), clip_on=True)"
   ]
  },
  {
   "cell_type": "code",
   "execution_count": 5,
   "metadata": {},
   "outputs": [],
   "source": [
    "# plot des elements avec leur id\n",
    "\n",
    "fig, ax = plt.subplots()\n",
    "ax.set_aspect(\"equal\", \"box\")\n",
    "\n",
    "plotMeshLimits(elements, ax)\n",
    "\n",
    "for e in elements:\n",
    "    coords = e.getCoords()\n",
    "    ax.text(np.mean(coords[:,0]), np.mean(coords[:,1]), str(e.id), clip_on=True)"
   ]
  },
  {
   "cell_type": "code",
   "execution_count": 6,
   "metadata": {},
   "outputs": [
    {
     "data": {
      "text/plain": [
       "<AxesSubplot:>"
      ]
     },
     "execution_count": 6,
     "metadata": {},
     "output_type": "execute_result"
    }
   ],
   "source": [
    "plotMesh(elements, nodes, [2, 4])"
   ]
  },
  {
   "cell_type": "code",
   "execution_count": 7,
   "metadata": {},
   "outputs": [],
   "source": [
    "# Chargement des points/poids d'intégration de GLL + dérivée des interpolateurs lagrangiens sur ces points\n",
    "xi,w,dh = readGLL(N)"
   ]
  },
  {
   "cell_type": "code",
   "execution_count": 8,
   "metadata": {},
   "outputs": [
    {
     "name": "stdout",
     "output_type": "stream",
     "text": [
      "Calcul du jacobien et de l'inverse de la matrice jacobienne:\n"
     ]
    },
    {
     "name": "stderr",
     "output_type": "stream",
     "text": [
      "100%|██████████| 120/120 [00:00<00:00, 499.50it/s]\n"
     ]
    }
   ],
   "source": [
    "# Pour chaque élément calcul:\n",
    "# - du jacobien\n",
    "# - de l'inverse de la matrice jacobienne\n",
    "# On choicit l'interpolation bilinéaire comme bijection depuis un élément quelconque vers l'élément de référence\n",
    "\n",
    "duphi = shapeFunctions[\"P1\"][\"duphi\"]\n",
    "dvphi = shapeFunctions[\"P1\"][\"dvphi\"]\n",
    "\n",
    "def computeJacobian(e):\n",
    "        \n",
    "    coords = e.getCoords()\n",
    "    X, Y = coords[:,0], coords[:,1]\n",
    "    \n",
    "    Je11 = np.zeros((N+1,N+1))\n",
    "    Je21 = np.zeros((N+1,N+1))\n",
    "    Je12 = np.zeros((N+1,N+1))\n",
    "    Je22 = np.zeros((N+1,N+1))\n",
    "    \n",
    "    e.detJ = np.zeros((N+1,N+1))\n",
    "    \n",
    "    e.iJe11 = np.zeros((N+1,N+1))\n",
    "    e.iJe21 = np.zeros((N+1,N+1))\n",
    "    e.iJe12 = np.zeros((N+1,N+1))\n",
    "    e.iJe22 = np.zeros((N+1,N+1))\n",
    "\n",
    "    dxdu = interp(duphi, X)\n",
    "    dxdv = interp(dvphi, X)        \n",
    "    dydu = interp(duphi, Y)\n",
    "    dydv = interp(dvphi, Y)\n",
    "    \n",
    "    for i in range(N+1):\n",
    "        for j in range(N+1):\n",
    "            \n",
    "            Je11[i,j] = dxdu(xi[i], xi[j])\n",
    "            Je21[i,j] = dxdv(xi[i], xi[j])\n",
    "            Je12[i,j] = dydu(xi[i], xi[j])\n",
    "            Je22[i,j] = dydv(xi[i], xi[j])\n",
    "            \n",
    "            e.detJ[i,j] = Je11[i,j]*Je22[i,j] - Je21[i,j]*Je12[i,j]\n",
    "            \n",
    "            e.iJe11[i,j] =  Je22[i,j]/e.detJ[i,j]\n",
    "            e.iJe22[i,j] =  Je11[i,j]/e.detJ[i,j]\n",
    "            e.iJe21[i,j] = -Je21[i,j]/e.detJ[i,j]\n",
    "            e.iJe12[i,j] = -Je12[i,j]/e.detJ[i,j]\n",
    "            \n",
    "    return e\n",
    "\n",
    "print(\"Calcul du jacobien et de l'inverse de la matrice jacobienne:\")\n",
    "with Pool(nprocesses) as p:\n",
    "    Element.id = 0\n",
    "    elements = list(tqdm(p.imap(computeJacobian, elements), total=len(elements)))"
   ]
  },
  {
   "cell_type": "code",
   "execution_count": 9,
   "metadata": {},
   "outputs": [
    {
     "name": "stdout",
     "output_type": "stream",
     "text": [
      "Vitesse des ondes P (pressure) : 3.795km/s\n",
      "Vitesse des ondes S (shear) : 2.191km/s\n"
     ]
    }
   ],
   "source": [
    "# définition des paramètres mécaniques (béton)\n",
    "\n",
    "E = 30e9        # module d'Young\n",
    "ν = 0.25        # coefficient de Poisson\n",
    "\n",
    "# paramètres de Lamé\n",
    "λ = (E*ν) / ((1+ν)*(1-2*ν))\n",
    "μ = E / (2*(1+ν))\n",
    "\n",
    "# masse volumique\n",
    "ρ = 2500.0\n",
    "\n",
    "# vitesses des ondes\n",
    "vp = np.sqrt((λ+2*μ)/ρ)\n",
    "vs =np.sqrt(μ/ρ)\n",
    "\n",
    "print(f\"Vitesse des ondes P (pressure) : {vp/1000:.3f}km/s\")\n",
    "print(f\"Vitesse des ondes S (shear) : {vs/1000:.3f}km/s\")"
   ]
  },
  {
   "cell_type": "code",
   "execution_count": 10,
   "metadata": {},
   "outputs": [
    {
     "name": "stdout",
     "output_type": "stream",
     "text": [
      "Calcul des matrices de rigidité (stiffness) élémentaires:\n"
     ]
    },
    {
     "name": "stderr",
     "output_type": "stream",
     "text": [
      "100%|██████████| 120/120 [00:02<00:00, 42.72it/s]\n"
     ]
    }
   ],
   "source": [
    "# calcul des matrices élémentaires\n",
    "\n",
    "δ = np.eye(N+1)\n",
    "\n",
    "def computeStiffnes(e):\n",
    "    \n",
    "    # KeTemp = np.zeros((N+1,N+1,N+1,N+1))\n",
    "    e.Ke = np.zeros((2*(N+1)**2,2*(N+1)**2))\n",
    "    \n",
    "    Kdxdx = np.zeros((N+1,N+1,N+1,N+1))\n",
    "    Kdydy = np.zeros((N+1,N+1,N+1,N+1))\n",
    "    Kdxdy = np.zeros((N+1,N+1,N+1,N+1))\n",
    "    Kdydx = np.zeros((N+1,N+1,N+1,N+1))\n",
    "    \n",
    "    for a in range(N+1):\n",
    "        for b in range(N+1):\n",
    "            for c in range(N+1):\n",
    "                for d in range(N+1):\n",
    "                       \n",
    "                        for p in range(N+1):\n",
    "                            for q in range(N+1):\n",
    "                                \n",
    "                                Kdxdx[a,b,c,d] += w[p]*w[q] * (e.iJe11[p,q]*dh[a,p]*δ[b,q] + e.iJe12[p,q]*dh[b,q]*δ[a,p])*(e.iJe11[p,q]*dh[c,p]*δ[d,q] + e.iJe12[p,q]*dh[d,q]*δ[c,p]) * e.detJ[p,q]\n",
    "                                Kdydy[a,b,c,d] += w[p]*w[q] * (e.iJe21[p,q]*dh[a,p]*δ[b,q] + e.iJe22[p,q]*dh[b,q]*δ[a,p])*(e.iJe21[p,q]*dh[c,p]*δ[d,q] + e.iJe22[p,q]*dh[d,q]*δ[c,p]) * e.detJ[p,q]\n",
    "                                Kdxdy[a,b,c,d] += w[p]*w[q] * (e.iJe11[p,q]*dh[a,p]*δ[b,q] + e.iJe12[p,q]*dh[b,q]*δ[a,p])*(e.iJe21[p,q]*dh[c,p]*δ[d,q] + e.iJe22[p,q]*dh[d,q]*δ[c,p]) * e.detJ[p,q]\n",
    "                                Kdydx[a,b,c,d] += w[p]*w[q] * (e.iJe21[p,q]*dh[a,p]*δ[b,q] + e.iJe22[p,q]*dh[b,q]*δ[a,p])*(e.iJe21[p,q]*dh[c,p]*δ[d,q] + e.iJe22[p,q]*dh[d,q]*δ[c,p]) * e.detJ[p,q]\n",
    "                                \n",
    "    for i in range(2*(N+1)**2):\n",
    "        for j in range(2*(N+1)**2):\n",
    "            \n",
    "            a,b = i//2//(N+1), i//2%(N+1)\n",
    "            c,d = j//2//(N+1), j//2%(N+1)\n",
    "            \n",
    "            if i%2 == 0 and j%2 == 0:\n",
    "                \n",
    "                e.Ke[i,j] = (2*λ+μ)*Kdxdx[a,b,c,d] + μ*Kdydy[a,b,c,d]             \n",
    "                \n",
    "            if i%2 == 0 and j%2 != 0:\n",
    "                \n",
    "                e.Ke[i,j] = λ*Kdxdy[a,b,c,d] + μ*Kdydx[a,b,c,d]      \n",
    "            \n",
    "            if i%2 != 0 and j%2 == 0:\n",
    "                \n",
    "                e.Ke[i,j] = λ*Kdydx[a,b,c,d] + μ*Kdxdy[a,b,c,d]             \n",
    "                \n",
    "            if i%2 != 0 and j%2 != 0:\n",
    "                \n",
    "                e.Ke[i,j] = (2*λ+μ)*Kdydy[a,b,c,d] + μ*Kdxdx[a,b,c,d] \n",
    "                                \n",
    "    return e\n",
    "\n",
    "# elements = list(tqdm(map(computeStiffnes, elements), total=len(elements)))\n",
    "\n",
    "print(\"Calcul des matrices de rigidité (stiffness) élémentaires:\")\n",
    "with Pool(nprocesses) as p:\n",
    "    Element.id = 0\n",
    "    elements = list(tqdm(p.imap(computeStiffnes, elements), total=len(elements)))"
   ]
  },
  {
   "cell_type": "code",
   "execution_count": 11,
   "metadata": {},
   "outputs": [
    {
     "name": "stdout",
     "output_type": "stream",
     "text": [
      "Calcul des matrices de masse élémentaires:\n"
     ]
    },
    {
     "name": "stderr",
     "output_type": "stream",
     "text": [
      "100%|██████████| 120/120 [00:00<00:00, 16128.84it/s]\n"
     ]
    }
   ],
   "source": [
    "print(\"Calcul des matrices de masse élémentaires:\")\n",
    "for e in tqdm(elements):\n",
    "    \n",
    "    e.Me = np.zeros(2*(N+1)**2) # diagonal\n",
    "    \n",
    "    for i in range(2*(N+1)**2):\n",
    "        e.Me[i] = ρ * w[i//2//(N+1)]*w[i//2%(N+1)]*e.detJ[i//2//(N+1),i//2%(N+1)]"
   ]
  },
  {
   "cell_type": "code",
   "execution_count": 12,
   "metadata": {},
   "outputs": [
    {
     "name": "stdout",
     "output_type": "stream",
     "text": [
      "Assemblage des matrices globales K et M:\n"
     ]
    },
    {
     "name": "stderr",
     "output_type": "stream",
     "text": [
      "100%|██████████| 120/120 [00:00<00:00, 551.21it/s]\n"
     ]
    }
   ],
   "source": [
    "# assemblage\n",
    "\n",
    "print(\"Assemblage des matrices globales K et M:\")\n",
    "\n",
    "K = np.zeros((2*dof,2*dof))\n",
    "M = np.zeros(2*dof)\n",
    "\n",
    "for e in tqdm(elements):\n",
    "    for (i,n1) in enumerate(e.nodes):\n",
    "        M[2*n1.id] += e.Me[2*i]\n",
    "        M[2*n1.id+1] += e.Me[2*i+1]\n",
    "        for (j,n2) in enumerate(e.nodes):\n",
    "            K[2*n1.id,2*n2.id] += e.Ke[2*i,2*j]\n",
    "            K[2*n1.id+1,2*n2.id] += e.Ke[2*i+1,2*j]\n",
    "            K[2*n1.id,2*n2.id+1] += e.Ke[2*i,2*j+1]\n",
    "            K[2*n1.id+1,2*n2.id+1] += e.Ke[2*i+1,2*j+1]"
   ]
  },
  {
   "cell_type": "code",
   "execution_count": 13,
   "metadata": {},
   "outputs": [],
   "source": [
    "# définition source : sinus en cisaillement au niveau du sol : cond Dirichlet\n",
    "# on note les noeuds appartenant à la base du rectangle\n",
    "\n",
    "nodesBotId = []\n",
    "for i,n in enumerate(nodes):\n",
    "    if n.region == 2:\n",
    "        nodesBotId.append(n.id)\n",
    "        \n",
    "nodesId = np.array([n.id for n in nodes])"
   ]
  },
  {
   "cell_type": "code",
   "execution_count": 14,
   "metadata": {},
   "outputs": [],
   "source": [
    "# on déplace les noeuds en condition de Dirichlet en haut : permutations des lignes et les colonnes\n",
    "\n",
    "if nodesOrderChanged: print(\"Nodes order already changed\")\n",
    "nodesOrderChanged = True\n",
    "\n",
    "for targetRow,id in enumerate(nodesBotId):\n",
    "    \n",
    "    actualRow = np.where(nodesId == id)[0][0]\n",
    "    \n",
    "    # print(f\"Nodes Id : {id} ; AR = {actualRow} ; TR = {targetRow}\")\n",
    "        \n",
    "    # direction 1\n",
    "    K[:,2*targetRow],K[:,2*actualRow] = K[:,2*actualRow],K[:,2*targetRow] # permutationlignes\n",
    "    K[2*targetRow,:],K[2*actualRow,:] = K[2*actualRow,:],K[2*targetRow,:] # permutation colonnes\n",
    "    K[2*targetRow, 2*targetRow],K[2*actualRow, 2*actualRow] = K[2*actualRow, 2*actualRow],K[2*targetRow, 2*targetRow]\n",
    "    M[2*targetRow],M[2*actualRow] = M[2*actualRow],M[2*targetRow]\n",
    "    # direction 2\n",
    "    K[:,2*targetRow+1],K[:,2*actualRow+1] = K[:,2*actualRow+1],K[:,2*targetRow+1] # permutation lignes\n",
    "    K[2*targetRow+1,:],K[2*actualRow+1,:] = K[2*actualRow+1,:],K[2*targetRow+1,:] # permutation colonnes\n",
    "    K[2*targetRow+1, 2*targetRow+1],K[2*actualRow+1, 2*actualRow+1] = K[2*actualRow+1, 2*actualRow+1],K[2*targetRow+1, 2*targetRow+1]\n",
    "    M[2*targetRow+1],M[2*actualRow+1] = M[2*actualRow+1],M[2*targetRow+1]\n",
    "    # permutation des noeuds : facilite affichage résultats\n",
    "    nodes[targetRow],nodes[actualRow] = nodes[actualRow],nodes[targetRow]"
   ]
  },
  {
   "cell_type": "code",
   "execution_count": 15,
   "metadata": {},
   "outputs": [
    {
     "data": {
      "text/plain": [
       "<matplotlib.image.AxesImage at 0x7f72c14e2fa0>"
      ]
     },
     "execution_count": 15,
     "metadata": {},
     "output_type": "execute_result"
    }
   ],
   "source": [
    "kmax = max(K.max(), -K.min())\n",
    "plt.imshow(K, cmap=\"seismic\", vmin=-kmax, vmax=kmax)"
   ]
  },
  {
   "cell_type": "code",
   "execution_count": 16,
   "metadata": {},
   "outputs": [],
   "source": [
    "# inversion de la matrice de masse\n",
    "iM = 1/M"
   ]
  },
  {
   "cell_type": "code",
   "execution_count": 17,
   "metadata": {},
   "outputs": [],
   "source": [
    "# résolution temporelle\n",
    "\n",
    "Nit = 500       # nombre d'itérations\n",
    "cfl = 0.25      # critère de CFL\n",
    "Δt = Δx/vp* cfl # calcul du dt tel que vérfiant le critère de CFL (vp vitesse max)\n",
    "T = Δt*Nit      # temps total de simulation\n",
    "\n",
    "U = np.zeros((Nit, 2*dof))  # initialisation du vecteur de dépalcements\n",
    "\n",
    "time = np.linspace(0,T,Nit)\n",
    "f0 = vs/(5*Δx)  # fréquence de la pertubation à la base"
   ]
  },
  {
   "cell_type": "code",
   "execution_count": 18,
   "metadata": {},
   "outputs": [
    {
     "name": "stdout",
     "output_type": "stream",
     "text": [
      "CFL = 0.25\n",
      "Longeur d'onde pertubation grande devant distance internoeuds : Δx = 4000.0m while λmin ~ 5000.0\n"
     ]
    }
   ],
   "source": [
    "# tests sur valeurs paramètres\n",
    "print(f\"CFL = {Δt/Δx*vp:.4g}\")\n",
    "print(f\"Longeur d'onde pertubation grande devant distance internoeuds : Δx = {Δx}m while λmin ~ {vs/(4*f0)}\")"
   ]
  },
  {
   "cell_type": "code",
   "execution_count": 19,
   "metadata": {},
   "outputs": [
    {
     "name": "stdout",
     "output_type": "stream",
     "text": [
      "Résolution dynamique:\n"
     ]
    },
    {
     "name": "stderr",
     "output_type": "stream",
     "text": [
      "100%|██████████| 498/498 [00:02<00:00, 247.94it/s]\n"
     ]
    }
   ],
   "source": [
    "U[:,:] = 0.0\n",
    "\n",
    "nbDofBot = 2*len(nodesBotId) # nombre de degré de libertés affectés par la condition de Dirichlet\n",
    "\n",
    "print(\"Résolution dynamique:\")\n",
    "for i in tqdm(range(2,Nit)):\n",
    "    # condition Dirichlet\n",
    "    U[i,1:nbDofBot:2] = 0.0\n",
    "    U[i,:nbDofBot:2] = np.sin(f0*(i-2)*Δt)\n",
    "    # résolution dynamique par différences finies\n",
    "    U[i,nbDofBot:] = 2*U[i-1,nbDofBot:] - U[i-2,nbDofBot:] - Δt**2*np.multiply(iM , K@U[i-1,:])[nbDofBot:]\n"
   ]
  },
  {
   "cell_type": "code",
   "execution_count": 20,
   "metadata": {},
   "outputs": [],
   "source": [
    "def reorderOutput(U, nodesIdAtBeginning, nodes):\n",
    "    U1 = deepcopy(U)\n",
    "    nodesId = np.array([n.id for n in nodes])\n",
    "    for targetRow,id in enumerate(nodesIdAtBeginning):\n",
    "        actualRow = np.where(nodesId == id)[0][0]\n",
    "        U1[:,2*targetRow], U1[:,2*actualRow] = U1[:,2*actualRow], U1[:,2*targetRow]\n",
    "        U1[:,2*targetRow+1], U1[:,2*actualRow+1] = U1[:,2*actualRow+1], U1[:,2*targetRow+1]\n",
    "    return U1"
   ]
  },
  {
   "cell_type": "code",
   "execution_count": 21,
   "metadata": {},
   "outputs": [],
   "source": [
    "fig, ax = plt.subplots()\n",
    "ax.set_aspect(\"equal\", \"box\")\n",
    "\n",
    "it = int(Nit/3)\n",
    "\n",
    "U_reorder = reorderOutput(U, nodesBotId, nodes)\n",
    "\n",
    "plotDeformedMesh(elements, U_reorder[it,:], ax, 1e4)"
   ]
  },
  {
   "cell_type": "code",
   "execution_count": 28,
   "metadata": {},
   "outputs": [],
   "source": [
    "fig, ax = plt.subplots()\n",
    "ax.set_aspect(\"equal\", \"box\")\n",
    "\n",
    "displ = U[:,::2]\n",
    "\n",
    "# dmin = min(dtot.min(), -dtot.max())/3\n",
    "dmin = 0.1\n",
    "\n",
    "dots = ax.scatter([n.x for n in nodes], [n.y for n in nodes], marker=\".\",c=displ[0,:], zorder=4, cmap=\"seismic\", vmin=dmin, vmax=-dmin)\n",
    "\n",
    "cbar = plt.colorbar(dots)\n",
    "ttl = ax.annotate(\"it = 0\", xy=(0.05, 0.05), xycoords='axes fraction', bbox=dict(facecolor='white', edgecolor='grey'), zorder=5)\n",
    "\n",
    "dit = 5\n",
    "\n",
    "def animate(i):\n",
    "    dots.set_array(displ[dit*i,:])\n",
    "    cbar.update_normal(dots)\n",
    "    ttl.set_text(f\"it = {dit*i}\")\n",
    "    return dots,ttl,\n",
    "\n",
    "ani = animation.FuncAnimation(fig, animate, interval=200, blit=True, frames = int(Nit/dit))\n",
    "\n",
    "ani.event_source.start()\n",
    "plt.show()\n",
    "\n",
    "# enregistrement de l'animation\n",
    "\n",
    "# writer = animation.PillowWriter(fps=15) \n",
    "# file = \"../data/instabOndeElastiques.gif\"\n",
    "\n",
    "# writer = animation.FFMpegWriter(fps=15) \n",
    "# file = \"../data/instabOndeElastiques.mp4\"\n",
    "\n",
    "# ani.save(file, writer=writer)"
   ]
  },
  {
   "cell_type": "code",
   "execution_count": 23,
   "metadata": {},
   "outputs": [
    {
     "data": {
      "text/plain": [
       "<matplotlib.legend.Legend at 0x7f72c2ca8dc0>"
      ]
     },
     "execution_count": 23,
     "metadata": {},
     "output_type": "execute_result"
    }
   ],
   "source": [
    "end = Nit\n",
    "n_id = 3\n",
    "\n",
    "plt.plot(time[:end], U[:end, 0], \"k\", lw = 2, label=\"source\")\n",
    "\n",
    "n_index = np.where(nodesId == n_id)[0][0]\n",
    "plt.plot(time[:end], U[:end, 2*n_index], label=str(n_id-i))\n",
    "\n",
    "\n",
    "plt.legend()"
   ]
  },
  {
   "cell_type": "code",
   "execution_count": 24,
   "metadata": {},
   "outputs": [],
   "source": [
    "end = 1000\n",
    "\n",
    "plt.plot(time[:end], np.sin(f0*time[:end]), \"k\", lw=3)\n",
    "for i in range(len(nodesBotId)):\n",
    "    plt.plot(time[:end], U[:end,2*i+1], \"+\")"
   ]
  }
 ],
 "metadata": {
  "interpreter": {
   "hash": "47558f5d1345b312ea7cbe4d32be71183e95bb01b25d23a408d164bfdcf9fcf4"
  },
  "kernelspec": {
   "display_name": "Python 3.8.8 64-bit ('base': conda)",
   "language": "python",
   "name": "python3"
  },
  "language_info": {
   "codemirror_mode": {
    "name": "ipython",
    "version": 3
   },
   "file_extension": ".py",
   "mimetype": "text/x-python",
   "name": "python",
   "nbconvert_exporter": "python",
   "pygments_lexer": "ipython3",
   "version": "3.8.8"
  },
  "orig_nbformat": 4
 },
 "nbformat": 4,
 "nbformat_minor": 2
}
