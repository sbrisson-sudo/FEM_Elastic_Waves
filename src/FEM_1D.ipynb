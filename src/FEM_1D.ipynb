{
 "cells": [
  {
   "cell_type": "code",
   "execution_count": 1,
   "metadata": {},
   "outputs": [],
   "source": [
    "# importations\n",
    "using Printf\n",
    "import DelimitedFiles: readdlm\n",
    "using PyPlot ; const plt = PyPlot\n",
    "using PyCall: pyimport\n",
    "mpl = pyimport(\"matplotlib\")\n",
    "mpl.use(\"Qt5Agg\")"
   ]
  },
  {
   "cell_type": "code",
   "execution_count": 2,
   "metadata": {},
   "outputs": [
    {
     "data": {
      "text/plain": [
       "getGLL"
      ]
     },
     "execution_count": 2,
     "metadata": {},
     "output_type": "execute_result"
    }
   ],
   "source": [
    "\"\"\"\n",
    "ξi, ωi, dhij = getGLL(N, dir=\"../gll_quad/\") \n",
    "\"\"\"\n",
    "function getGLL(N, dir=\"../gll_quadrature/\")\n",
    "    datafile = @sprintf(\"%sgll_%02d.tab\",dir, N)\n",
    "    data = readdlm(datafile, Float64)\n",
    "    return data[1,:], data[2,:], data[3:end,:] \n",
    "end"
   ]
  },
  {
   "cell_type": "code",
   "execution_count": 3,
   "metadata": {},
   "outputs": [],
   "source": [
    "# définition système\n",
    "\n",
    "# maillage\n",
    "L = 500.0 # longueur domaine\n",
    "E = 60 # nombre d'éléments\n",
    "nodes = collect(range(0.0,L,length=E+1)) # maillage (régulier)\n",
    "\n",
    "# transformation élément à élément de référence [-1,1]\n",
    "le = L/E # taille des éléments\n",
    "Je = le/2.0 # jacobien de [-1,1] à [e*le,(e+1)*le]\n",
    "iJe = 2.0/le\n",
    "\n",
    "# passage d'indexage (e,i) élément-point à indexage local (points dédoublés) et global (pas de points dédoublés)\n",
    "localIdx(e,i) = (e-1)*(N+1) + i\n",
    "globalIdx(e,i) = (e-1)*N + i\n",
    "iglobalIdx(α) = α==1 ? (1,1) : (div(α-1,N)+1, α-div(α-1,N)*N)\n",
    "\n",
    "# propriétés du milieu (constantes)\n",
    "ρ = 1000.0\n",
    "μ = 1e9\n",
    "\n",
    "# résolution temporelle\n",
    "Nit = 2000\n",
    "T = 1.0\n",
    "Δt = T/Nit\n",
    "\n",
    "# terme de source : point  source\n",
    "xs = L/2.0\n",
    "t0 = T/10.0\n",
    "f0 = 50\n",
    "f(t) = (4*(t-t0)^2*f0^4 - 2*f0^2)*exp(-(t-t0)^2*f0^2)\n",
    "\n",
    "# conditions aux limites\n",
    "# surface libre (rien à faire)\n",
    "\n",
    "# règle de quadrature\n",
    "N = 5 # degré \n",
    "ξi, ωi, dhij = getGLL(N+1) # GLL points + lagrange interpolants derivative at theses points\n",
    "\n",
    "# calcule position de tous les points où est calculé la solution\n",
    "points = fill(0.0, E*N+1)\n",
    "for α=1:E*N+1\n",
    "    e,i = iglobalIdx(α)\n",
    "    points[α] = le*(e + (ξi[i]+1)/2)\n",
    "end\n",
    "\n",
    "# source position\n",
    "fidx = findfirst(x-> x>xs, points)\n",
    ";"
   ]
  },
  {
   "cell_type": "code",
   "execution_count": 4,
   "metadata": {},
   "outputs": [],
   "source": [
    "# plot des points de quadrature\n",
    "fig, ax = plt.subplots()\n",
    "for i=3:20\n",
    "    ax.plot(getGLL(i)[1], [i for j=1:i], \".k\")\n",
    "end\n",
    "ax.hlines(N+1, -1, 1)\n",
    "plt.show()"
   ]
  },
  {
   "cell_type": "code",
   "execution_count": 5,
   "metadata": {},
   "outputs": [],
   "source": [
    "# plot de la fonction source\n",
    "time = collect(range(0,T, length=500))\n",
    "plt.plot(time, f.(time))\n",
    "plt.show()\n",
    ";"
   ]
  },
  {
   "cell_type": "code",
   "execution_count": 6,
   "metadata": {},
   "outputs": [],
   "source": [
    "# CONSTRUCTION DES MATRICES LOCALES\n",
    "\n",
    "ML = fill(0.0, (E*(N+1), E*(N+1)))\n",
    "KL = fill(0.0, (E*(N+1), E*(N+1)))\n",
    "\n",
    "# MATRICE DE MASSE\n",
    "\n",
    "for e=1:E, i=1:N+1\n",
    "    α = localIdx(e,i)\n",
    "    ML[α,α] = ωi[i] * ρ * Je\n",
    "end\n",
    "\n",
    "# STIFFNESS MATRIX\n",
    "\n",
    "for e=1:E, i=1:N+1, j=1:N+1, k=1:N+1\n",
    "    αi, αj = localIdx(e,i), localIdx(e,j)\n",
    "    KL[αi, αj] += ωi[k] * μ * dhij[j,k] * dhij[i,k] * iJe\n",
    "end"
   ]
  },
  {
   "cell_type": "code",
   "execution_count": 7,
   "metadata": {},
   "outputs": [],
   "source": [
    "# ASSEMBLAGE EN MATRICES GLOBALES\n",
    "\n",
    "Q = fill(0.0, (E*N+1, E*(N+1)))\n",
    "\n",
    "for e=1:E, i=1:N+1\n",
    "    α = localIdx(e,i)\n",
    "    β = globalIdx(e,i)\n",
    "    Q[β,α] = 1.0\n",
    "end\n",
    "\n",
    "M = Q*ML*Q'\n",
    "K = Q*KL*Q'\n",
    "iM = inv(M)\n",
    ";"
   ]
  },
  {
   "cell_type": "code",
   "execution_count": 8,
   "metadata": {},
   "outputs": [
    {
     "name": "stdout",
     "output_type": "stream",
     "text": [
      "Courant number : 0.510758541146825\n"
     ]
    }
   ],
   "source": [
    "# CALCUL DYNAMIQUE\n",
    "\n",
    "U = fill(0.0, (Nit,E*N+1))\n",
    "F = fill(0.0, E*N+1)\n",
    "\n",
    "println(\"Courant number : \", sqrt(μ/ρ)*Δt/(points[2]-points[1]))\n",
    "\n",
    "for i=3:Nit\n",
    "    F[fidx] = f(i*Δt)\n",
    "    U[i,:] = 2 .*U[i-1,:] .- U[i-2,:] + Δt^2 .* (iM*(F-K*U[i-1,:]))\n",
    "end"
   ]
  },
  {
   "cell_type": "code",
   "execution_count": 9,
   "metadata": {},
   "outputs": [
    {
     "data": {
      "text/plain": [
       "plot_field (generic function with 1 method)"
      ]
     },
     "execution_count": 9,
     "metadata": {},
     "output_type": "execute_result"
    }
   ],
   "source": [
    "function plot_field(X, U)\n",
    "\n",
    "    Nt = size(U)[1]\n",
    " \n",
    "    fig, ax = plt.subplots()\n",
    "    ax.set_title(\"1D seismic wave propagation (SEM)\")\n",
    "    \n",
    "    umax = maximum(U)\n",
    "    ax.set_ylim([-umax,umax])\n",
    "\n",
    "    ax.set_xlabel(\"Depth (m)\")\n",
    "    ax.set_ylabel(\"Displacement (m)\")\n",
    "\n",
    "    i = 1\n",
    "    line, = ax.plot(X, U[i,:])\n",
    "\n",
    "    ax.grid()\n",
    "    \n",
    "    i_update = 3\n",
    "        \n",
    "    updatefig(i) = line.set_ydata(U[1+i*i_update,:])\n",
    "\n",
    "    anim = mpl.animation.FuncAnimation(fig, updatefig, interval=30, frames=div(Nt,i_update))\n",
    "\n",
    "    anim.event_source.start()\n",
    "\n",
    "    plt.show()\n",
    "end\n",
    "\n"
   ]
  },
  {
   "cell_type": "code",
   "execution_count": 10,
   "metadata": {},
   "outputs": [],
   "source": [
    "plot_field(points, U)\n",
    ";"
   ]
  },
  {
   "cell_type": "code",
   "execution_count": null,
   "metadata": {},
   "outputs": [],
   "source": []
  }
 ],
 "metadata": {
  "kernelspec": {
   "display_name": "Python 3",
   "language": "python",
   "name": "python3"
  },
  "language_info": {
   "codemirror_mode": {
    "name": "ipython",
    "version": 3
   },
   "file_extension": ".py",
   "mimetype": "text/x-python",
   "name": "python",
   "nbconvert_exporter": "python",
   "pygments_lexer": "ipython3",
   "version": "3.8.5"
  }
 },
 "nbformat": 4,
 "nbformat_minor": 2
}
