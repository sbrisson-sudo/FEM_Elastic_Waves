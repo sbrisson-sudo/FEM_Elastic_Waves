{
 "cells": [
  {
   "cell_type": "code",
   "execution_count": 1,
   "id": "d5b509cf",
   "metadata": {},
   "outputs": [],
   "source": [
    "import numpy as np\n",
    "import matplotlib.pyplot as plt\n",
    "from tqdm import tqdm"
   ]
  },
  {
   "cell_type": "markdown",
   "id": "2bfca3fe",
   "metadata": {},
   "source": [
    "https://www.linkedin.com/pulse/my-2d-fea-code-python-luiz-carlos-largura-p-e-"
   ]
  },
  {
   "cell_type": "code",
   "execution_count": 2,
   "id": "519cf670",
   "metadata": {},
   "outputs": [],
   "source": [
    "# definition d'un objet element\n",
    "\n",
    "class Node:\n",
    "    id = 0\n",
    "    def __init__(self, x, y, region):\n",
    "        self.id = Node.id\n",
    "        Node.id += 1\n",
    "        self.x = x\n",
    "        self.y = y\n",
    "        self.region = region\n",
    "        \n",
    "    def __repr__(self):\n",
    "        return f\"Node {self.id} [{self.x},{self.y}], region = {self.region}\"\n",
    "\n",
    "class Element:\n",
    "    id = 0\n",
    "    def __init__(self, nodes):\n",
    "        self.nodes = nodes\n",
    "        self.id = Element.id\n",
    "        Element.id += 1\n",
    "        \n",
    "    def getCoords(self):\n",
    "        return np.array([[n.x,n.y] for n in self.nodes])\n",
    "    \n",
    "    def __repr__(self):\n",
    "        return f\"Element {self.id}\\nNodes : {[n.id for n in self.nodes]}\\nCoords : {self.getCoords()}\"\n",
    "\n",
    "def plotMesh(elements):\n",
    "    \n",
    "    fig, ax = plt.subplots()\n",
    "    for e in elements:\n",
    "        coords = e.getCoords()\n",
    "        plt.fill(coords[:,0], coords[:,1], color=\"greenyellow\", alpha=0.5, ec=\"k\")\n",
    "        for n in e.nodes:\n",
    "            if n.region == 4: plt.plot(n.x, n.y, \"b+\")\n",
    "    ax.set_aspect(\"equal\", \"box\")\n",
    "    plt.show()"
   ]
  },
  {
   "cell_type": "code",
   "execution_count": 3,
   "id": "659ca3fb",
   "metadata": {},
   "outputs": [],
   "source": [
    "# definition du maillage\n",
    "\n",
    "N = 20\n",
    "L = 100.0\n",
    "xCoords = np.linspace(0.0, L, N+1)\n",
    "dof = (N+1)*(N+1)\n",
    "\n",
    "# regions index\n",
    "omega, bot, right, top, left = 1, 2, 3, 4, 5\n",
    "Ttop, Tbot = 10.0, 30.0\n",
    "\n",
    "Node.id = 0\n",
    "nodesCoord = np.array([[[x,y] for x in xCoords] for y in xCoords]).reshape((dof,2))\n",
    "nodes = [Node(coord[0], coord[1], 2 if coord[1] == 0.0 else 4 if coord[1] == L else 1) for coord in nodesCoord]\n",
    "\n",
    "Element.id = 0\n",
    "elements = []\n",
    "for i in range(N*N):\n",
    "    nodesIdx = [i+i//N,i+1+i//N,i+N+2+i//N,i+N+1+i//N]\n",
    "    elements.append(Element([nodes[n] for n in nodesIdx]))"
   ]
  },
  {
   "cell_type": "code",
   "execution_count": 4,
   "id": "4399368b",
   "metadata": {},
   "outputs": [
    {
     "name": "stdout",
     "output_type": "stream",
     "text": [
      "Element 0\n",
      "Nodes : [0, 1, 22, 21]\n",
      "Coords : [[0. 0.]\n",
      " [5. 0.]\n",
      " [5. 5.]\n",
      " [0. 5.]]\n",
      "Node 1 [5.0,0.0], region = 2\n"
     ]
    },
    {
     "data": {
      "image/png": "[encoded data removed]",
      "text/plain": [
       "<Figure size 432x288 with 1 Axes>"
      ]
     },
     "metadata": {
      "needs_background": "light"
     },
     "output_type": "display_data"
    }
   ],
   "source": [
    "print(elements[0])\n",
    "print(elements[0].nodes[1])\n",
    "plotMesh(elements)"
   ]
  },
  {
   "cell_type": "code",
   "execution_count": 5,
   "id": "bc916496",
   "metadata": {},
   "outputs": [],
   "source": [
    "# définition des interpolateurs (P1 : linéaire) et de ses dérivées partielles\n",
    "phi = [\n",
    "    lambda u,v : 0.25*(1-u)*(1-v), # (-1,-1)\n",
    "    lambda u,v : 0.25*(1+u)*(1-v), # (+1,-1)\n",
    "    lambda u,v : 0.25*(1+u)*(1+v), # (+1,+1)\n",
    "    lambda u,v : 0.25*(1-u)*(1+v), # (-1,+1)\n",
    "]\n",
    "\n",
    "duphi = [\n",
    "        lambda u,v : -0.25*(1-v),   # (-1,-1)\n",
    "        lambda u,v : 0.25*(1-v),    # (+1,-1)\n",
    "        lambda u,v : 0.25*(1+v),   # (-1,+1)\n",
    "        lambda u,v : -0.25*(1+v),   # (+1,+1)\n",
    "]\n",
    "dvphi = [\n",
    "        lambda u,v : -0.25*(1-u),   # (-1,-1)\n",
    "        lambda u,v : -0.25*(1+u),   # (+1,-1)\n",
    "        lambda u,v : 0.25*(1+u),    # (-1,+1)\n",
    "        lambda u,v : 0.25*(1-u),    # (+1,+1)\n",
    "]\n",
    "\n",
    "gradPhi = [\n",
    "        lambda u,v: np.array([duphi[i](u,v), dvphi[i](u,v)])\n",
    "        for i in range(4)\n",
    "]\n",
    "\n",
    "# fonction retournant l'interpolateur selon les 4 fonctions phi pour les 4 valeurs aux noeuds X\n",
    "def interp(phiList, X):\n",
    "    return lambda u,v : sum([phi(u,v)*x for phi,x in zip(phiList, X)])"
   ]
  },
  {
   "cell_type": "code",
   "execution_count": 6,
   "id": "5b837d79",
   "metadata": {},
   "outputs": [],
   "source": [
    "# Pour chaque élément calcul:\n",
    "# - du jacobien\n",
    "# - de l'inverse de la matrice jacobienne\n",
    "\n",
    "for e in elements:\n",
    "\n",
    "    coords = e.getCoords()\n",
    "    X, Y = coords[:,0], coords[:,1]\n",
    "\n",
    "    dxdu = interp(duphi, X)\n",
    "    dxdv = interp(dvphi, X)        \n",
    "    dydu = interp(duphi, Y)\n",
    "    dydv = interp(dvphi, Y)\n",
    "    \n",
    "    e.detJ = lambda u,v : dxdu(u,v)*dydv(u,v) - dxdv(u,v)*dydu(u,v)\n",
    "\n",
    "    e.iJ = lambda u,v :  np.array(\n",
    "        [[dydv(u,v), -dydu(u,v)],\n",
    "        [-dxdv(u,v), dxdu(u,v)]]\n",
    "    )/e.detJ(u,v)\n"
   ]
  },
  {
   "cell_type": "code",
   "execution_count": 7,
   "id": "a69359cb",
   "metadata": {},
   "outputs": [],
   "source": [
    "# Détermination d'une règle de quadrature \n",
    "\n",
    "# nombre de points de quadrature (par dimension)\n",
    "Nquad = 5 \n",
    "\n",
    "# importation poids et abscices Gauss-Legendre\n",
    "data = np.loadtxt(f\"../quadratureRules/gl_{Nquad:02d}.tab\")\n",
    "w_i, xi_i = data[:,0], data[:,1] \n",
    "\n",
    "# Compute the 2D integral of f(u,v) over [-1,1]x[-1,1]\n",
    "\n",
    "int2D = lambda f: sum([ sum([w1*w2 * f(xi1, xi2) for xi1,w1 in zip(xi_i, w_i)]) for xi2,w2 in zip(xi_i, w_i)])"
   ]
  },
  {
   "cell_type": "markdown",
   "id": "1a5044ed",
   "metadata": {},
   "source": [
    "## Problème physique\n",
    "\n",
    "Résolution par EF de l'équation de la chaleur:\n",
    "$$\n",
    "\\Delta T = 0\n",
    "$$\n",
    "sur le milieu $\\Omega$.\n",
    "Avec comme conditions aux limites:\n",
    "- $T = T_1$ sur le bord inférieur, noté $\\partial\\Omega_1$ (Dirichlet)\n",
    "- $T = T_2$ sur le bord supérieur, noté $\\partial\\Omega_2$ (Dirichlet)\n",
    "- $\\partial_nT = 0$ sur les bords latéraux, noté , noté $\\partial\\Omega_3$  (Neuman)\n",
    "\n",
    "La forme variationelle est ainsi, en notant u le champ de T et v la fonction test:\n",
    "$$\n",
    "\\int_\\Omega\\nabla u\\nabla v = \\int_{\\partial\\Omega_3}v\\partial_n u = 0, \\forall v \\in V = \\{v\\in H^1_0(\\Omega)\\setminus v = 0 \\text{ sur } \\partial\\Omega_1\\cup\\partial\\Omega_2\\}\n",
    "$$\n",
    "\n",
    "Par discrétisation on se ramène ainsi au système algébrique: $$ u_iK_{ij} = 0$$ avec $u_i$ les valeurs aux noeuds libres. $K_{ij}$ étant issue de l'assemblage des matrice de rigidité élémentaires:\n",
    "$$\n",
    "K^e_{ij}  = \\int_{\\Omega_e}\\nabla\\Phi_j\\nabla\\Phi_i\n",
    "$$\n",
    "\n",
    "On étend le système aux noeuds fixés: $$ u_iK_{ij} = F_i$$ avec $F_i$ nul pour i noeud libre et sino égal à la valeur de la condition de Dirichlet.\n"
   ]
  },
  {
   "cell_type": "code",
   "execution_count": 8,
   "id": "0255deb4",
   "metadata": {},
   "outputs": [
    {
     "name": "stderr",
     "output_type": "stream",
     "text": [
      "100%|██████████| 400/400 [00:12<00:00, 32.21it/s]\n"
     ]
    }
   ],
   "source": [
    "# Calcul des matrices élémentaires locales -> à optimiser\n",
    "\n",
    "for e in tqdm(elements):\n",
    "\n",
    "    e.Ke = np.zeros((4,4))\n",
    "    \n",
    "    for i in range(4):\n",
    "        for j in range(4):\n",
    "\n",
    "            fk = lambda u,v: (e.iJ(u,v)@gradPhi[i](u,v))@(e.iJ(u,v)@gradPhi[j](u,v))*e.detJ(u,v)\n",
    "            e.Ke[i,j] = int2D(fk)"
   ]
  },
  {
   "cell_type": "code",
   "execution_count": 11,
   "id": "2c66c419",
   "metadata": {},
   "outputs": [],
   "source": [
    "# Calcule des matrices globales -> à optimiser\n",
    "K = np.zeros((dof,dof))\n",
    "M = np.zeros((dof,dof))\n",
    "F = np.zeros(dof)\n",
    "\n",
    "for e in elements:\n",
    "    for (i,n1) in enumerate(e.nodes):\n",
    "        for (j,n2) in enumerate(e.nodes):\n",
    "            K[n1.id,n2.id] += e.Ke[i,j]\n",
    "            M[n1.id,n2.id] += e.Me[i,j]"
   ]
  },
  {
   "cell_type": "code",
   "execution_count": 12,
   "id": "227e801b",
   "metadata": {},
   "outputs": [],
   "source": [
    "# Conditions aux limites\n",
    "\n",
    "for n in nodes:\n",
    "    if n.region == bot:\n",
    "        K[n.id,:] = 0\n",
    "        K[n.id, n.id] = 1\n",
    "        F[n.id] = Tbot\n",
    "    if n.region == top:\n",
    "        K[n.id,:] = 0\n",
    "        K[n.id, n.id] = 1\n",
    "        F[n.id] = Ttop"
   ]
  },
  {
   "cell_type": "code",
   "execution_count": 86,
   "id": "c3450d13",
   "metadata": {},
   "outputs": [],
   "source": [
    "# CALCUL STATIQUE : EQUATION CHALEUR\n",
    "U = np.zeros(dof)\n",
    "U = np.linalg.solve(K, F)"
   ]
  },
  {
   "cell_type": "code",
   "execution_count": 88,
   "id": "0344342d",
   "metadata": {},
   "outputs": [
    {
     "data": {
      "application/vnd.jupyter.widget-view+json": {
       "model_id": "0250b0dfafd043388d52378f6ba6ddcf",
       "version_major": 2,
       "version_minor": 0
      },
      "text/plain": [
       "Canvas(toolbar=Toolbar(toolitems=[('Home', 'Reset original view', 'home', 'home'), ('Back', 'Back to previous …"
      ]
     },
     "metadata": {},
     "output_type": "display_data"
    },
    {
     "data": {
      "text/plain": [
       "<matplotlib.colorbar.Colorbar at 0x7f355dd1f2e0>"
      ]
     },
     "execution_count": 88,
     "metadata": {},
     "output_type": "execute_result"
    }
   ],
   "source": [
    "%matplotlib widget\n",
    "# plt.plot(U[::N], \"+\")\n",
    "plt.imshow(U.reshape((N+1,N+1)))\n",
    "plt.colorbar()"
   ]
  },
  {
   "cell_type": "code",
   "execution_count": null,
   "id": "65778b8d",
   "metadata": {},
   "outputs": [],
   "source": []
  }
 ],
 "metadata": {
  "@webio": {
   "lastCommId": null,
   "lastKernelId": null
  },
  "kernelspec": {
   "display_name": "Python 3 (ipykernel)",
   "language": "python",
   "name": "python3"
  },
  "language_info": {
   "codemirror_mode": {
    "name": "ipython",
    "version": 3
   },
   "file_extension": ".py",
   "mimetype": "text/x-python",
   "name": "python",
   "nbconvert_exporter": "python",
   "pygments_lexer": "ipython3",
   "version": "3.8.8"
  }
 },
 "nbformat": 4,
 "nbformat_minor": 5
}
