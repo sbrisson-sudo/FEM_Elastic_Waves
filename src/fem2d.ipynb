{
 "cells": [
  {
   "cell_type": "code",
   "execution_count": 1,
   "id": "d5b509cf",
   "metadata": {},
   "outputs": [],
   "source": [
    "import numpy as np\n",
    "import matplotlib.pyplot as plt\n",
    "from tqdm import tqdm\n",
    "import matplotlib.animation as animation\n",
    "import matplotlib as mpl"
   ]
  },
  {
   "cell_type": "markdown",
   "id": "2bfca3fe",
   "metadata": {},
   "source": [
    "https://www.linkedin.com/pulse/my-2d-fea-code-python-luiz-carlos-largura-p-e-"
   ]
  },
  {
   "cell_type": "code",
   "execution_count": 2,
   "id": "519cf670",
   "metadata": {},
   "outputs": [],
   "source": [
    "# definition d'un objet element\n",
    "\n",
    "class Node:\n",
    "    id = 0\n",
    "    def __init__(self, x, y, region):\n",
    "        self.id = Node.id\n",
    "        Node.id += 1\n",
    "        self.x = x\n",
    "        self.y = y\n",
    "        self.region = region\n",
    "        \n",
    "    def __repr__(self):\n",
    "        return f\"Node {self.id} [{self.x},{self.y}], region = {self.region}\"\n",
    "\n",
    "class Element:\n",
    "    id = 0\n",
    "    def __init__(self, nodes):\n",
    "        self.nodes = nodes\n",
    "        self.id = Element.id\n",
    "        Element.id += 1\n",
    "        \n",
    "    def getCoords(self):\n",
    "        return np.array([[n.x,n.y] for n in self.nodes])\n",
    "    \n",
    "    def __repr__(self):\n",
    "        return f\"Element {self.id}\\nNodes : {[n.id for n in self.nodes]}\\nCoords : {self.getCoords()}\"\n",
    "\n",
    "def plotMesh(elements):\n",
    "    \n",
    "    fig, ax = plt.subplots()\n",
    "    for e in elements:\n",
    "        coords = e.getCoords()\n",
    "        plt.fill(coords[:,0], coords[:,1], color=\"greenyellow\", alpha=0.5, ec=\"k\")\n",
    "        for n in e.nodes:\n",
    "            if n.region == 4: plt.plot(n.x, n.y, \"b+\")\n",
    "    ax.set_aspect(\"equal\", \"box\")\n",
    "    plt.show()"
   ]
  },
  {
   "cell_type": "code",
   "execution_count": 3,
   "id": "659ca3fb",
   "metadata": {},
   "outputs": [],
   "source": [
    "# definition du maillage\n",
    "\n",
    "N = 20\n",
    "L = 100.0\n",
    "xCoords = np.linspace(0.0, L, N+1)\n",
    "dof = (N+1)*(N+1)\n",
    "\n",
    "# regions index\n",
    "omega, bot, right, top, left = 1, 2, 3, 4, 5\n",
    "T1, T2 = 10.0, 30.0\n",
    "\n",
    "Node.id = 0\n",
    "nodesCoord = np.array([[[x,y] for x in xCoords] for y in xCoords]).reshape((dof,2))\n",
    "nodes = [Node(coord[0], coord[1], 2 if coord[1] == 0.0 else 4 if coord[1] == L else 1) for coord in nodesCoord]\n",
    "\n",
    "Element.id = 0\n",
    "elements = []\n",
    "for i in range(N*N):\n",
    "    nodesIdx = [i+i//N,i+1+i//N,i+N+2+i//N,i+N+1+i//N]\n",
    "    elements.append(Element([nodes[n] for n in nodesIdx]))"
   ]
  },
  {
   "cell_type": "code",
   "execution_count": 4,
   "id": "4399368b",
   "metadata": {},
   "outputs": [
    {
     "name": "stdout",
     "output_type": "stream",
     "text": [
      "Element 0\n",
      "Nodes : [0, 1, 22, 21]\n",
      "Coords : [[0. 0.]\n",
      " [5. 0.]\n",
      " [5. 5.]\n",
      " [0. 5.]]\n",
      "Node 1 [5.0,0.0], region = 2\n"
     ]
    },
    {
     "data": {
      "image/png": "[encoded data removed]",
      "text/plain": [
       "<Figure size 432x288 with 1 Axes>"
      ]
     },
     "metadata": {
      "needs_background": "light"
     },
     "output_type": "display_data"
    }
   ],
   "source": [
    "print(elements[0])\n",
    "print(elements[0].nodes[1])\n",
    "plotMesh(elements)"
   ]
  },
  {
   "cell_type": "code",
   "execution_count": 5,
   "id": "bc916496",
   "metadata": {},
   "outputs": [],
   "source": [
    "# définition des interpolateurs (P1 : linéaire) et de ses dérivées partielles\n",
    "phi = [\n",
    "    lambda u,v : 0.25*(1-u)*(1-v), # (-1,-1)\n",
    "    lambda u,v : 0.25*(1+u)*(1-v), # (+1,-1)\n",
    "    lambda u,v : 0.25*(1+u)*(1+v), # (+1,+1)\n",
    "    lambda u,v : 0.25*(1-u)*(1+v), # (-1,+1)\n",
    "]\n",
    "\n",
    "duphi = [\n",
    "        lambda u,v : -0.25*(1-v),   # (-1,-1)\n",
    "        lambda u,v : 0.25*(1-v),    # (+1,-1)\n",
    "        lambda u,v : 0.25*(1+v),   # (-1,+1)\n",
    "        lambda u,v : -0.25*(1+v),   # (+1,+1)\n",
    "]\n",
    "dvphi = [\n",
    "        lambda u,v : -0.25*(1-u),   # (-1,-1)\n",
    "        lambda u,v : -0.25*(1+u),   # (+1,-1)\n",
    "        lambda u,v : 0.25*(1+u),    # (-1,+1)\n",
    "        lambda u,v : 0.25*(1-u),    # (+1,+1)\n",
    "]\n",
    "\n",
    "# fonction retournant l'interpolateur selon les 4 fonctions phi pour les 4 valeurs aux noeuds X\n",
    "def interp(phiList, X):\n",
    "    return lambda u,v : sum([phi(u,v)*x for phi,x in zip(phiList, X)])"
   ]
  },
  {
   "cell_type": "code",
   "execution_count": 13,
   "id": "5b837d79",
   "metadata": {},
   "outputs": [],
   "source": [
    "# Pour chaque élément calcul:\n",
    "# - du jacobien\n",
    "# - de l'inverse de la matrice jacobienne\n",
    "\n",
    "for e in elements:\n",
    "\n",
    "    coords = e.getCoords()\n",
    "    X, Y = coords[:,0], coords[:,1]\n",
    "\n",
    "    dxdu = interp(duphi, X)\n",
    "    dxdv = interp(dvphi, X)        \n",
    "    dydu = interp(duphi, Y)\n",
    "    dydv = interp(dvphi, Y)\n",
    "    \n",
    "    e.detJ = lambda u,v : dxdu(u,v)*dydv(u,v) - dxdv(u,v)*dydu(u,v)\n",
    "\n",
    "    e.iJ = lambda u,v :  np.array(\n",
    "        [[dydv(u,v), -dydu(u,v)],\n",
    "        [-dxdv(u,v), dxdu(u,v)]]\n",
    "    )/e.detJ(u,v)\n"
   ]
  },
  {
   "cell_type": "code",
   "execution_count": 23,
   "id": "a69359cb",
   "metadata": {},
   "outputs": [],
   "source": [
    "# Détermination d'une règle de quadrature \n",
    "\n",
    "# nombre de points de quadrature (par dimension)\n",
    "Nquad = 5 \n",
    "\n",
    "# importation poids et abscices Gauss-Legendre\n",
    "data = np.loadtxt(f\"../quadratureRules/gl_{Nquad:02d}.tab\")\n",
    "w_i, xi_i = data[:,0], data[:,1] \n",
    "\n",
    "# Compute the 2D integral of f(u,v) over [-1,1]x[-1,1]\n",
    "\n",
    "int2D = lambda f: sum([ sum([w1*w2 * f(xi1, xi2) for xi1,w1 in zip(xi_i, w_i)]) for xi2,w2 in zip(xi_i, w_i)])"
   ]
  },
  {
   "cell_type": "markdown",
   "id": "1a5044ed",
   "metadata": {},
   "source": [
    "## Problème physique\n",
    "\n",
    "Résolution par EF de l'équation de la chaleur:\n",
    "$$\n",
    "\\Delta T = 0\n",
    "$$\n",
    "sur le milieu $\\Omega$.\n",
    "Avec comme conditions aux limites:\n",
    "- $T = T_1$ sur le bord inférieur, noté $\\partial\\Omega_1$ (Dirichlet)\n",
    "- $T = T_2$ sur le bord supérieur, noté $\\partial\\Omega_2$ (Dirichlet)\n",
    "- $\\partial_nT = 0$ sur les bords latéraux, noté , noté $\\partial\\Omega_3$  (Neuman)\n",
    "\n",
    "La forme variationelle est ainsi, en notant u le champ de T et v la fonction test:\n",
    "$$\n",
    "\\int_\\Omega\\nabla u\\nabla v = \\int_{\\partial\\Omega_3}v\\partial_n u = 0, \\forall v \\in V = \\{v\\in H^1_0(\\Omega)\\setminus v = 0 \\text{ sur } \\partial\\Omega_1\\cup\\partial\\Omega_2\\}\n",
    "$$\n",
    "\n",
    "Par discrétisation on se ramène ainsi au système algébrique: $$ u_iK_{ij} = 0$$ avec $u_i$ les valeurs aux noeuds libres. $K_{ij}$ étant issue de l'assemblage des matrice de rigidité élémentaires:\n",
    "$$\n",
    "K^e_{ij}  = \\int_{\\Omega_e}\\nabla\\Phi_j\\nabla\\Phi_i\n",
    "$$\n",
    "\n",
    "On étend le système aux noeuds fixés: $$ u_iK_{ij} = F_i$$ avec $F_i$ nul pour i noeud libre et sino égal à la valeur de la condition de Dirichlet.\n"
   ]
  },
  {
   "cell_type": "code",
   "execution_count": 35,
   "id": "0255deb4",
   "metadata": {},
   "outputs": [],
   "source": [
    "# Calcul des matrices élémentaires locales -> à optimiser\n",
    "\n",
    "for e in elements:\n",
    "    e.Ke = np.zeros((4,4))\n",
    "\n",
    "for i in range(4):\n",
    "    for j in range(4):\n",
    "        gradPhi_i = lambda u,v: np.array([duphi[i](u,v), dvphi[i](u,v)])\n",
    "        gradPhi_j = lambda u,v: np.array([duphi[j](u,v), dvphi[j](u,v)])\n",
    "\n",
    "        for e in elements:\n",
    "            fk = lambda u,v: (e.iJ(u,v)@gradPhi_i(u,v))@(e.iJ(u,v)@gradPhi_j(u,v))*e.detJ(u,v)\n",
    "            e.Ke[i,j] = int2D(fk)\n"
   ]
  },
  {
   "cell_type": "code",
   "execution_count": 11,
   "id": "37ea1c97",
   "metadata": {},
   "outputs": [
    {
     "name": "stdout",
     "output_type": "stream",
     "text": [
      "14\n"
     ]
    }
   ],
   "source": [
    "u = np.array([1,2])\n",
    "v = np.array([4,5])\n",
    "print(u@v)"
   ]
  },
  {
   "cell_type": "code",
   "execution_count": 43,
   "id": "e5485c1d",
   "metadata": {},
   "outputs": [
    {
     "data": {
      "application/vnd.jupyter.widget-view+json": {
       "model_id": "45ca9546b61d4f1a89edd6403c08eb38",
       "version_major": 2,
       "version_minor": 0
      },
      "text/plain": [
       "Canvas(toolbar=Toolbar(toolitems=[('Home', 'Reset original view', 'home', 'home'), ('Back', 'Back to previous …"
      ]
     },
     "metadata": {},
     "output_type": "display_data"
    },
    {
     "data": {
      "text/plain": [
       "<matplotlib.colorbar.Colorbar at 0x7f35808197c0>"
      ]
     },
     "execution_count": 43,
     "metadata": {},
     "output_type": "execute_result"
    }
   ],
   "source": [
    "%matplotlib widget\n",
    "plt.imshow(elements[N+1].Ke)\n",
    "plt.colorbar()"
   ]
  },
  {
   "cell_type": "code",
   "execution_count": 38,
   "id": "2c66c419",
   "metadata": {},
   "outputs": [],
   "source": [
    "# Calcule des matrices globales -> à optimiser\n",
    "\n",
    "K = np.zeros((dof,dof))\n",
    "F = np.zeros(dof)\n",
    "\n",
    "for e in elements:\n",
    "    for (i,n1) in enumerate(e.nodes):\n",
    "        for (j,n2) in enumerate(e.nodes):\n",
    "            \n",
    "            if n1.region == bot or n2.region == bot:\n",
    "                if n1 == n2:\n",
    "                    K[n1.id,n1.id] = 1\n",
    "                    F[n1.id] = T1\n",
    "            elif n1.region == top or n2.region == top:\n",
    "                if n1 == n2:\n",
    "                    K[n1.id,n1.id] = 1\n",
    "                    F[n1.id] = T2\n",
    "            else:\n",
    "                K[n1.id,n2.id] += e.Ke[i,j]\n"
   ]
  },
  {
   "cell_type": "code",
   "execution_count": 47,
   "id": "f79cadac",
   "metadata": {},
   "outputs": [
    {
     "data": {
      "application/vnd.jupyter.widget-view+json": {
       "model_id": "8913bc4bac244e16b9111931931e13c2",
       "version_major": 2,
       "version_minor": 0
      },
      "text/plain": [
       "Canvas(toolbar=Toolbar(toolitems=[('Home', 'Reset original view', 'home', 'home'), ('Back', 'Back to previous …"
      ]
     },
     "metadata": {},
     "output_type": "display_data"
    },
    {
     "data": {
      "text/plain": [
       "<matplotlib.colorbar.Colorbar at 0x7f357c050bb0>"
      ]
     },
     "execution_count": 47,
     "metadata": {},
     "output_type": "execute_result"
    }
   ],
   "source": [
    "%matplotlib widget\n",
    "plt.imshow(K)\n",
    "plt.colorbar()"
   ]
  },
  {
   "cell_type": "code",
   "execution_count": 45,
   "id": "c3450d13",
   "metadata": {},
   "outputs": [],
   "source": [
    "# CALCUL STATIQUE : EQUATION CHALEUR\n",
    "U = np.linalg.solve(K, F)"
   ]
  },
  {
   "cell_type": "code",
   "execution_count": 46,
   "id": "0344342d",
   "metadata": {},
   "outputs": [
    {
     "data": {
      "application/vnd.jupyter.widget-view+json": {
       "model_id": "1679479c07e34bd986fd0a533398cbef",
       "version_major": 2,
       "version_minor": 0
      },
      "text/plain": [
       "Canvas(toolbar=Toolbar(toolitems=[('Home', 'Reset original view', 'home', 'home'), ('Back', 'Back to previous …"
      ]
     },
     "metadata": {},
     "output_type": "display_data"
    },
    {
     "data": {
      "text/plain": [
       "<matplotlib.colorbar.Colorbar at 0x7f357c13acd0>"
      ]
     },
     "execution_count": 46,
     "metadata": {},
     "output_type": "execute_result"
    }
   ],
   "source": [
    "%matplotlib widget\n",
    "\n",
    "plt.imshow(U.reshape((N+1,N+1)))\n",
    "plt.colorbar()"
   ]
  },
  {
   "cell_type": "code",
   "execution_count": 19,
   "id": "ad85e895",
   "metadata": {},
   "outputs": [
    {
     "data": {
      "application/vnd.jupyter.widget-view+json": {
       "model_id": "90ea598f4f754005986eb8b1893d5fe0",
       "version_major": 2,
       "version_minor": 0
      },
      "text/plain": [
       "Canvas(toolbar=Toolbar(toolitems=[('Home', 'Reset original view', 'home', 'home'), ('Back', 'Back to previous …"
      ]
     },
     "metadata": {},
     "output_type": "display_data"
    }
   ],
   "source": [
    "%matplotlib widget\n",
    "\n",
    "Nt = U.shape[0]\n",
    "\n",
    "fig, ax = plt.subplots()\n",
    "ax.set_title(\"2D accoustic wave, it = 0\")\n",
    "\n",
    "umax = max(np.max(U),-np.min(U))\n",
    "\n",
    "i = 1\n",
    "im = ax.imshow(U[i,:].reshape((N+1,N+1)), vmin=-umax, vmax=umax)\n",
    "plt.colorbar(im)\n",
    "i_update = 3\n",
    "    \n",
    "def updatefig(i): \n",
    "    im.set_array(U[1+i*i_update,:].reshape((N+1,N+1)))\n",
    "    ax.set_title(f\"2D accoustic wave, it = {i*i_update}\")\n",
    "\n",
    "anim = animation.FuncAnimation(fig, updatefig, interval=30, frames=Nt//i_update)\n",
    "anim.event_source.start()"
   ]
  },
  {
   "cell_type": "code",
   "execution_count": null,
   "id": "0a5f0491",
   "metadata": {},
   "outputs": [],
   "source": []
  },
  {
   "cell_type": "code",
   "execution_count": 17,
   "id": "fe992b0a",
   "metadata": {},
   "outputs": [
    {
     "data": {
      "text/html": [
       "<video width=\"432\" height=\"288\" controls autoplay loop>\n",
       "  <source type=\"video/mp4\" src=\"data:video/mp4;base64,AAAAHGZ0eXBNNFYgAAACAGlzb21pc28yYXZjMQAAAAhmcmVlAAAYBW1kYXQAAAKuBgX//6rcRem9\n",
       "5tlIt5Ys2CDZI+7veDI2NCAtIGNvcmUgMTU1IHIyOTE3IDBhODRkOTggLSBILjI2NC9NUEVHLTQg\n",
       "QVZDIGNvZGVjIC0gQ29weWxlZnQgMjAwMy0yMDE4IC0gaHR0cDovL3d3dy52aWRlb2xhbi5vcmcv\n",
       "eDI2NC5odG1sIC0gb3B0aW9uczogY2FiYWM9MSByZWY9MyBkZWJsb2NrPTE6MDowIGFuYWx5c2U9\n",
       "MHgzOjB4MTEzIG1lPWhleCBzdWJtZT03IHBzeT0xIHBzeV9yZD0xLjAwOjAuMDAgbWl4ZWRfcmVm\n",
       "PTEgbWVfcmFuZ2U9MTYgY2hyb21hX21lPTEgdHJlbGxpcz0xIDh4OGRjdD0xIGNxbT0wIGRlYWR6\n",
       "b25lPTIxLDExIGZhc3RfcHNraXA9MSBjaHJvbWFfcXBfb2Zmc2V0PS0yIHRocmVhZHM9OSBsb29r\n",
       "YWhlYWRfdGhyZWFkcz0xIHNsaWNlZF90aHJlYWRzPTAgbnI9MCBkZWNpbWF0ZT0xIGludGVybGFj\n",
       "ZWQ9MCBibHVyYXlfY29tcGF0PTAgY29uc3RyYWluZWRfaW50cmE9MCBiZnJhbWVzPTMgYl9weXJh\n",
       "bWlkPTIgYl9hZGFwdD0xIGJfYmlhcz0wIGRpcmVjdD0xIHdlaWdodGI9MSBvcGVuX2dvcD0wIHdl\n",
       "aWdodHA9MiBrZXlpbnQ9MjUwIGtleWludF9taW49MjUgc2NlbmVjdXQ9NDAgaW50cmFfcmVmcmVz\n",
       "aD0wIHJjX2xvb2thaGVhZD00MCByYz1jcmYgbWJ0cmVlPTEgY3JmPTIzLjAgcWNvbXA9MC42MCBx\n",
       "cG1pbj0wIHFwbWF4PTY5IHFwc3RlcD00IGlwX3JhdGlvPTEuNDAgYXE9MToxLjAwAIAAAAnUZYiE\n",
       "ADP//vbsvgU1/Z/QlxEsxdpKcD4qpICAdzTAAAADAAB4HShe6DhfEBTB+St8D9jCzj7/c6wTeWlr\n",
       "FpyMrpB37Nme5d6ASn8WlQaD3Cd2DYyMhnPEE73wHSBwJac1O+JZZI6ajCUobW9YlewEK1bLQnxD\n",
       "UnBmWFKuifabnk5Y2sWSWZ6mUZQbrX1NM1HLLU2uMuCwg9bwGi+H69SnHHYyymwEWM2x3qCdRgCj\n",
       "lsuawKV651VtonNKtWGdTd/LF1+YApCwW0FNECUvYkTDxkArOm+GC/UCwTbtJaObPT4GBMbvka54\n",
       "GTXeCCSveRBb1cC0RXZubygdPh7HFceSxjFNB0FoJ2aVtbt9VOyzk+oYEZr33ekf8LeFs0EccQpW\n",
       "rSxpr10Tct1cr+UQNJ0D+zI5TnMM0qEP+SOAapxc5FsBc0DYJhjf1a2scbpw8lOdkPHza3fQwfjd\n",
       "pFydpS4gLmeotAFQ6eoVaBpfifgqK/kO8AxX9L6tHsOCWib70xFDayJMz4xVUzTKoOInPII+OvGI\n",
       "Q0Cr4iHSYVX+8cKOzdvx8askSvnm2yi9EuY+NoquKnaZGSQkiTZbkXt7x76GrAtEWa5I+JoGdIrV\n",
       "NtwG3ynJ+Z/oy3VmK56ZRHiwvyTQ0PN7umv6ofgpZMNQxuOH9eD8T6N5eChvyHfM8GReC0AXfoTt\n",
       "f65SK9kGpSkeWszl1TbpxOHuwK2u65/SXBmGgxqU4MlbPQldEThfkgr9hbOX6SiM3Av/7CB4JNud\n",
       "hp/rSM0r5kz0s8JKqo4wnhfYSthixaoWSSFpSgFUIeKKDk3bZe4X2317Pud6m/ToipHdB9eA052V\n",
       "n+FQygxRQghkw9yRM3KXz//6Lj9mX08tYrJ85tr4BTIexEXw7nQ3nikI0GlpDviprpgn9yxqLyww\n",
       "QIPWK9S7nJG4uDVbSckeeWxnfGEk+UWq5EGBaKivBZVGtxY45cr6sFo/c7s8OjSAeS0bULwa4TuT\n",
       "BMsgMY1NfEDGKJGIVMvF4QHI5B0JdbKMKRvE8Plr9+lmYm2FAriLQHAJkWfPnQuQTYGbC0Jv9/UG\n",
       "rwVzBNQkKeMTdPhOJwGAQVgkbKXw+8NZIJdKaabtPrxnbvVt7+/wVn73XY0TZKD/4n+iQPUJoyXy\n",
       "AVu7bOXphH0FBou7QqrYPIOHH8Tq4je91M7A3rCHK8eQZIFR2qbndt+XgeL2/PO4Cvhe39v9lD2a\n",
       "M2CGj2uLqTFgKkoFZl6ccKZrCrqm5ypImQQbLcGI8PLDzXOM/qmyZBio7DmchG52gxlv7E2uf4nA\n",
       "UmVsh/5S/WI5snV/h6kqdL5uMJ/cOLLIWSxm3s2k2Af58HZdDXhJ9azphkWlo3BUGzjVc3U0n8Q0\n",
       "78MMzHrO5JZrMZXStZQuNa775Wrzdx+K7xzz2UcdaEBh9weo49ecS690CfFE70M5Segt/otZtUES\n",
       "ZhESubl0ulfEXBFokNW8vg29iR5bTtkKsPJpOQSoAsGVwbjov//ao1/4Lk4p7YCPoFdttNZVE7SQ\n",
       "cxUV8RwEkyId1qiKXUhxQZodNNdSJD0G+gxOvCi6kPp755pgFT9gwEr42mVApegccO6cTYHMOMNF\n",
       "gF/Fv/58IKhgvA0/FN6AQK53utt9aOa/gtAMs35sALbt28A0ZU3TBUTx57+UZJjnSuK5vIJjRuQg\n",
       "1VTovhQTtY7Qmyq4ZmL5SOT/YfrA/1f0BVfkRHgcsdXCzMkTvVDQOzXRrsr5SqQx1hidQcZD3Xg7\n",
       "kTmDbxg8ONMKNXjgsRwwU6S/4e829NVDzshL9ey5dootacP2xNo4BMux2+c11Kdmk0pA/nhCjldP\n",
       "NfCU0+SGgozBMisLc8XvQaLU+Q137iwXcsG+t3/umiaoSsqnFy1QAB8fJc3hWihSwLfQE9dvCkcV\n",
       "zTAhifrgvoSdWgIq9F5140JCWiXNo9A+DsBAqAppfi3JXTEgvGzTOzg5TXeljtfemHyVstJ495gj\n",
       "zKtnjS+pSBaxBn3LYOWJRVxH0EmRXZuIG1+E7wMb2ZWLvDUv4N8Fi00+xOWQXt7MyGuasbkoMBEc\n",
       "Owk7gFK4JZ9bE7k7u4dkw5robAwpKNiF6gOCvgYoAC/Lcf5UinGKdAtb4hJNg0hxAoI/EL/WvFlU\n",
       "eDbe6QuXIwgO8d/Q+grxwp0bwHSvjrHT87EdMcnlHAznqnTK/bjDYR5JEmxdhcIm0ab9k0RpKVR5\n",
       "JIknMZPhbajZGG6k2A7bhYd4G5+fNzNZKTBzmbVzmOv12Y+UFHDH6S0KqnsCa5jnoSHcMDhX2Kjj\n",
       "stxDbJwTyothS76Vd9EDlqdou688fIss3mCJ9UVgadIlQqVfzMPYUxgZUyOlH3vbPe1IdYjVCicN\n",
       "7/phqujIt/sszyldeh6B8LkNgxH7EFjcREJ9bMx5S09hna2xv1S2wtXHp+tYcKMjuJJvo+Q8dNxP\n",
       "yNoMq/HmEVbzx+p9zMZr3apLH6FNegWuyUvS/FJRbuysDPsB6to9nxCLHj6UV4W5vhDPEVVoggeF\n",
       "ljtikd6JImHYj+2zO1ygNfYPWN9wygEIUdk2bRTjs60gDEnN0dGmwd+z1ixNrxlp7aMboMB4UW6c\n",
       "i6IyJR1RRuJjTu3Yrtiv6RjR6krz3GvKiwE/d+04cqE7fnn22ud5XVBm5XCjJ29gb6beKsTolGBi\n",
       "rvSISSw/ci7BCznFn4i/GX02ELFdBFgtKEhSZ9TZ8KZ92PZlKIHYz+aGLxHRKsAlWZEQ7zVMu8Ne\n",
       "tTc2XcggzlU25kMekDvyRe7FLF+V9tEeqdeaULi5n29Pvp71U0T2IB8eu6X0Cao9WrEBjKlfYV2r\n",
       "vfWtS/eu40CpHlQC8PtkN+bpASadOIwmxRM4pfkZFG5RpzM/RrYvJa1IpHFYS3CdGdCPf3iWpjNO\n",
       "Sk0JJ9KT5BODmWeSzn8jP2ZZrt0HLle4kq8T2mZ+4t/kVHa4J/LIBXNwxU2VloO3Bm01pokInRqt\n",
       "GiX4M936jfIYz4zY0LfMJxf/aI5CkwkB88U1vIZ1nv06qP1J1mS1N5KiOY5KBiAhktf8U5pponNu\n",
       "B8yN4khP69nLwvoGSg2bSTBOY51fuSpKED4MKCMbZmiuaFey9sxUD6iSYvwlFdf7TUN4RN1P/IWD\n",
       "YTbGzDrOraOnLo5EgEq+WQ6P50ukF+kE7qtRkV0wFxrNLJVYt8R/gpfGGuVIlmpbe8smflys4BrH\n",
       "+gEoZFqrfE5F5TlZ776rIBwWgb5IO/Klbvc8FG16eOqVGjfQYitbz0Uc+/YK8Kpxd4Brv6G/PY0p\n",
       "4Qsa5mMd/BgVx6pkWM2W/05qvGRojGCxrFHPOX+nL7BLN8OvIzI1mUNk+gNPbjD/QX2AAADiSIGV\n",
       "9oJYBH0AAAFaQZokbEM//p4QM69TDjfvhNAC3DKad0ZAi2YuwGYkx0B9eVjjO5cjCuIF+4JNHCD7\n",
       "Vt8Yd2Cw1lq/jnKRRtwYCebhiiWgbEYoeyTR6/eiVoUuXFWk+uUGPHQXEemXHBr08mbhJiryhvZ8\n",
       "Hlt5fzwQbGJgtZVwzTh28TpO19WXqW+qPhr/VH/gcb7tXW6PZ8RnIAdSKm4YlpunfejJFKeDyL/+\n",
       "UoCg3lnNpOppMICe63fCLVnD/OCWsPCSEzyDcFORGrfr7KE8KZ0/LZZiwpAdMfBweEFQe2vuBLw1\n",
       "Oi8Sox2wAznxcX4lKQ93R6hcizvG2+WiEcLcXDuin8F61nSxb/KO52rJoz5bYT9+0eLh01OsbqNB\n",
       "EKbUEOifgoVgO5/8SM540b4o8uHRBO0vqWFB57s7qpAng8c9QWndnLCx3qj9Twfl268B9mnLmY6q\n",
       "Mw1k55rdtbY4/LdKYAAAAFxBnkJ4hH8EMYuezn8Lh1WXTOQmtMADajZnYY0vo3vIt09nUBILyNqx\n",
       "fKVTwxgLZ091lnj5IC/as6qGmtR7nT8xWapff7AUrcSq0m+Dj0wNnXR8aHzd6LZHqoeGHQAAAFcB\n",
       "nmF0R/8VIzZg3ou5nmGAEHE+88hF16EdD7rHyX4iL6d/WMpKosWmzcdi6FVLQ3yNJyi7FhoWpHva\n",
       "WbKzdXQzsVBPZENUYPlgCbD01U40ef1zEqAAloAAAABNAZ5jakf/Bm/BAaouZ1g8fG7A6M3mNQAQ\n",
       "nDgVXB2wcB+j6/fx1+t4pMwVfB0KnTZ8YpDy51fqeHgR31QBMmJi7brlk0K6FP5sKuSljDkAAACd\n",
       "QZpoSahBaJlMCGf//p4QESnT3OFpGGTABUXh/2UCuiz23sy3YETk1M3maTw6JzFbtK8TIP+xvRTF\n",
       "mo1uWqOe24MpXNapOm7B6g+3MX+NKt/6/fLLYZKjt7K7sVAhQfIepNNhCBWtgustPCb/w5KbXnO3\n",
       "UViZo8uz4qVT+xeHuWAH/MbGsZ+O3O9RVUNZchUWw4af0+Kix6JuIsqc4QAAAFtBnoZFESwj/wL3\n",
       "90iZ8AHOFxyyec+IQDoZ1KYK3tEGyRQe8LMOdPr92hvC6sGoXnxsdqdrAZJveYcKvcudscPPia17\n",
       "dfgLoOIcB7tGL5H33+/8APvsKxep9t7BAAAASQGepXRH/wSiMEP7TylrJQAHZB0mbTSB0qg+B7Lr\n",
       "Xs9H5HfcdG7X5SdP7gtmIOro1TjediXhqHaXXGtKEZG7dGh7z0rP1I8bgaUAAABDAZ6nakf/BKNk\n",
       "RFQADmhFBQLBv6iAP+PxHuFCEhxlYdJkNq0Nx0ZRKETYHPtfTjWLVHU6Cu2I9rUloIy6hvp4vsI/\n",
       "IAAAAGlBmqxJqEFsmUwIZ//+nhAQ9kUEAAuutg96rMbzjkbXUhh+rzqV+8RsxA8BfDJU8F2ZDgeR\n",
       "vx3Yhj5eZgyojzsQyhyKgYKylH+xKeae3BU7r/AIAbH3pvXHf/Khz1+Giu7XEbsCE7Rq4lgAAABP\n",
       "QZ7KRRUsI/8C8U/7+ADnDZnU+phbIfGVKNyKeDr956nvKKCT1qCHWkYYQMImoCKqam/DWOYo/toA\n",
       "7asVmm+1XnciNkenlvQfC9kf/Ag2wQAAAEQBnul0R/8EodwhdfGPK4AAvjy+JKTqr8dAW59NO0JB\n",
       "RqA+emB3EZnNrpyDoQ8Tr81j7Tb9pxqAbCOZqUvvygZNAKbxEAAAAEQBnutqR/8Eo8ZIAA7QvQya\n",
       "PQe8ITrBBR4pfPPNkJDJMOmPW4cTNYEtMf3eu8R8SkZ63WANgn6M9QLvggOVZj8PsQ/wjgAAAIxB\n",
       "mvBJqEFsmUwIX//+jLASvOpwBD4qMe0fk8n/35VK4Gvje88IFZyiifvaoIV/x5zSB7K29pR+vlcw\n",
       "U5PznftWq8iyLdkKJsge9BG8Mrk0rBM79w0qZ/iVHUR0Earr3JhVnIwFkJnYORJzEECiEVDUOwyM\n",
       "D4FCoG6DpsHldFuMG+EKn3e8SMkGGrHcgQAAAE5Bnw5FFSwj/wMR7AR+TguAAy7qTUzaiOEt8nuw\n",
       "74X6Oe+HxUTBK4xXWiB8r+eNzcPV+8PwTTuwM0fhkJVplBs/Aa93S2kdUTQew864f7EAAABBAZ8t\n",
       "dEf/BNRKEvuO/d9QAO0EP/vE20Qu+3cXsjAflZbRfxlA9u0JMV5d/xMB9PsvEZpKaEibUlgRBsI1\n",
       "uSYhySMAAAA4AZ8vakf/BKIwRqrNyWslAAdkHSZtuiB/uteZ9MQtMXXFK2YJZlUvNdM+qwvIDSDN\n",
       "QCMw7it8pwsAAABfQZs0SahBbJlMCF///oywErW/Hh5S9cHABlspX7FNbtJESzXQxB7S2+btqG7T\n",
       "QDO4juOTnznaqpiOD0WPRZfPkEnlzpSwhIODZt3xKsbTH5aDIF5V8DZuOXA7BciACTgAAABdQZ9S\n",
       "RRUsI/8DEeki9jLRZk1u4MVfAAcwAHNAs/wiLhmxARCxa3Glhi3y1robjaSsOWAc8H+bJEJXpMlu\n",
       "vUZgWJeLmpjy9VQpDQLmRT6QbGT61DLER04BsKBBDwJxAAAANAGfcXRH/xGkDcEY8yJjgwsADshF\n",
       "BQAVz4uxyka52cQGl9bHNbuEDAkjwLmxLP0eArRHHKAAAAA8AZ9zakf/EYjR1sZ8v6mZBQAOyDvx\n",
       "CKZNiwgXm9KDnkf/BS1J8KbhNTxOvuvVoWCy1ScPzjPEMyOxTO9GAAAAcUGbeEmoQWyZTAhf//6M\n",
       "sBGJvvyFwYf9BKABotFponnGkkW6wF8y7Pm2mZt8ZA7RZwYEfItDVHZJOMxrtjRweOM+1WLYVQm+\n",
       "c/lLdmRB1xVD4dnRkLKkrxqog3dZCx2hq8tgX2jpZE9pUvVHSx50oAetAAAAS0GflkUVLCP/Av0x\n",
       "OgA2o2LlZJIL5zZJ/ais7z3X8Q7EsKW1I6fbmR8UQVtrel9mMAewZozoOJbooOeJluvrgx6BKjCQ\n",
       "GSmFr8TFgAAAADoBn7V0R/8Eo8ZIAA7QvgoAgh+zv6h4fkfaEs6zYP50eZlhvGJAaW0wk4zvtEmk\n",
       "T6lKYT7QhATE6qhBAAAAMwGft2pH/wS1CqIAF9dqDADXRQuUQqOfztVtSSbgQ4+E4ozKt+0BOJFr\n",
       "5h5QaVfboFSRtQAAAGRBm7xJqEFsmUwIT//98QCPocImqctgsAC+VeIe4R9Ddqo0/L6sQvWvkjGh\n",
       "zfRvfTiz9/30b6hHTyJYBBMg9RQF0T0XdyqvGSWHfofrt0yQccSdoV+2FwLhedC2NY+zFVJSAOOA\n",
       "AAAAS0Gf2kUVLCP/Avf14sD4AOcLjlk9wFqUvgWcdq/w2on00L6WmJWMAMopMP74rtJoGjMVCX7s\n",
       "hb9nAfrDxu1i0c+pj/ppQRX+vgYgGQAAADcBn/l0R/8RpAhT9LykxV7FgAXzASZtNKcXFxmT2kha\n",
       "pSpfqRt/HKe46MRJ+8VdZxgTyAmHvmWAAAAAMQGf+2pH/xGn/IiJMkQAOaEUFAsG/qIBAUj7ud1T\n",
       "n4ly6RrH1lMEpUShE4x0uBU1zukAAABGQZv9SahBbJlMCE///fEAj51wGA9mgAXwQPx12ip43mWh\n",
       "P8V0BikSCU4jna2qCu/D7FomqB0jM6VyvewLeRHS5gDylf4TZwAAAFtBmh5J4QpSZTAhP/3xAI+Y\n",
       "TXjOwboAC+ZuB07yWxiIENbr3cVo6SZiPRjfRkfpixPzjYrAoP5qDjBwCjIwx0v4Ht1Ntyph4apL\n",
       "G10gJsiro1T3H2iyAa8g6KtwAAAAP0GaIEnhDomUwU0TH//8hANNpIAA7QvEAMxrROpVHe/bZX/C\n",
       "BRffiKdTVYboWMbcp0OAJJVxV5/kOYTngABKwAAAADYBnl9qR/8Eo8ZIAA7QvgVR0vaQO5R5SIuy\n",
       "y+eebpu5UE8Rk+gAp1IO5z5yYgunclgYOAJ8GsMAAASybW9vdgAAAGxtdmhkAAAAAAAAAAAAAAAA\n",
       "AAAD6AAAApQAAQAAAQAAAAAAAAAAAAAAAAEAAAAAAAAAAAAAAAAAAAABAAAAAAAAAAAAAAAAAABA\n",
       "AAAAAAAAAAAAAAAAAAAAAAAAAAAAAAAAAAAAAAAAAgAAA9x0cmFrAAAAXHRraGQAAAADAAAAAAAA\n",
       "AAAAAAABAAAAAAAAApQAAAAAAAAAAAAAAAAAAAAAAAEAAAAAAAAAAAAAAAAAAAABAAAAAAAAAAAA\n",
       "AAAAAABAAAAAAbAAAAEgAAAAAAAkZWR0cwAAABxlbHN0AAAAAAAAAAEAAAKUAAACAAABAAAAAANU\n",
       "bWRpYQAAACBtZGhkAAAAAAAAAAAAAAAAAAAyAAAAIQBVxAAAAAAALWhkbHIAAAAAAAAAAHZpZGUA\n",
       "AAAAAAAAAAAAAABWaWRlb0hhbmRsZXIAAAAC/21pbmYAAAAUdm1oZAAAAAEAAAAAAAAAAAAAACRk\n",
       "aW5mAAAAHGRyZWYAAAAAAAAAAQAAAAx1cmwgAAAAAQAAAr9zdGJsAAAAs3N0c2QAAAAAAAAAAQAA\n",
       "AKNhdmMxAAAAAAAAAAEAAAAAAAAAAAAAAAAAAAAAAbABIABIAAAASAAAAAAAAAABAAAAAAAAAAAA\n",
       "AAAAAAAAAAAAAAAAAAAAAAAAAAAAAAAAGP//AAAAMWF2Y0MBZAAe/+EAGGdkAB6s2UGwloQAAAMA\n",
       "BAAAAwGQPFi2WAEABmjr48siwAAAABx1dWlka2hA8l8kT8W6OaUbzwMj8wAAAAAAAAAYc3R0cwAA\n",
       "AAAAAAABAAAAIQAAAQAAAAAUc3RzcwAAAAAAAAABAAAAAQAAARBjdHRzAAAAAAAAACAAAAABAAAC\n",
       "AAAAAAEAAAUAAAAAAQAAAgAAAAABAAAAAAAAAAEAAAEAAAAAAQAABQAAAAABAAACAAAAAAEAAAAA\n",
       "AAAAAQAAAQAAAAABAAAFAAAAAAEAAAIAAAAAAQAAAAAAAAABAAABAAAAAAEAAAUAAAAAAQAAAgAA\n",
       "AAABAAAAAAAAAAEAAAEAAAAAAQAABQAAAAABAAACAAAAAAEAAAAAAAAAAQAAAQAAAAABAAAFAAAA\n",
       "AAEAAAIAAAAAAQAAAAAAAAABAAABAAAAAAEAAAUAAAAAAQAAAgAAAAABAAAAAAAAAAEAAAEAAAAA\n",
       "AgAAAgAAAAABAAADAAAAAAEAAAEAAAAAHHN0c2MAAAAAAAAAAQAAAAEAAAAhAAAAAQAAAJhzdHN6\n",
       "AAAAAAAAAAAAAAAhAAAMigAAAV4AAABgAAAAWwAAAFEAAAChAAAAXwAAAE0AAABHAAAAbQAAAFMA\n",
       "AABIAAAASAAAAJAAAABSAAAARQAAADwAAABjAAAAYQAAADgAAABAAAAAdQAAAE8AAAA+AAAANwAA\n",
       "AGgAAABPAAAAOwAAADUAAABKAAAAXwAAAEMAAAA6AAAAFHN0Y28AAAAAAAAAAQAAACwAAABidWR0\n",
       "YQAAAFptZXRhAAAAAAAAACFoZGxyAAAAAAAAAABtZGlyYXBwbAAAAAAAAAAAAAAAAC1pbHN0AAAA\n",
       "Jal0b28AAAAdZGF0YQAAAAEAAAAATGF2ZjU4LjI5LjEwMA==\n",
       "\">\n",
       "  Your browser does not support the video tag.\n",
       "</video>"
      ],
      "text/plain": [
       "<IPython.core.display.HTML object>"
      ]
     },
     "execution_count": 17,
     "metadata": {},
     "output_type": "execute_result"
    }
   ],
   "source": [
    "from matplotlib import animation\n",
    "from IPython.display import HTML\n",
    "\n",
    "# First set up the figure, the axis, and the plot element we want to animate\n",
    "fig, ax = plt.subplots()\n",
    "ax.set_title(\"2D accoustic wave, it = 0\")\n",
    "umax = max(np.max(U),-np.min(U))\n",
    "\n",
    "i_update = 3\n",
    "\n",
    "im = ax.imshow(U[i,:].reshape((N+1,N+1)), vmin=-umax, vmax=umax)\n",
    "\n",
    "# Animation function which updates figure data.  This is called sequentially\n",
    "def animate(i):\n",
    "    im.set_array(U[1+i*i_update,:].reshape((N+1,N+1)))\n",
    "    ax.set_title(f\"2D accoustic wave, it = {i*i_update}\")\n",
    "    return im,\n",
    "\n",
    "# Call the animator.  blit=True means only re-draw the parts that have changed.\n",
    "anim = animation.FuncAnimation(fig, animate, frames=Nt//i_update, interval=20, blit=True)\n",
    "\n",
    "plt.close(anim._fig)\n",
    "\n",
    "# Call function to display the animation\n",
    "HTML(anim.to_html5_video())"
   ]
  },
  {
   "cell_type": "code",
   "execution_count": null,
   "id": "0b356bc7",
   "metadata": {},
   "outputs": [],
   "source": []
  }
 ],
 "metadata": {
  "@webio": {
   "lastCommId": null,
   "lastKernelId": null
  },
  "kernelspec": {
   "display_name": "Python 3 (ipykernel)",
   "language": "python",
   "name": "python3"
  },
  "language_info": {
   "codemirror_mode": {
    "name": "ipython",
    "version": 3
   },
   "file_extension": ".py",
   "mimetype": "text/x-python",
   "name": "python",
   "nbconvert_exporter": "python",
   "pygments_lexer": "ipython3",
   "version": "3.8.8"
  }
 },
 "nbformat": 4,
 "nbformat_minor": 5
}
