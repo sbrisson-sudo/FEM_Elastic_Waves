{
 "cells": [
  {
   "cell_type": "code",
   "execution_count": 1,
   "metadata": {},
   "outputs": [],
   "source": [
    "%load_ext autoreload\n",
    "%autoreload 2"
   ]
  },
  {
   "cell_type": "code",
   "execution_count": 2,
   "metadata": {},
   "outputs": [],
   "source": [
    "import numpy as np\n",
    "import matplotlib.pyplot as plt\n",
    "from tqdm import tqdm\n",
    "\n",
    "from fem2D import Node, Element, plotMesh, readGmsh4, shapeFunctions, interp, readGLL, eraseCurrentMesh"
   ]
  },
  {
   "cell_type": "code",
   "execution_count": 3,
   "metadata": {},
   "outputs": [
    {
     "name": "stdout",
     "output_type": "stream",
     "text": [
      "Info    : Reading '../meshes/square4.msh'...\n",
      "Info    : 9 entities\n",
      "Info    : 625 nodes\n",
      "Info    : 60 elements\n",
      "Info    : Done reading '../meshes/square4.msh'\n"
     ]
    },
    {
     "data": {
      "image/png": "[encoded data removed]",
      "text/plain": [
       "<Figure size 720x720 with 1 Axes>"
      ]
     },
     "metadata": {
      "needs_background": "light"
     },
     "output_type": "display_data"
    }
   ],
   "source": [
    "# chargement du maillage\n",
    "\n",
    "eraseCurrentMesh()\n",
    "\n",
    "file = \"../meshes/square4.msh\"\n",
    "# file = \"../meshes/octogon2.msh\"\n",
    "\n",
    "\n",
    "regions = [\n",
    "    (1, 31),\n",
    "    (1, 33),\n",
    "    (1, 32),\n",
    "    (1, 34),\n",
    "    ]\n",
    "elements, nodes = readGmsh4(file, regions) \n",
    "plotMesh(elements, nodes, [31, 32, 33, 34], allNodes=True) \n",
    "dof = len(nodes)"
   ]
  },
  {
   "cell_type": "code",
   "execution_count": 8,
   "metadata": {},
   "outputs": [
    {
     "name": "stdout",
     "output_type": "stream",
     "text": [
      "N=4\n"
     ]
    }
   ],
   "source": [
    "# Chargement des points/poids d'intégration de GLL + dérivée des interpolateurs lagrangiens sur ces points\n",
    "\n",
    "N = int(np.sqrt(len(elements[0].nodes))) - 1\n",
    "xi,w,dh = readGLL(N)\n",
    "\n",
    "print(f\"{N=}\")"
   ]
  },
  {
   "cell_type": "code",
   "execution_count": 6,
   "metadata": {},
   "outputs": [],
   "source": [
    "# Pour chaque élément calcul:\n",
    "# - du jacobien\n",
    "# - de l'inverse de la matrice jacobienne\n",
    "\n",
    "duphi = shapeFunctions[\"P1\"][\"duphi\"]\n",
    "dvphi = shapeFunctions[\"P1\"][\"dvphi\"]\n",
    "\n",
    "for e in elements:\n",
    "    \n",
    "    coords = e.getCoords()\n",
    "    X, Y = coords[:,0], coords[:,1]\n",
    "    \n",
    "    Je11 = np.zeros((N,N))\n",
    "    Je21 = np.zeros((N,N))\n",
    "    Je12 = np.zeros((N,N))\n",
    "    Je22 = np.zeros((N,N))\n",
    "    \n",
    "    e.detJ = np.zeros((N,N))\n",
    "    \n",
    "    e.IJe11 = np.zeros((N,N))\n",
    "    e.IJe21 = np.zeros((N,N))\n",
    "    e.IJe12 = np.zeros((N,N))\n",
    "    e.IJe22 = np.zeros((N,N))\n",
    "\n",
    "    dxdu = interp(duphi, X)\n",
    "    dxdv = interp(dvphi, X)        \n",
    "    dydu = interp(duphi, Y)\n",
    "    dydv = interp(dvphi, Y)\n",
    "    \n",
    "    for i in range(N):\n",
    "        for j in range(N):\n",
    "            \n",
    "            Je11[i,j] = dxdu(xi[i], xi[j])\n",
    "            Je21[i,j] = dxdv(xi[i], xi[j])\n",
    "            Je12[i,j] = dydu(xi[i], xi[j])\n",
    "            Je22[i,j] = dydv(xi[i], xi[j])\n",
    "            \n",
    "            e.detJ[i,j] = Je11[i,j]*Je22[i,j] - Je21[i,j]*Je12[i,j]\n",
    "            \n",
    "            e.IJe11[i,j] = Je22[i,j]/e.detJ[i,j]\n",
    "            e.IJe22[i,j] = Je11[i,j]/e.detJ[i,j]\n",
    "            e.IJe21[i,j] = -Je21[i,j]/e.detJ[i,j]\n",
    "            e.IJe12[i,j] = -Je12[i,j]/e.detJ[i,j]"
   ]
  },
  {
   "cell_type": "code",
   "execution_count": null,
   "metadata": {},
   "outputs": [],
   "source": [
    "for e in tqdm(elements):\n",
    "    \n",
    "    e.Ke = np.zeros(((N+1)**2,(N+1)**2))\n",
    "    \n",
    "    for i in range((N+1)**2):\n",
    "        for j in range((N+1)**2):\n",
    "                      \n",
    "            fk = np.array([e.iJ[k]@dh2d[k//(N+1),k,:]@e.iJ[k]@dh2d[k-(N+1)*k//(N+1),k,:] for k in range((N+1)**2)])/e.detJ\n",
    "            e.Ke[i,j] = int2D(fk)"
   ]
  }
 ],
 "metadata": {
  "interpreter": {
   "hash": "47558f5d1345b312ea7cbe4d32be71183e95bb01b25d23a408d164bfdcf9fcf4"
  },
  "kernelspec": {
   "display_name": "Python 3.8.8 64-bit ('base': conda)",
   "language": "python",
   "name": "python3"
  },
  "language_info": {
   "codemirror_mode": {
    "name": "ipython",
    "version": 3
   },
   "file_extension": ".py",
   "mimetype": "text/x-python",
   "name": "python",
   "nbconvert_exporter": "python",
   "pygments_lexer": "ipython3",
   "version": "3.8.8"
  },
  "orig_nbformat": 4
 },
 "nbformat": 4,
 "nbformat_minor": 2
}
