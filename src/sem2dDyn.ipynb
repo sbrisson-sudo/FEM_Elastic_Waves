{
 "cells": [
  {
   "cell_type": "code",
   "execution_count": 1,
   "metadata": {},
   "outputs": [],
   "source": [
    "%load_ext autoreload\n",
    "%autoreload 2"
   ]
  },
  {
   "cell_type": "code",
   "execution_count": 1,
   "metadata": {},
   "outputs": [
    {
     "name": "stdout",
     "output_type": "stream",
     "text": [
      "Code parallelized with 12 processes.\n"
     ]
    }
   ],
   "source": [
    "import numpy as np\n",
    "import matplotlib.pyplot as plt\n",
    "from tqdm import tqdm\n",
    "\n",
    "from multiprocess import Pool, cpu_count\n",
    "\n",
    "from fem2D import *\n",
    "from simpleMeshes import squareMesh\n",
    "\n",
    "nprocesses = cpu_count()\n",
    "print(f\"Code parallelized with {nprocesses} processes.\")"
   ]
  },
  {
   "cell_type": "code",
   "execution_count": 2,
   "metadata": {},
   "outputs": [
    {
     "name": "stdout",
     "output_type": "stream",
     "text": [
      "dof=1681\n"
     ]
    }
   ],
   "source": [
    "# construction du maillage\n",
    "\n",
    "eraseCurrentMesh()\n",
    "\n",
    "N = 4       # elements order\n",
    "\n",
    "# SQUARE\n",
    "L = 100.0   # square size\n",
    "dx = 10.0    # elements size\n",
    "elements, nodes = squareMesh(L,dx,N)\n",
    "Δx = dx/(N+1)\n",
    "\n",
    "\n",
    "# # OCTOGON\n",
    "# file = f\"../meshes/octogon{N}.msh\"\n",
    "# regions = [\n",
    "#     (1, 21),\n",
    "#     (1, 23),\n",
    "#     (1, 22),\n",
    "#     (1, 24),\n",
    "#     ]\n",
    "# Δx = 1.6/(N+1)\n",
    "\n",
    "# elements, nodes = readGmsh4(file, regions) \n",
    "\n",
    "dof = len(nodes)\n",
    "print(f\"{dof=}\")"
   ]
  },
  {
   "cell_type": "code",
   "execution_count": 3,
   "metadata": {},
   "outputs": [
    {
     "name": "stdout",
     "output_type": "stream",
     "text": [
      "xi=array([-1.        , -0.65465367,  0.        ,  0.65465367,  1.        ])\n"
     ]
    }
   ],
   "source": [
    "# Chargement des points/poids d'intégration de GLL + dérivée des interpolateurs lagrangiens sur ces points\n",
    "xi,w,dh = readGLL(N)\n",
    "print(f\"{xi=}\")"
   ]
  },
  {
   "cell_type": "code",
   "execution_count": 4,
   "metadata": {},
   "outputs": [
    {
     "name": "stderr",
     "output_type": "stream",
     "text": [
      "100%|██████████| 100/100 [00:00<00:00, 376.84it/s]\n"
     ]
    }
   ],
   "source": [
    "# Pour chaque élément calcul:\n",
    "# - du jacobien\n",
    "# - de l'inverse de la matrice jacobienne\n",
    "# La transformation depuis un élément quelconque vers l'élément de référence est l'interpolation bilinéaire\n",
    "\n",
    "duphi = shapeFunctions[\"P1\"][\"duphi\"]\n",
    "dvphi = shapeFunctions[\"P1\"][\"dvphi\"]\n",
    "\n",
    "def computeJacobian(e):\n",
    "        \n",
    "    coords = e.getCoords()\n",
    "    X, Y = coords[:,0], coords[:,1]\n",
    "    \n",
    "    Je11 = np.zeros((N+1,N+1))\n",
    "    Je21 = np.zeros((N+1,N+1))\n",
    "    Je12 = np.zeros((N+1,N+1))\n",
    "    Je22 = np.zeros((N+1,N+1))\n",
    "    \n",
    "    e.detJ = np.zeros((N+1,N+1))\n",
    "    \n",
    "    e.iJe11 = np.zeros((N+1,N+1))\n",
    "    e.iJe21 = np.zeros((N+1,N+1))\n",
    "    e.iJe12 = np.zeros((N+1,N+1))\n",
    "    e.iJe22 = np.zeros((N+1,N+1))\n",
    "\n",
    "    dxdu = interp(duphi, X)\n",
    "    dxdv = interp(dvphi, X)        \n",
    "    dydu = interp(duphi, Y)\n",
    "    dydv = interp(dvphi, Y)\n",
    "    \n",
    "    \n",
    "    for i in range(N+1):\n",
    "        for j in range(N+1):\n",
    "            \n",
    "            Je11[i,j] = dxdu(xi[i], xi[j])\n",
    "            Je21[i,j] = dxdv(xi[i], xi[j])\n",
    "            Je12[i,j] = dydu(xi[i], xi[j])\n",
    "            Je22[i,j] = dydv(xi[i], xi[j])\n",
    "            \n",
    "            e.detJ[i,j] = Je11[i,j]*Je22[i,j] - Je21[i,j]*Je12[i,j]\n",
    "            \n",
    "            e.iJe11[i,j] =  Je22[i,j]/e.detJ[i,j]\n",
    "            e.iJe22[i,j] =  Je11[i,j]/e.detJ[i,j]\n",
    "            e.iJe21[i,j] = -Je21[i,j]/e.detJ[i,j]\n",
    "            e.iJe12[i,j] = -Je12[i,j]/e.detJ[i,j]\n",
    "            \n",
    "    return e\n",
    "    \n",
    "with Pool(nprocesses) as p:\n",
    "    Element.id = 0\n",
    "    elements = list(tqdm(p.imap(computeJacobian, elements), total=len(elements)))"
   ]
  },
  {
   "cell_type": "code",
   "execution_count": 5,
   "metadata": {},
   "outputs": [
    {
     "name": "stderr",
     "output_type": "stream",
     "text": [
      "100%|██████████| 100/100 [00:01<00:00, 77.94it/s]\n"
     ]
    }
   ],
   "source": [
    "# calcul des matrices élémentaires\n",
    "\n",
    "delta  = np.eye(N+1)\n",
    "\n",
    "def computeStiffnes(e):\n",
    "    \n",
    "    # KeTemp = np.zeros((N+1,N+1,N+1,N+1))\n",
    "    e.Ke = np.zeros(((N+1)**2,(N+1)**2))\n",
    "    \n",
    "    for i in range(N+1):\n",
    "        for j in range(N+1):\n",
    "            for k in range(N+1):\n",
    "                for l in range(N+1):\n",
    "                    \n",
    "                    a = i*(N+1) + j\n",
    "                    b = k*(N+1) + l\n",
    "                                        \n",
    "                    for p in range(N+1):\n",
    "                        for q in range(N+1):                 \n",
    "\n",
    "                            e.Ke[a,b] += w[p]*w[q] * ((e.iJe11[p,q]*dh[i,p]*delta[j,q] + e.iJe12[p,q]*dh[j,q]*delta[i,p])*(e.iJe11[p,q]*dh[k,p]*delta[l,q] + e.iJe12[p,q]*dh[l,q]*delta[k,p]) + (e.iJe21[p,q]*dh[i,p]*delta[j,q] + e.iJe22[p,q]*dh[j,q]*delta[i,p])*(e.iJe21[p,q]*dh[k,p]*delta[l,q] + e.iJe22[p,q]*dh[l,q]*delta[k,p])) * e.detJ[p,q]\n",
    "                            \n",
    "    return e\n",
    "\n",
    "with Pool(nprocesses) as p:\n",
    "    Element.id = 0\n",
    "    elements = list(tqdm(p.imap(computeStiffnes, elements), total=len(elements)))"
   ]
  },
  {
   "cell_type": "code",
   "execution_count": 6,
   "metadata": {},
   "outputs": [
    {
     "name": "stderr",
     "output_type": "stream",
     "text": [
      "100%|██████████| 100/100 [00:00<00:00, 43581.71it/s]\n"
     ]
    }
   ],
   "source": [
    "# calcul des matrices élémentaires de masse\n",
    "\n",
    "for e in tqdm(elements):\n",
    "    \n",
    "    e.Me = np.zeros((N+1)**2) # diagonal\n",
    "    \n",
    "    for i in range((N+1)**2):\n",
    "        e.Me[i] = w[i//(N+1)]*w[i%(N+1)]*e.detJ[i//(N+1),i%(N+1)]"
   ]
  },
  {
   "cell_type": "code",
   "execution_count": 7,
   "metadata": {},
   "outputs": [
    {
     "name": "stderr",
     "output_type": "stream",
     "text": [
      "100%|██████████| 100/100 [00:00<00:00, 2548.24it/s]\n"
     ]
    }
   ],
   "source": [
    "# assemblage\n",
    "\n",
    "K = np.zeros((dof,dof))\n",
    "M = np.zeros(dof)\n",
    "F = np.zeros(dof)\n",
    "\n",
    "for e in tqdm(elements):\n",
    "    for (i,n1) in enumerate(e.nodes):\n",
    "        M[n1.id] += e.Me[i]\n",
    "        for (j,n2) in enumerate(e.nodes):\n",
    "            K[n1.id,n2.id] += e.Ke[i,j]"
   ]
  },
  {
   "cell_type": "code",
   "execution_count": 8,
   "metadata": {},
   "outputs": [],
   "source": [
    "# inverting mass matrix\n",
    "\n",
    "iM = 1/M"
   ]
  },
  {
   "cell_type": "code",
   "execution_count": 9,
   "metadata": {},
   "outputs": [],
   "source": [
    "# résolution temporelle\n",
    "\n",
    "Nit = 2000\n",
    "cfl = 0.25\n",
    "Δt = Δx* cfl\n",
    "T = Δt*Nit \n",
    "\n",
    "time = np.linspace(0,T,Nit)\n",
    "\n",
    "U = np.zeros((Nit, dof))\n",
    "dU = np.zeros((Nit, dof))\n",
    "ddU = np.zeros((Nit, dof))\n",
    "\n",
    "# définition source\n",
    "\n",
    "t0 = T/15.0         # tuning\n",
    "f0 = 1/(8*Δx)     # tuning\n",
    "f = lambda t : (4*(t-t0)**2*f0**4 - 2*f0**2)*np.exp(-(t-t0)**2*f0**2)\n",
    "noeudSource = getCenterNode(nodes)                                          "
   ]
  },
  {
   "cell_type": "code",
   "execution_count": 10,
   "metadata": {},
   "outputs": [
    {
     "name": "stderr",
     "output_type": "stream",
     "text": [
      "No handles with labels found to put in legend.\n"
     ]
    },
    {
     "data": {
      "text/plain": [
       "[<matplotlib.lines.Line2D at 0x7f79684bca90>]"
      ]
     },
     "execution_count": 10,
     "metadata": {},
     "output_type": "execute_result"
    },
    {
     "data": {
      "image/png": "[encoded data removed]",
      "text/plain": [
       "<Figure size 432x432 with 1 Axes>"
      ]
     },
     "metadata": {
      "needs_background": "light"
     },
     "output_type": "display_data"
    }
   ],
   "source": [
    "%matplotlib inline\n",
    "ax = plotMesh(elements, nodes)\n",
    "ax.plot(nodes[noeudSource].x, nodes[noeudSource].y, \"*r\", ms = 10)"
   ]
  },
  {
   "cell_type": "code",
   "execution_count": 11,
   "metadata": {},
   "outputs": [
    {
     "name": "stdout",
     "output_type": "stream",
     "text": [
      "CFL = 0.25\n",
      "Δx = 2.0m while λmin ~ 4.0\n"
     ]
    }
   ],
   "source": [
    "# tests sur valeurs paramètres\n",
    "print(f\"CFL = {Δt/Δx}\")\n",
    "print(f\"Δx = {Δx}m while λmin ~ {1/(4*f0)}\")"
   ]
  },
  {
   "cell_type": "code",
   "execution_count": 12,
   "metadata": {},
   "outputs": [
    {
     "data": {
      "text/plain": [
       "[<matplotlib.lines.Line2D at 0x7f79683bcf10>]"
      ]
     },
     "execution_count": 12,
     "metadata": {},
     "output_type": "execute_result"
    },
    {
     "data": {
      "image/png": "[encoded data removed]",
      "text/plain": [
       "<Figure size 432x288 with 1 Axes>"
      ]
     },
     "metadata": {
      "needs_background": "light"
     },
     "output_type": "display_data"
    }
   ],
   "source": [
    "%matplotlib inline\n",
    "plt.plot(time, f(time))"
   ]
  },
  {
   "cell_type": "code",
   "execution_count": 13,
   "metadata": {},
   "outputs": [
    {
     "name": "stderr",
     "output_type": "stream",
     "text": [
      "100%|██████████| 1998/1998 [00:01<00:00, 1044.87it/s]\n"
     ]
    }
   ],
   "source": [
    "# FD\n",
    "for i in tqdm(range(2,Nit)):\n",
    "    F[noeudSource] = f(i*Δt)\n",
    "    U[i,:] = 2*U[i-1,:] - U[i-2,:] + Δt**2*np.multiply(iM , F - K@U[i-1,:])"
   ]
  },
  {
   "cell_type": "code",
   "execution_count": 14,
   "metadata": {},
   "outputs": [
    {
     "data": {
      "text/plain": [
       "[<matplotlib.lines.Line2D at 0x7f79683398e0>]"
      ]
     },
     "execution_count": 14,
     "metadata": {},
     "output_type": "execute_result"
    },
    {
     "data": {
      "image/png": "[encoded data removed]",
      "text/plain": [
       "<Figure size 432x288 with 1 Axes>"
      ]
     },
     "metadata": {
      "needs_background": "light"
     },
     "output_type": "display_data"
    }
   ],
   "source": [
    "%matplotlib inline\n",
    "plt.plot(time, U[:,noeudSource])\n",
    "plt.plot(time, f(time))"
   ]
  },
  {
   "cell_type": "code",
   "execution_count": 15,
   "metadata": {},
   "outputs": [],
   "source": [
    "import matplotlib.animation as animation\n",
    "\n",
    "# %matplotlib widget\n",
    "%matplotlib tk"
   ]
  },
  {
   "cell_type": "code",
   "execution_count": 18,
   "metadata": {},
   "outputs": [],
   "source": [
    "fig, ax = plt.subplots()\n",
    "ax.set_aspect(\"equal\", \"box\")\n",
    "\n",
    "# plotMeshLimits(elements, ax)\n",
    "\n",
    "umin = min(U.min(), -U.max())/3\n",
    "\n",
    "dots = ax.scatter([n.x for n in nodes], [n.y for n in nodes], c=U[0,:], zorder=4, cmap=\"seismic\", vmin=umin, vmax=-umin)\n",
    "cbar = plt.colorbar(dots)\n",
    "ttl = ax.annotate(\"it = 0\", xy=(0.05, 0.05), xycoords='axes fraction', bbox=dict(facecolor='white', edgecolor='grey'), zorder=5)\n",
    "\n",
    "dit = 5\n",
    "\n",
    "def animate(i):\n",
    "    dots.set_array(U[dit*i,:])\n",
    "    cbar.update_normal(dots)\n",
    "    ttl.set_text(f\"it = {dit*i}\")\n",
    "    return dots,ttl,\n",
    "\n",
    "ani = animation.FuncAnimation(fig, animate, interval=30, blit=True, frames = int(Nit/dit))\n",
    "\n",
    "ani.event_source.start()\n",
    "\n",
    "plt.show()"
   ]
  },
  {
   "cell_type": "code",
   "execution_count": 19,
   "metadata": {},
   "outputs": [],
   "source": [
    "# plot interpolation bourrin : interpolation régulière sur l'élément de référence pour chaque élément puis interpolation \"nearest\" sur le nuage de point créé\n",
    "\n",
    "def interpPlot(U, elements = elements, onlyZ = True):\n",
    "    \n",
    "    phi = shapeFunctions[\"P1\"][\"phi\"]\n",
    "    hij = lagrangian2D(N)\n",
    "    \n",
    "    npts = 10\n",
    "        \n",
    "    u = np.linspace(-1, 1, npts)\n",
    "    uu, vv = np.meshgrid(u,u)\n",
    "    vmin, vmax = U.min(), U.max()\n",
    "\n",
    "    if not(onlyZ): X,Y = np.zeros(len(elements)*npts**2),np.zeros(len(elements)*npts**2)\n",
    "    \n",
    "    Z = np.zeros(len(elements)*npts**2)\n",
    "    \n",
    "    for i,e in enumerate(elements):\n",
    "        \n",
    "        coords = e.getCoords()\n",
    "        \n",
    "        zitp = interp(hij, [U[n.id] for n in e.nodes])\n",
    "        Z[i*npts**2:(i+1)*npts**2] = zitp(uu, vv).reshape(npts**2)\n",
    "\n",
    "        if not(onlyZ):\n",
    "            xitp = interp(phi, coords[:,0])\n",
    "            yitp = interp(phi, coords[:,1])\n",
    "            X[i*npts**2:(i+1)*npts**2] = xitp(uu, vv).reshape(npts**2)\n",
    "            Y[i*npts**2:(i+1)*npts**2] = yitp(uu, vv).reshape(npts**2)\n",
    "            \n",
    "    if onlyZ: return Z\n",
    "    return X,Y,Z "
   ]
  },
  {
   "cell_type": "code",
   "execution_count": 20,
   "metadata": {},
   "outputs": [
    {
     "name": "stderr",
     "output_type": "stream",
     "text": [
      "  1%|▏         | 5/400 [00:01<02:19,  2.83it/s]Exception ignored in: <function Variable.__del__ at 0x7f7968268430>\n",
      "Traceback (most recent call last):\n",
      "  File \"/home/sylvain/anaconda3/lib/python3.8/tkinter/__init__.py\", line 363, in __del__\n",
      "    if self._tk.getboolean(self._tk.call(\"info\", \"exists\", self._name)):\n",
      "RuntimeError: main thread is not in main loop\n",
      "Exception ignored in: <function Image.__del__ at 0x7f7968283d30>\n",
      "Traceback (most recent call last):\n",
      "  File \"/home/sylvain/anaconda3/lib/python3.8/tkinter/__init__.py\", line 4017, in __del__\n",
      "    self.tk.call('image', 'delete', self.name)\n",
      "RuntimeError: main thread is not in main loop\n",
      "Exception ignored in: <function Image.__del__ at 0x7f7968283d30>\n",
      "Traceback (most recent call last):\n",
      "  File \"/home/sylvain/anaconda3/lib/python3.8/tkinter/__init__.py\", line 4017, in __del__\n",
      "    self.tk.call('image', 'delete', self.name)\n",
      "RuntimeError: main thread is not in main loop\n",
      "Exception ignored in: <function Variable.__del__ at 0x7f7968268430>\n",
      "Traceback (most recent call last):\n",
      "  File \"/home/sylvain/anaconda3/lib/python3.8/tkinter/__init__.py\", line 363, in __del__\n",
      "    if self._tk.getboolean(self._tk.call(\"info\", \"exists\", self._name)):\n",
      "RuntimeError: main thread is not in main loop\n",
      "Exception ignored in: <function Image.__del__ at 0x7f7968283d30>\n",
      "Traceback (most recent call last):\n",
      "  File \"/home/sylvain/anaconda3/lib/python3.8/tkinter/__init__.py\", line 4017, in __del__\n",
      "    self.tk.call('image', 'delete', self.name)\n",
      "RuntimeError: main thread is not in main loop\n",
      "Exception ignored in: <function Variable.__del__ at 0x7f7968268430>\n",
      "Traceback (most recent call last):\n",
      "  File \"/home/sylvain/anaconda3/lib/python3.8/tkinter/__init__.py\", line 363, in __del__\n",
      "    if self._tk.getboolean(self._tk.call(\"info\", \"exists\", self._name)):\n",
      "RuntimeError: main thread is not in main loop\n",
      "Exception ignored in: <function Image.__del__ at 0x7f7968283d30>\n",
      "Traceback (most recent call last):\n",
      "  File \"/home/sylvain/anaconda3/lib/python3.8/tkinter/__init__.py\", line 4017, in __del__\n",
      "    self.tk.call('image', 'delete', self.name)\n",
      "RuntimeError: main thread is not in main loop\n",
      "Exception ignored in: <function Image.__del__ at 0x7f7968283d30>\n",
      "Traceback (most recent call last):\n",
      "  File \"/home/sylvain/anaconda3/lib/python3.8/tkinter/__init__.py\", line 4017, in __del__\n",
      "    self.tk.call('image', 'delete', self.name)\n",
      "RuntimeError: main thread is not in main loop\n",
      "Exception ignored in: <function Image.__del__ at 0x7f7968283d30>\n",
      "Traceback (most recent call last):\n",
      "  File \"/home/sylvain/anaconda3/lib/python3.8/tkinter/__init__.py\", line 4017, in __del__\n",
      "    self.tk.call('image', 'delete', self.name)\n",
      "RuntimeError: main thread is not in main loop\n",
      "Exception ignored in: <function Image.__del__ at 0x7f7968283d30>\n",
      "Traceback (most recent call last):\n",
      "  File \"/home/sylvain/anaconda3/lib/python3.8/tkinter/__init__.py\", line 4017, in __del__\n",
      "    self.tk.call('image', 'delete', self.name)\n",
      "RuntimeError: main thread is not in main loop\n",
      "Exception ignored in: <function Image.__del__ at 0x7f7968283d30>\n",
      "Traceback (most recent call last):\n",
      "  File \"/home/sylvain/anaconda3/lib/python3.8/tkinter/__init__.py\", line 4017, in __del__\n",
      "    self.tk.call('image', 'delete', self.name)\n",
      "RuntimeError: main thread is not in main loop\n",
      "  2%|▏         | 8/400 [00:13<13:28,  2.06s/it]Process ForkPoolWorker-36:\n",
      "Process ForkPoolWorker-33:\n",
      "Process ForkPoolWorker-32:\n",
      "Process ForkPoolWorker-27:\n",
      "Process ForkPoolWorker-26:\n",
      "Process ForkPoolWorker-34:\n",
      "Process ForkPoolWorker-31:\n",
      "Process ForkPoolWorker-29:\n",
      "Process ForkPoolWorker-28:\n",
      "Process ForkPoolWorker-30:\n",
      "Process ForkPoolWorker-25:\n",
      "  2%|▏         | 8/400 [00:14<11:32,  1.77s/it]Process ForkPoolWorker-35:\n",
      "Traceback (most recent call last):\n",
      "Traceback (most recent call last):\n",
      "Traceback (most recent call last):\n",
      "Traceback (most recent call last):\n",
      "Traceback (most recent call last):\n",
      "Traceback (most recent call last):\n",
      "Traceback (most recent call last):\n",
      "  File \"/home/sylvain/anaconda3/lib/python3.8/site-packages/multiprocess/process.py\", line 315, in _bootstrap\n",
      "    self.run()\n",
      "Traceback (most recent call last):\n",
      "Traceback (most recent call last):\n",
      "  File \"/home/sylvain/anaconda3/lib/python3.8/site-packages/multiprocess/process.py\", line 315, in _bootstrap\n",
      "    self.run()\n",
      "Traceback (most recent call last):\n",
      "Traceback (most recent call last):\n",
      "  File \"/home/sylvain/anaconda3/lib/python3.8/site-packages/multiprocess/process.py\", line 315, in _bootstrap\n",
      "    self.run()\n",
      "Traceback (most recent call last):\n",
      "  File \"/home/sylvain/anaconda3/lib/python3.8/site-packages/multiprocess/process.py\", line 315, in _bootstrap\n",
      "    self.run()\n",
      "  File \"/home/sylvain/anaconda3/lib/python3.8/site-packages/multiprocess/process.py\", line 315, in _bootstrap\n",
      "    self.run()\n",
      "  File \"/home/sylvain/anaconda3/lib/python3.8/site-packages/multiprocess/process.py\", line 108, in run\n",
      "    self._target(*self._args, **self._kwargs)\n",
      "  File \"/home/sylvain/anaconda3/lib/python3.8/site-packages/multiprocess/process.py\", line 108, in run\n",
      "    self._target(*self._args, **self._kwargs)\n",
      "  File \"/home/sylvain/anaconda3/lib/python3.8/site-packages/multiprocess/process.py\", line 108, in run\n",
      "    self._target(*self._args, **self._kwargs)\n",
      "  File \"/home/sylvain/anaconda3/lib/python3.8/site-packages/multiprocess/process.py\", line 315, in _bootstrap\n",
      "    self.run()\n",
      "  File \"/home/sylvain/anaconda3/lib/python3.8/site-packages/multiprocess/process.py\", line 315, in _bootstrap\n",
      "    self.run()\n",
      "  File \"/home/sylvain/anaconda3/lib/python3.8/site-packages/multiprocess/process.py\", line 315, in _bootstrap\n",
      "    self.run()\n",
      "  File \"/home/sylvain/anaconda3/lib/python3.8/site-packages/multiprocess/process.py\", line 315, in _bootstrap\n",
      "    self.run()\n",
      "  File \"/home/sylvain/anaconda3/lib/python3.8/site-packages/multiprocess/process.py\", line 315, in _bootstrap\n",
      "    self.run()\n",
      "  File \"/home/sylvain/anaconda3/lib/python3.8/site-packages/multiprocess/process.py\", line 108, in run\n",
      "    self._target(*self._args, **self._kwargs)\n",
      "  File \"/home/sylvain/anaconda3/lib/python3.8/site-packages/multiprocess/process.py\", line 315, in _bootstrap\n",
      "    self.run()\n",
      "  File \"/home/sylvain/anaconda3/lib/python3.8/site-packages/multiprocess/process.py\", line 315, in _bootstrap\n",
      "    self.run()\n",
      "  File \"/home/sylvain/anaconda3/lib/python3.8/site-packages/multiprocess/pool.py\", line 114, in worker\n",
      "    task = get()\n",
      "  File \"/home/sylvain/anaconda3/lib/python3.8/site-packages/multiprocess/process.py\", line 108, in run\n",
      "    self._target(*self._args, **self._kwargs)\n",
      "  File \"/home/sylvain/anaconda3/lib/python3.8/site-packages/multiprocess/process.py\", line 108, in run\n",
      "    self._target(*self._args, **self._kwargs)\n",
      "  File \"/home/sylvain/anaconda3/lib/python3.8/site-packages/multiprocess/process.py\", line 108, in run\n",
      "    self._target(*self._args, **self._kwargs)\n",
      "  File \"/home/sylvain/anaconda3/lib/python3.8/site-packages/multiprocess/pool.py\", line 114, in worker\n",
      "    task = get()\n",
      "  File \"/home/sylvain/anaconda3/lib/python3.8/site-packages/multiprocess/process.py\", line 108, in run\n",
      "    self._target(*self._args, **self._kwargs)\n",
      "  File \"/home/sylvain/anaconda3/lib/python3.8/site-packages/multiprocess/process.py\", line 108, in run\n",
      "    self._target(*self._args, **self._kwargs)\n",
      "\n",
      "  File \"/home/sylvain/anaconda3/lib/python3.8/site-packages/multiprocess/pool.py\", line 114, in worker\n",
      "    task = get()\n",
      "  File \"/home/sylvain/anaconda3/lib/python3.8/site-packages/multiprocess/process.py\", line 108, in run\n",
      "    self._target(*self._args, **self._kwargs)\n",
      "  File \"/home/sylvain/anaconda3/lib/python3.8/site-packages/multiprocess/process.py\", line 108, in run\n",
      "    self._target(*self._args, **self._kwargs)\n",
      "  File \"/home/sylvain/anaconda3/lib/python3.8/site-packages/multiprocess/process.py\", line 108, in run\n",
      "    self._target(*self._args, **self._kwargs)\n",
      "  File \"/home/sylvain/anaconda3/lib/python3.8/site-packages/multiprocess/pool.py\", line 114, in worker\n",
      "    task = get()\n",
      "  File \"/home/sylvain/anaconda3/lib/python3.8/site-packages/multiprocess/pool.py\", line 114, in worker\n",
      "    task = get()\n",
      "  File \"/home/sylvain/anaconda3/lib/python3.8/site-packages/multiprocess/queues.py\", line 358, in get\n",
      "    with self._rlock:\n",
      "  File \"/home/sylvain/anaconda3/lib/python3.8/site-packages/multiprocess/queues.py\", line 358, in get\n",
      "    with self._rlock:\n",
      "  File \"/home/sylvain/anaconda3/lib/python3.8/site-packages/multiprocess/queues.py\", line 358, in get\n",
      "    with self._rlock:\n",
      "  File \"/home/sylvain/anaconda3/lib/python3.8/site-packages/multiprocess/pool.py\", line 114, in worker\n",
      "    task = get()\n",
      "  File \"/home/sylvain/anaconda3/lib/python3.8/site-packages/multiprocess/queues.py\", line 358, in get\n",
      "    with self._rlock:\n",
      "  File \"/home/sylvain/anaconda3/lib/python3.8/site-packages/multiprocess/pool.py\", line 114, in worker\n",
      "    task = get()\n",
      "  File \"/home/sylvain/anaconda3/lib/python3.8/site-packages/multiprocess/pool.py\", line 114, in worker\n",
      "    task = get()\n",
      "  File \"/home/sylvain/anaconda3/lib/python3.8/site-packages/multiprocess/synchronize.py\", line 101, in __enter__\n",
      "    return self._semlock.__enter__()\n",
      "  File \"/home/sylvain/anaconda3/lib/python3.8/site-packages/multiprocess/synchronize.py\", line 101, in __enter__\n",
      "    return self._semlock.__enter__()\n",
      "  File \"/home/sylvain/anaconda3/lib/python3.8/site-packages/multiprocess/pool.py\", line 114, in worker\n",
      "    task = get()\n",
      "  File \"/home/sylvain/anaconda3/lib/python3.8/site-packages/multiprocess/synchronize.py\", line 101, in __enter__\n",
      "    return self._semlock.__enter__()\n",
      "  File \"/home/sylvain/anaconda3/lib/python3.8/site-packages/multiprocess/pool.py\", line 114, in worker\n",
      "    task = get()\n",
      "  File \"/home/sylvain/anaconda3/lib/python3.8/site-packages/multiprocess/synchronize.py\", line 101, in __enter__\n",
      "    return self._semlock.__enter__()\n",
      "KeyboardInterrupt\n",
      "  File \"/home/sylvain/anaconda3/lib/python3.8/site-packages/multiprocess/queues.py\", line 358, in get\n",
      "    with self._rlock:\n",
      "  File \"/home/sylvain/anaconda3/lib/python3.8/site-packages/multiprocess/queues.py\", line 358, in get\n",
      "    with self._rlock:\n",
      "  File \"/home/sylvain/anaconda3/lib/python3.8/site-packages/multiprocess/queues.py\", line 358, in get\n",
      "    with self._rlock:\n",
      "KeyboardInterrupt\n",
      "KeyboardInterrupt\n",
      "KeyboardInterrupt\n",
      "  File \"/home/sylvain/anaconda3/lib/python3.8/site-packages/multiprocess/queues.py\", line 358, in get\n",
      "    with self._rlock:\n",
      "  File \"/home/sylvain/anaconda3/lib/python3.8/site-packages/multiprocess/pool.py\", line 125, in worker\n",
      "    result = (True, func(*args, **kwds))\n",
      "  File \"/home/sylvain/anaconda3/lib/python3.8/site-packages/multiprocess/synchronize.py\", line 101, in __enter__\n",
      "    return self._semlock.__enter__()\n",
      "  File \"/home/sylvain/anaconda3/lib/python3.8/site-packages/multiprocess/queues.py\", line 359, in get\n",
      "    res = self._reader.recv_bytes()\n",
      "  File \"/home/sylvain/anaconda3/lib/python3.8/site-packages/multiprocess/queues.py\", line 358, in get\n",
      "    with self._rlock:\n",
      "  File \"/home/sylvain/anaconda3/lib/python3.8/site-packages/multiprocess/connection.py\", line 219, in recv_bytes\n",
      "    buf = self._recv_bytes(maxlength)\n",
      "  File \"/home/sylvain/anaconda3/lib/python3.8/site-packages/multiprocess/synchronize.py\", line 101, in __enter__\n",
      "    return self._semlock.__enter__()\n",
      "  File \"/home/sylvain/anaconda3/lib/python3.8/site-packages/multiprocess/synchronize.py\", line 101, in __enter__\n",
      "    return self._semlock.__enter__()\n",
      "  File \"/home/sylvain/anaconda3/lib/python3.8/site-packages/multiprocess/connection.py\", line 417, in _recv_bytes\n",
      "    buf = self._recv(4)\n",
      "  File \"/home/sylvain/anaconda3/lib/python3.8/site-packages/multiprocess/pool.py\", line 114, in worker\n",
      "    task = get()\n",
      "  File \"/home/sylvain/anaconda3/lib/python3.8/site-packages/multiprocess/connection.py\", line 382, in _recv\n",
      "    chunk = read(handle, remaining)\n",
      "KeyboardInterrupt\n",
      "KeyboardInterrupt\n",
      "  File \"/tmp/ipykernel_60078/2324270785.py\", line 23, in interpPlot\n",
      "    Z[i*npts**2:(i+1)*npts**2] = zitp(uu, vv).reshape(npts**2)\n",
      "KeyboardInterrupt\n",
      "  File \"/home/sylvain/anaconda3/lib/python3.8/site-packages/multiprocess/synchronize.py\", line 101, in __enter__\n",
      "    return self._semlock.__enter__()\n",
      "KeyboardInterrupt\n",
      "KeyboardInterrupt\n",
      "  File \"/home/sylvain/anaconda3/lib/python3.8/site-packages/multiprocess/synchronize.py\", line 101, in __enter__\n",
      "    return self._semlock.__enter__()\n",
      "KeyboardInterrupt\n",
      "  File \"/home/sylvain/documents/Physique/numerical_methods/FEM_Elastic_Waves/src/fem2D.py\", line 80, in <lambda>\n",
      "    return lambda u,v : sum([f(u,v)*x for f,x in zip(phi, X)])\n",
      "  File \"/home/sylvain/documents/Physique/numerical_methods/FEM_Elastic_Waves/src/fem2D.py\", line 80, in <listcomp>\n",
      "    return lambda u,v : sum([f(u,v)*x for f,x in zip(phi, X)])\n",
      "  File \"/home/sylvain/anaconda3/lib/python3.8/site-packages/multiprocess/queues.py\", line 358, in get\n",
      "    with self._rlock:\n",
      "  File \"/home/sylvain/anaconda3/lib/python3.8/site-packages/multiprocess/synchronize.py\", line 101, in __enter__\n",
      "    return self._semlock.__enter__()\n",
      "KeyboardInterrupt\n",
      "  File \"/home/sylvain/documents/Physique/numerical_methods/FEM_Elastic_Waves/src/fem2D.py\", line 96, in <lambda>\n",
      "    hij.append(lambda u,v,hi=hib,hj=hjb : hi(v)*hj(u))\n",
      "  File \"/home/sylvain/documents/Physique/numerical_methods/FEM_Elastic_Waves/src/fem2D.py\", line 89, in <lambda>\n",
      "    lambda x,xi1=xi1b,i=ib : reduce(lambda a,b:a*b, [(lambda xi2=xi2b : (x-xi2)/(xi1-xi2))(xi2b) for xi2b in xi_l[:i]+xi_l[i+1:]])\n",
      "  File \"/home/sylvain/documents/Physique/numerical_methods/FEM_Elastic_Waves/src/fem2D.py\", line 89, in <listcomp>\n",
      "    lambda x,xi1=xi1b,i=ib : reduce(lambda a,b:a*b, [(lambda xi2=xi2b : (x-xi2)/(xi1-xi2))(xi2b) for xi2b in xi_l[:i]+xi_l[i+1:]])\n",
      "  File \"/home/sylvain/documents/Physique/numerical_methods/FEM_Elastic_Waves/src/fem2D.py\", line 89, in <lambda>\n",
      "    lambda x,xi1=xi1b,i=ib : reduce(lambda a,b:a*b, [(lambda xi2=xi2b : (x-xi2)/(xi1-xi2))(xi2b) for xi2b in xi_l[:i]+xi_l[i+1:]])\n",
      "KeyboardInterrupt\n"
     ]
    }
   ],
   "source": [
    "X,Y,Uitp0 = interpPlot(U[0,:],elements,False)\n",
    "\n",
    "dit_interp = 5\n",
    "U_list = [U[i,:] for i in range(1,Nit,dit_interp)]\n",
    "\n",
    "with Pool(nprocesses) as p:\n",
    "    Uitp = [Uitp0] + list(tqdm(p.imap(interpPlot, U_list), total=len(U_list)))"
   ]
  },
  {
   "cell_type": "code",
   "execution_count": 20,
   "metadata": {},
   "outputs": [],
   "source": [
    "fig, ax = plt.subplots()\n",
    "ax.set_aspect(\"equal\", \"box\")\n",
    "\n",
    "# plotMeshLimits(elements, ax)\n",
    "\n",
    "umin = min(U.min(), -U.max())/3\n",
    "\n",
    "dots = ax.scatter(X, Y, c=Uitp[0], zorder=4, cmap=\"seismic\", vmin=umin, vmax=-umin, marker=\",\")\n",
    "\n",
    "cbar = plt.colorbar(dots)\n",
    "\n",
    "ttl = ax.annotate(\"it = 0\", xy=(0.05, 0.05), xycoords='axes fraction', bbox=dict(facecolor='white', edgecolor='grey'), zorder=5)\n",
    "\n",
    "dit = 2\n",
    "\n",
    "def animate(i):\n",
    "    dots.set_array(Uitp[dit*i])\n",
    "    cbar.update_normal(dots)\n",
    "    ttl.set_text(f\"it = {dit_interp*dit*i}\")\n",
    "    return dots,ttl,\n",
    "\n",
    "ani = animation.FuncAnimation(fig, animate, interval=100, blit=True, frames = len(Uitp))\n",
    "\n",
    "ani.event_source.start()\n",
    "\n",
    "plt.show()"
   ]
  },
  {
   "cell_type": "code",
   "execution_count": null,
   "metadata": {},
   "outputs": [],
   "source": []
  }
 ],
 "metadata": {
  "interpreter": {
   "hash": "47558f5d1345b312ea7cbe4d32be71183e95bb01b25d23a408d164bfdcf9fcf4"
  },
  "kernelspec": {
   "display_name": "Python 3.8.8 64-bit ('base': conda)",
   "language": "python",
   "name": "python3"
  },
  "language_info": {
   "codemirror_mode": {
    "name": "ipython",
    "version": 3
   },
   "file_extension": ".py",
   "mimetype": "text/x-python",
   "name": "python",
   "nbconvert_exporter": "python",
   "pygments_lexer": "ipython3",
   "version": "3.8.8"
  },
  "orig_nbformat": 4
 },
 "nbformat": 4,
 "nbformat_minor": 2
}
