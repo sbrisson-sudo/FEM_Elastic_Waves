{
 "cells": [
  {
   "cell_type": "code",
   "execution_count": 1,
   "metadata": {},
   "outputs": [],
   "source": [
    "%load_ext autoreload\n",
    "%autoreload 2"
   ]
  },
  {
   "cell_type": "code",
   "execution_count": 12,
   "metadata": {},
   "outputs": [
    {
     "name": "stdout",
     "output_type": "stream",
     "text": [
      "Code parallelized with 12 processes.\n"
     ]
    }
   ],
   "source": [
    "import numpy as np\n",
    "import matplotlib.pyplot as plt\n",
    "from tqdm import tqdm\n",
    "\n",
    "from multiprocess import Pool, cpu_count\n",
    "\n",
    "from fem2D import *\n",
    "from squareMesh import squareMesh\n",
    "\n",
    "nprocesses = cpu_count()\n",
    "print(f\"Code parallelized with {nprocesses} processes.\")"
   ]
  },
  {
   "cell_type": "code",
   "execution_count": 3,
   "metadata": {},
   "outputs": [
    {
     "name": "stdout",
     "output_type": "stream",
     "text": [
      "dof=121\n"
     ]
    }
   ],
   "source": [
    "# construction du maillage\n",
    "\n",
    "L = 100.0   # square size\n",
    "dx = 10.0    # elements size\n",
    "\n",
    "eraseCurrentMesh()\n",
    "\n",
    "elements, nodes = squareMesh(L,dx)\n",
    "\n",
    "dof = len(nodes)\n",
    "print(f\"{dof=}\")"
   ]
  },
  {
   "cell_type": "code",
   "execution_count": 4,
   "metadata": {},
   "outputs": [
    {
     "data": {
      "text/plain": [
       "<AxesSubplot:>"
      ]
     },
     "execution_count": 4,
     "metadata": {},
     "output_type": "execute_result"
    },
    {
     "data": {
      "image/png": "[encoded data removed]",
      "text/plain": [
       "<Figure size 432x432 with 1 Axes>"
      ]
     },
     "metadata": {
      "needs_background": "light"
     },
     "output_type": "display_data"
    }
   ],
   "source": [
    "plotMesh(elements, nodes, [2,3,4,5])"
   ]
  },
  {
   "cell_type": "code",
   "execution_count": 5,
   "metadata": {},
   "outputs": [],
   "source": [
    "# définition des interpolateurs (P1 : linéaire) et de ses dérivées partielles\n",
    "\n",
    "Nelem = 4\n",
    "\n",
    "phi = [\n",
    "    lambda u,v : 0.25*(1-u)*(1-v), # (-1,-1)\n",
    "    lambda u,v : 0.25*(1+u)*(1-v), # (+1,-1)\n",
    "    lambda u,v : 0.25*(1+u)*(1+v), # (+1,+1)\n",
    "    lambda u,v : 0.25*(1-u)*(1+v), # (-1,+1)\n",
    "]\n",
    "\n",
    "duphi = [\n",
    "        lambda u,v : -0.25*(1-v),   # (-1,-1)\n",
    "        lambda u,v : 0.25*(1-v),    # (+1,-1)\n",
    "        lambda u,v : 0.25*(1+v),   # (-1,+1)\n",
    "        lambda u,v : -0.25*(1+v),   # (+1,+1)\n",
    "]\n",
    "dvphi = [\n",
    "        lambda u,v : -0.25*(1-u),   # (-1,-1)\n",
    "        lambda u,v : -0.25*(1+u),   # (+1,-1)\n",
    "        lambda u,v : 0.25*(1+u),    # (-1,+1)\n",
    "        lambda u,v : 0.25*(1-u),    # (+1,+1)\n",
    "]\n",
    "\n",
    "gradphi = [\n",
    "        lambda u,v: np.array([duphi[i](u,v), dvphi[i](u,v)])\n",
    "        for i in range(4)\n",
    "]\n",
    "\n",
    "# fonction retournant l'interpolateur selon les 4 fonctions phi pour les 4 valeurs aux noeuds X\n",
    "def interp(phiList, X):\n",
    "    return lambda u,v : sum([phi(u,v)*x for phi,x in zip(phiList, X)])"
   ]
  },
  {
   "cell_type": "code",
   "execution_count": 6,
   "metadata": {},
   "outputs": [],
   "source": [
    "# Pour chaque élément calcul:\n",
    "# - du jacobien\n",
    "# - de l'inverse de la matrice jacobienne\n",
    "\n",
    "for e in elements:\n",
    "\n",
    "    coords = e.getCoords()\n",
    "    X, Y = coords[:,0], coords[:,1]\n",
    "\n",
    "    dxdu = interp(duphi, X)\n",
    "    dxdv = interp(dvphi, X)        \n",
    "    dydu = interp(duphi, Y)\n",
    "    dydv = interp(dvphi, Y)\n",
    "    \n",
    "    e.detJ = lambda u,v : dxdu(u,v)*dydv(u,v) - dxdv(u,v)*dydu(u,v)\n",
    "\n",
    "    e.iJ = lambda u,v :  np.array(\n",
    "        [[dydv(u,v), -dydu(u,v)],\n",
    "        [-dxdv(u,v), dxdu(u,v)]]\n",
    "    )/e.detJ(u,v)"
   ]
  },
  {
   "cell_type": "code",
   "execution_count": 7,
   "metadata": {},
   "outputs": [],
   "source": [
    "# Détermination d'une règle de quadrature \n",
    "\n",
    "# nombre de points de quadrature (par dimension)\n",
    "Nquad = 6\n",
    "\n",
    "# importation poids et abscices Gauss-Legendre\n",
    "data = np.loadtxt(f\"../quadratureRules/gl_{Nquad:02d}.tab\")\n",
    "w_i, xi_i = data[:,0], data[:,1] \n",
    "\n",
    "# Compute the 2D integral of f(u,v) over [-1,1]x[-1,1]\n",
    "\n",
    "int2D = lambda f: sum([ sum([w1*w2 * f(xi1, xi2) for xi1,w1 in zip(xi_i, w_i)]) for xi2,w2 in zip(xi_i, w_i)])"
   ]
  },
  {
   "cell_type": "code",
   "execution_count": 8,
   "metadata": {},
   "outputs": [
    {
     "data": {
      "text/plain": [
       "array([[11.61490683,  2.04968944,  0.        ],\n",
       "       [ 2.04968944, 11.61490683,  0.        ],\n",
       "       [ 0.        ,  0.        ,  4.7826087 ]])"
      ]
     },
     "execution_count": 8,
     "metadata": {},
     "output_type": "execute_result"
    }
   ],
   "source": [
    "# Détermination des coefficients de Lamé\n",
    "\n",
    "# pour du béton en compression\n",
    "Young = 11\n",
    "Poisson = 0.15\n",
    "\n",
    "lambda_coef = (Young*Poisson) / ((1+Poisson)*(1-2*Poisson))\n",
    "mu_coef = Young / (2*(1+Poisson))\n",
    "\n",
    "D = np.array([[lambda_coef + 2*mu_coef, lambda_coef, 0], [lambda_coef, lambda_coef + 2*mu_coef, 0], [0, 0, mu_coef]])\n",
    "D"
   ]
  },
  {
   "cell_type": "code",
   "execution_count": 9,
   "metadata": {},
   "outputs": [
    {
     "name": "stderr",
     "output_type": "stream",
     "text": [
      "100%|██████████| 100/100 [00:00<00:00, 15560.39it/s]\n"
     ]
    }
   ],
   "source": [
    "# Détermination des matrices pour l'élasticité\n",
    "for e in tqdm(elements):\n",
    "    \n",
    "    BN1, BN2, BN3 = [], [], []\n",
    "    for a in range(Nelem):\n",
    "        BN1.extend([lambda u,v: e.iJ(u,v)[0,:]@gradphi[a](u,v), lambda u,v: 0])\n",
    "        BN2.extend([lambda u,v: 0, lambda u,v: e.iJ(u,v)[1,:]@gradphi[a](u,v)])\n",
    "        BN3.extend([lambda u,v: e.iJ(u,v)[0,:]@gradphi[a](u,v)/2, lambda u,v: e.iJ(u,v)[1,:]@gradphi[a](u,v)/2])\n",
    "    e.BN = np.array([BN1, BN2, BN3], dtype=object)"
   ]
  },
  {
   "cell_type": "code",
   "execution_count": 10,
   "metadata": {},
   "outputs": [
    {
     "data": {
      "text/plain": [
       "(8, 3)"
      ]
     },
     "execution_count": 10,
     "metadata": {},
     "output_type": "execute_result"
    }
   ],
   "source": [
    "elements[4].BN.transpose().shape"
   ]
  },
  {
   "cell_type": "code",
   "execution_count": 13,
   "metadata": {},
   "outputs": [
    {
     "name": "stderr",
     "output_type": "stream",
     "text": [
      "100%|██████████| 100/100 [00:18<00:00,  5.48it/s]\n"
     ]
    }
   ],
   "source": [
    "# Calcul des matrices élémentaires locales -> à optimiser\n",
    "\n",
    "def computeKe(e):\n",
    "    \n",
    "    e.Ke = np.zeros((8,8))\n",
    "    \n",
    "    for i in range(8):\n",
    "        for j in range(8):\n",
    "\n",
    "            fk = lambda u,v: sum(sum( e.BN.transpose()[i,k](u,v) * D[k,h] * e.BN[h,j](u,v) *e.detJ(u,v) for k in range(3)) for h in range(3))\n",
    "            e.Ke[i,j] = int2D(fk)\n",
    "            \n",
    "    return e\n",
    "\n",
    "with Pool(nprocesses) as p:\n",
    "    Element.id = 0\n",
    "    elements = list(tqdm(p.imap(computeKe, elements), total=len(elements)))"
   ]
  },
  {
   "cell_type": "code",
   "execution_count": 15,
   "metadata": {},
   "outputs": [],
   "source": [
    "# Calcule des matrices globales -> à optimiser\n",
    "K = np.zeros((2*dof,2*dof))\n",
    "\n",
    "for e in elements:\n",
    "    for (i,n1) in enumerate(e.nodes):\n",
    "        for (j,n2) in enumerate(e.nodes):\n",
    "            \n",
    "            K[2*(n1.id-1),2*(n2.id-1)] += e.Ke[2*i,2*j]\n",
    "            K[2*(n1.id-1),2*(n2.id-1)+1] += e.Ke[2*i,2*j+1]\n",
    "            K[2*(n1.id-1)+1,2*(n2.id-1)] += e.Ke[2*i+1,2*j]\n",
    "            K[2*(n1.id-1)+1,2*(n2.id-1)+1] += e.Ke[2*i+1,2*j+1]"
   ]
  },
  {
   "cell_type": "code",
   "execution_count": 16,
   "metadata": {},
   "outputs": [
    {
     "data": {
      "text/plain": [
       "<matplotlib.colorbar.Colorbar at 0x7fcbcde38e80>"
      ]
     },
     "execution_count": 16,
     "metadata": {},
     "output_type": "execute_result"
    },
    {
     "data": {
      "image/png": "[encoded data removed]",
      "text/plain": [
       "<Figure size 432x288 with 2 Axes>"
      ]
     },
     "metadata": {
      "needs_background": "light"
     },
     "output_type": "display_data"
    }
   ],
   "source": [
    "plt.imshow(K, vmin=-1, vmax=2)\n",
    "plt.colorbar()"
   ]
  },
  {
   "cell_type": "code",
   "execution_count": 17,
   "metadata": {},
   "outputs": [],
   "source": [
    "# Conditions aux limites\n",
    "\n",
    "F = np.zeros(2*dof)\n",
    "boundary = 2\n",
    "boundary_list = []\n",
    "shift = [1, 0]\n",
    "\n",
    "for n in nodes:\n",
    "    if n.region == boundary:\n",
    "        #K[n.id-1,:] = 0\n",
    "        #K[n.id-1, n.id-1] = 1\n",
    "        F[2*(n.id-1)] = shift[0]\n",
    "        F[2*(n.id-1)+1] = shift[1]"
   ]
  },
  {
   "cell_type": "code",
   "execution_count": 18,
   "metadata": {},
   "outputs": [
    {
     "ename": "LinAlgError",
     "evalue": "Singular matrix",
     "output_type": "error",
     "traceback": [
      "\u001b[0;31m---------------------------------------------------------------------------\u001b[0m",
      "\u001b[0;31mLinAlgError\u001b[0m                               Traceback (most recent call last)",
      "\u001b[0;32m/tmp/ipykernel_27015/3438598298.py\u001b[0m in \u001b[0;36m<module>\u001b[0;34m\u001b[0m\n\u001b[1;32m      1\u001b[0m \u001b[0;31m# Résolution du système\u001b[0m\u001b[0;34m\u001b[0m\u001b[0;34m\u001b[0m\u001b[0;34m\u001b[0m\u001b[0m\n\u001b[1;32m      2\u001b[0m \u001b[0;34m\u001b[0m\u001b[0m\n\u001b[0;32m----> 3\u001b[0;31m \u001b[0mU\u001b[0m \u001b[0;34m=\u001b[0m \u001b[0mnp\u001b[0m\u001b[0;34m.\u001b[0m\u001b[0mlinalg\u001b[0m\u001b[0;34m.\u001b[0m\u001b[0msolve\u001b[0m\u001b[0;34m(\u001b[0m\u001b[0mK\u001b[0m\u001b[0;34m,\u001b[0m \u001b[0mF\u001b[0m\u001b[0;34m)\u001b[0m\u001b[0;34m\u001b[0m\u001b[0;34m\u001b[0m\u001b[0m\n\u001b[0m",
      "\u001b[0;32m<__array_function__ internals>\u001b[0m in \u001b[0;36msolve\u001b[0;34m(*args, **kwargs)\u001b[0m\n",
      "\u001b[0;32m~/anaconda3/lib/python3.8/site-packages/numpy/linalg/linalg.py\u001b[0m in \u001b[0;36msolve\u001b[0;34m(a, b)\u001b[0m\n\u001b[1;32m    391\u001b[0m     \u001b[0msignature\u001b[0m \u001b[0;34m=\u001b[0m \u001b[0;34m'DD->D'\u001b[0m \u001b[0;32mif\u001b[0m \u001b[0misComplexType\u001b[0m\u001b[0;34m(\u001b[0m\u001b[0mt\u001b[0m\u001b[0;34m)\u001b[0m \u001b[0;32melse\u001b[0m \u001b[0;34m'dd->d'\u001b[0m\u001b[0;34m\u001b[0m\u001b[0;34m\u001b[0m\u001b[0m\n\u001b[1;32m    392\u001b[0m     \u001b[0mextobj\u001b[0m \u001b[0;34m=\u001b[0m \u001b[0mget_linalg_error_extobj\u001b[0m\u001b[0;34m(\u001b[0m\u001b[0m_raise_linalgerror_singular\u001b[0m\u001b[0;34m)\u001b[0m\u001b[0;34m\u001b[0m\u001b[0;34m\u001b[0m\u001b[0m\n\u001b[0;32m--> 393\u001b[0;31m     \u001b[0mr\u001b[0m \u001b[0;34m=\u001b[0m \u001b[0mgufunc\u001b[0m\u001b[0;34m(\u001b[0m\u001b[0ma\u001b[0m\u001b[0;34m,\u001b[0m \u001b[0mb\u001b[0m\u001b[0;34m,\u001b[0m \u001b[0msignature\u001b[0m\u001b[0;34m=\u001b[0m\u001b[0msignature\u001b[0m\u001b[0;34m,\u001b[0m \u001b[0mextobj\u001b[0m\u001b[0;34m=\u001b[0m\u001b[0mextobj\u001b[0m\u001b[0;34m)\u001b[0m\u001b[0;34m\u001b[0m\u001b[0;34m\u001b[0m\u001b[0m\n\u001b[0m\u001b[1;32m    394\u001b[0m \u001b[0;34m\u001b[0m\u001b[0m\n\u001b[1;32m    395\u001b[0m     \u001b[0;32mreturn\u001b[0m \u001b[0mwrap\u001b[0m\u001b[0;34m(\u001b[0m\u001b[0mr\u001b[0m\u001b[0;34m.\u001b[0m\u001b[0mastype\u001b[0m\u001b[0;34m(\u001b[0m\u001b[0mresult_t\u001b[0m\u001b[0;34m,\u001b[0m \u001b[0mcopy\u001b[0m\u001b[0;34m=\u001b[0m\u001b[0;32mFalse\u001b[0m\u001b[0;34m)\u001b[0m\u001b[0;34m)\u001b[0m\u001b[0;34m\u001b[0m\u001b[0;34m\u001b[0m\u001b[0m\n",
      "\u001b[0;32m~/anaconda3/lib/python3.8/site-packages/numpy/linalg/linalg.py\u001b[0m in \u001b[0;36m_raise_linalgerror_singular\u001b[0;34m(err, flag)\u001b[0m\n\u001b[1;32m     86\u001b[0m \u001b[0;34m\u001b[0m\u001b[0m\n\u001b[1;32m     87\u001b[0m \u001b[0;32mdef\u001b[0m \u001b[0m_raise_linalgerror_singular\u001b[0m\u001b[0;34m(\u001b[0m\u001b[0merr\u001b[0m\u001b[0;34m,\u001b[0m \u001b[0mflag\u001b[0m\u001b[0;34m)\u001b[0m\u001b[0;34m:\u001b[0m\u001b[0;34m\u001b[0m\u001b[0;34m\u001b[0m\u001b[0m\n\u001b[0;32m---> 88\u001b[0;31m     \u001b[0;32mraise\u001b[0m \u001b[0mLinAlgError\u001b[0m\u001b[0;34m(\u001b[0m\u001b[0;34m\"Singular matrix\"\u001b[0m\u001b[0;34m)\u001b[0m\u001b[0;34m\u001b[0m\u001b[0;34m\u001b[0m\u001b[0m\n\u001b[0m\u001b[1;32m     89\u001b[0m \u001b[0;34m\u001b[0m\u001b[0m\n\u001b[1;32m     90\u001b[0m \u001b[0;32mdef\u001b[0m \u001b[0m_raise_linalgerror_nonposdef\u001b[0m\u001b[0;34m(\u001b[0m\u001b[0merr\u001b[0m\u001b[0;34m,\u001b[0m \u001b[0mflag\u001b[0m\u001b[0;34m)\u001b[0m\u001b[0;34m:\u001b[0m\u001b[0;34m\u001b[0m\u001b[0;34m\u001b[0m\u001b[0m\n",
      "\u001b[0;31mLinAlgError\u001b[0m: Singular matrix"
     ]
    }
   ],
   "source": [
    "# Résolution du système\n",
    "\n",
    "U = np.linalg.solve(K, F)"
   ]
  },
  {
   "cell_type": "code",
   "execution_count": null,
   "metadata": {
    "scrolled": true
   },
   "outputs": [],
   "source": [
    "def plotNodesValues(U, nodes, ax):\n",
    "    dots = ax.scatter([n.x for n in nodes], [n.y for n in nodes], c=U, zorder=5)\n",
    "    plt.colorbar(dots)\n",
    "    ax.set_aspect(\"equal\", \"box\")\n",
    "    \n",
    "def plotMeshLimits(elements, ax):\n",
    "    for e in elements:\n",
    "        coords = e.getCoords()\n",
    "        ax.fill(coords[:,0], coords[:,1], facecolor=\"none\", ec=\"k\", zorder=1)"
   ]
  },
  {
   "cell_type": "code",
   "execution_count": null,
   "metadata": {},
   "outputs": [],
   "source": [
    "fig, ax = plt.subplots(figsize=(8,8))\n",
    "\n",
    "\n",
    "plotNodesValues(U, nodes, ax)\n",
    "plotMeshLimits(elements, ax)"
   ]
  },
  {
   "cell_type": "code",
   "execution_count": null,
   "metadata": {},
   "outputs": [],
   "source": [
    "def plotBourrin(U, elements, ax, mesh=False):\n",
    "        \n",
    "    u = np.linspace(-1, 1, 10)\n",
    "    uu, vv = np.meshgrid(u,u)\n",
    "    \n",
    "    vmin, vmax = U.min(), U.max()\n",
    "    \n",
    "    for e in elements:\n",
    "        \n",
    "        coords = e.getCoords()\n",
    "        X, Y = coords[:,0], coords[:,1]\n",
    "        \n",
    "        zitp = interp(phi, [U[n.id] for n in e.nodes])\n",
    "        xitp = interp(phi, X)\n",
    "        yitp = interp(phi, Y)\n",
    "        \n",
    "        Z = zitp(uu, vv)\n",
    "        X = xitp(uu, vv)\n",
    "        Y = yitp(uu, vv)\n",
    "        \n",
    "        dots = plt.scatter(X, Y, marker=\",\", c = Z, vmin=vmin, vmax=vmax)\n",
    "    \n",
    "    plt.colorbar(dots)\n",
    "    \n",
    "    if mesh:\n",
    "        for e in elements:\n",
    "            n1,n2,n3,n4 = e.nodes        \n",
    "            plt.plot([n1.x,n2.x], [n1.y,n2.y], \"k\", lw=0.5)\n",
    "            plt.plot([n2.x,n3.x], [n2.y,n3.y], \"k\", lw=0.5)\n",
    "            plt.plot([n3.x,n4.x], [n3.y,n4.y], \"k\", lw=0.5)\n",
    "            plt.plot([n4.x,n1.x], [n4.y,n1.y], \"k\", lw=0.5)\n",
    "    \n",
    "    ax.set_aspect(\"equal\", \"box\")        "
   ]
  },
  {
   "cell_type": "code",
   "execution_count": null,
   "metadata": {},
   "outputs": [],
   "source": [
    "fig, ax = plt.subplots(figsize=(8,8))\n",
    "\n",
    "plotBourrin(U, elements, ax)\n",
    "plotMeshLimits(elements, ax)"
   ]
  },
  {
   "cell_type": "code",
   "execution_count": null,
   "metadata": {},
   "outputs": [],
   "source": [
    "def quad2tri(e):\n",
    "    n0, n1, n2, n3 = e.nodes\n",
    "    return Element([n0, n1, n2]), Element([n2, n3, n0])\n",
    "\n",
    "def plotFemResults(nodes, elements, U, ax):\n",
    "    \n",
    "    ax.set_aspect(\"equal\", \"box\")        \n",
    "    \n",
    "    X = np.array([n.x for n in nodes])\n",
    "    Y = np.array([n.y for n in nodes])\n",
    "    elmtNodes = np.array([[n.id for n in e.nodes] for e in elements])\n",
    "    levels = np.linspace(U.min(), U.max(), 100)\n",
    "    \n",
    "    im = ax.tricontourf(X, Y, elmtNodes, U, levels=levels) \n",
    "    plt.colorbar(im)\n",
    "\n",
    "elementsTri = []\n",
    "for e in elements:\n",
    "    e1, e2 = quad2tri(e)\n",
    "    elementsTri.append(e1)\n",
    "    elementsTri.append(e2)\n",
    "\n",
    "\n",
    "fig,ax = plt.subplots(figsize=(8,8))\n",
    "\n",
    "plotFemResults(nodes, elementsTri, U, ax) \n",
    "plotMeshLimits(elements, ax)   "
   ]
  }
 ],
 "metadata": {
  "@webio": {
   "lastCommId": null,
   "lastKernelId": null
  },
  "interpreter": {
   "hash": "47558f5d1345b312ea7cbe4d32be71183e95bb01b25d23a408d164bfdcf9fcf4"
  },
  "kernelspec": {
   "display_name": "Python 3",
   "language": "python",
   "name": "python3"
  },
  "language_info": {
   "codemirror_mode": {
    "name": "ipython",
    "version": 3
   },
   "file_extension": ".py",
   "mimetype": "text/x-python",
   "name": "python",
   "nbconvert_exporter": "python",
   "pygments_lexer": "ipython3",
   "version": "3.8.8"
  }
 },
 "nbformat": 4,
 "nbformat_minor": 2
}
